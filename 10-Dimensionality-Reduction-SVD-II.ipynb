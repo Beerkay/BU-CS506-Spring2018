{
 "cells": [
  {
   "cell_type": "markdown",
   "metadata": {
    "slideshow": {
     "slide_type": "slide"
    }
   },
   "source": [
    "# Dimensionality Reduction - SVD II"
   ]
  },
  {
   "cell_type": "code",
   "execution_count": 1,
   "metadata": {
    "slideshow": {
     "slide_type": "skip"
    }
   },
   "outputs": [
    {
     "name": "stdout",
     "output_type": "stream",
     "text": [
      "\n"
     ]
    }
   ],
   "source": [
    "%matplotlib inline\n",
    "%config InlineBackend.figure_format='retina'\n",
    "# import libraries\n",
    "import numpy as np\n",
    "import matplotlib as mp\n",
    "import pandas as pd\n",
    "import matplotlib.pyplot as plt\n",
    "import pandas as pd\n",
    "import slideUtilities as sl\n",
    "import laUtilities as ut\n",
    "from importlib import reload\n",
    "from datetime import datetime\n",
    "from IPython.display import Image\n",
    "from IPython.display import display_html\n",
    "from IPython.display import display\n",
    "from IPython.display import Math\n",
    "from IPython.display import Latex\n",
    "from IPython.display import HTML\n",
    "print('')"
   ]
  },
  {
   "cell_type": "code",
   "execution_count": 2,
   "metadata": {
    "slideshow": {
     "slide_type": "skip"
    }
   },
   "outputs": [
    {
     "data": {
      "text/html": [
       "<style>\n",
       " .container.slides .celltoolbar, .container.slides .hide-in-slideshow {\n",
       "    display: None ! important;\n",
       "}\n",
       "</style>"
      ],
      "text/plain": [
       "<IPython.core.display.HTML object>"
      ]
     },
     "metadata": {},
     "output_type": "display_data"
    }
   ],
   "source": [
    "%%html\n",
    "<style>\n",
    " .container.slides .celltoolbar, .container.slides .hide-in-slideshow {\n",
    "    display: None ! important;\n",
    "}\n",
    "</style>"
   ]
  },
  {
   "cell_type": "markdown",
   "metadata": {
    "slideshow": {
     "slide_type": "skip"
    }
   },
   "source": [
    "%Set up useful MathJax (Latex) macros.\n",
    "%See http://docs.mathjax.org/en/latest/tex.html#defining-tex-macros\n",
    "%These are for use in the slideshow\n",
    "$\\newcommand{\\mat}[1]{\\left[\\begin{array}#1\\end{array}\\right]}$\n",
    "$\\newcommand{\\vx}{{\\mathbf x}}$\n",
    "$\\newcommand{\\hx}{\\hat{\\mathbf x}}$\n",
    "$\\newcommand{\\vbt}{{\\mathbf\\beta}}$\n",
    "$\\newcommand{\\vy}{{\\mathbf y}}$\n",
    "$\\newcommand{\\vz}{{\\mathbf z}}$\n",
    "$\\newcommand{\\R}{{\\mathbb{R}}}$\n",
    "$\\newcommand{\\vu}{{\\mathbf u}}$\n",
    "$\\newcommand{\\vv}{{\\mathbf v}}$\n",
    "$\\newcommand{\\vw}{{\\mathbf w}}$\n",
    "$\\newcommand{\\col}{{\\operatorname{Col}}}$\n",
    "$\\newcommand{\\nul}{{\\operatorname{Nul}}}$\n",
    "$\\newcommand{\\vb}{{\\mathbf b}}$\n",
    "$\\newcommand{\\va}{{\\mathbf a}}$\n",
    "$\\newcommand{\\ve}{{\\mathbf e}}$\n",
    "$\\newcommand{\\setb}{{\\mathcal{B}}}$\n",
    "$\\newcommand{\\rank}{{\\operatorname{rank}}}$\n",
    "$\\newcommand{\\vp}{{\\mathbf p}}$"
   ]
  },
  {
   "cell_type": "raw",
   "metadata": {
    "slideshow": {
     "slide_type": "skip"
    }
   },
   "source": [
    "\\newcommand{\\mat}[1]{\\left[\\begin{array}#1\\end{array}\\right]}\n",
    "\\newcommand{\\vx}{{\\mathbf x}}\n",
    "\\newcommand{\\hx}{\\hat{\\mathbf x}}\n",
    "\\newcommand{\\vbt}{{\\mathbf\\beta}}\n",
    "\\newcommand{\\vy}{{\\mathbf y}}\n",
    "\\newcommand{\\vz}{{\\mathbf z}}\n",
    "\\newcommand{\\vb}{{\\mathbf b}}\n",
    "\\newcommand{\\vu}{{\\mathbf u}}\n",
    "\\newcommand{\\vv}{{\\mathbf v}}\n",
    "\\newcommand{\\vw}{{\\mathbf w}}\n",
    "\\newcommand{\\va}{{\\mathbf a}}\n",
    "\\newcommand{\\ve}{{\\mathbf e}}\n",
    "\\newcommand{\\vp}{{\\mathbf p}}\n",
    "\\newcommand{\\R}{{\\mathbb{R}}}\n",
    "\\newcommand{\\col}{{\\operatorname{Col}}}\n",
    "\\newcommand{\\nul}{{\\operatorname{Nul}}}\n",
    "\\newcommand{\\rank}{{\\operatorname{rank}}}\n",
    "\\newcommand{\\setb}{{\\mathcal{B}}}"
   ]
  },
  {
   "cell_type": "markdown",
   "metadata": {
    "slideshow": {
     "slide_type": "slide"
    }
   },
   "source": [
    "In the last lecture we learned about the SVD as a tool for constructing low-rank matrices.\n",
    "\n",
    "Today we'll look at it as a way to transform our data objects."
   ]
  },
  {
   "cell_type": "markdown",
   "metadata": {
    "slideshow": {
     "slide_type": "fragment"
    }
   },
   "source": [
    "As a reminder, here is what the SVD looks like:"
   ]
  },
  {
   "cell_type": "markdown",
   "metadata": {
    "slideshow": {
     "slide_type": "-"
    }
   },
   "source": [
    "$$ \\mbox{objects}\\left\\{\\begin{array}{c}\\;\\\\\\;\\\\\\;\\\\\\;\\\\\\;\\end{array}\\right.\\;\\;\\overbrace{\\left[\\begin{array}{cccc}\\begin{array}{c}\\vdots\\\\\\vdots\\\\{\\bf a_1}\\\\\\vdots\\\\\\vdots\\end{array}&\\begin{array}{c}\\vdots\\\\\\vdots\\\\{\\bf a_2}\\\\\\vdots\\\\\\vdots\\end{array}&\\dots&\\begin{array}{c}\\vdots\\\\\\vdots\\\\{\\bf a_n}\\\\\\vdots\\\\\\vdots\\end{array}\\\\\\end{array}\\right]}^{\\mbox{features}} =\n",
    "\\overbrace{\\left[\\begin{array}{cc}\\vdots&\\vdots\\\\\\vdots&\\vdots\\\\\\sigma_1\\vu_1&\\sigma_k\\vu_k\\\\\\vdots&\\vdots\\\\\\vdots&\\vdots\\end{array}\\right]}^{\\large k}\n",
    "\\times\n",
    "\\left[\\begin{array}{ccccc}\\dots&\\dots&\\vv_1&\\dots&\\dots\\\\\\dots&\\dots&\\vv_k&\\dots&\\dots\\end{array}\\right]$$\n",
    "\n",
    "\n",
    "$$ A = U\\Sigma V^T$$"
   ]
  },
  {
   "cell_type": "markdown",
   "metadata": {
    "slideshow": {
     "slide_type": "fragment"
    }
   },
   "source": [
    "Notice that $U$ contains a row for each object.   \n",
    "\n",
    "In a sense we have transformed objects from an $n$ dimensional space to a $k$ dimensional space, where $k$ is (probably much) smaller than $n$."
   ]
  },
  {
   "cell_type": "markdown",
   "metadata": {
    "slideshow": {
     "slide_type": "fragment"
    }
   },
   "source": [
    "This suggests an idea: is there an __optimal__ transformation of the data into $k$ dimensions?\n",
    "    \n",
    "What would that mean?   \n",
    "\n",
    "One criterion: a transformation that captures the maximum __variance__ in the data."
   ]
  },
  {
   "cell_type": "code",
   "execution_count": 3,
   "metadata": {
    "slideshow": {
     "slide_type": "fragment"
    }
   },
   "outputs": [
    {
     "data": {
      "image/png": "[encoded data removed]",
      "text/plain": [
       "<matplotlib.figure.Figure at 0x10f71e0b8>"
      ]
     },
     "metadata": {
      "image/png": {
       "height": 344,
       "width": 352
      }
     },
     "output_type": "display_data"
    }
   ],
   "source": [
    "n_samples = 500\n",
    "C = np.array([[0.1, 0.6], [2., .6]])\n",
    "X = np.random.randn(n_samples, 2) @ C + np.array([-6, 3])\n",
    "ax = ut.plotSetup(-10,10,-10,10,(6,6))\n",
    "ut.centerAxes(ax)\n",
    "plt.axis('equal')\n",
    "_ = plt.scatter(X[:, 0], X[:, 1], s=10, alpha=0.8)"
   ]
  },
  {
   "cell_type": "markdown",
   "metadata": {
    "slideshow": {
     "slide_type": "fragment"
    }
   },
   "source": [
    "What would happen if we used SVD, and kept only rank-1 approximation to the data?\n",
    "\n",
    "This would be the 1-D __subspace__ that approximates the data best.   "
   ]
  },
  {
   "cell_type": "markdown",
   "metadata": {
    "slideshow": {
     "slide_type": "fragment"
    }
   },
   "source": [
    "However the variance in the data is defined with respect to the data mean, so we need to mean-center the data first, before using SVD.\n",
    "\n",
    "That is, SVD in this case finds the best 1-D subspace, not the best line though the data (which might not pass through the origin)."
   ]
  },
  {
   "cell_type": "markdown",
   "metadata": {
    "slideshow": {
     "slide_type": "fragment"
    }
   },
   "source": [
    "So to capture the best line through the data, we first move the data points to the origin:"
   ]
  },
  {
   "cell_type": "code",
   "execution_count": 4,
   "metadata": {
    "scrolled": true,
    "slideshow": {
     "slide_type": "fragment"
    }
   },
   "outputs": [
    {
     "data": {
      "image/png": "[encoded data removed]",
      "text/plain": [
       "<matplotlib.figure.Figure at 0x1151105c0>"
      ]
     },
     "metadata": {
      "image/png": {
       "height": 344,
       "width": 352
      }
     },
     "output_type": "display_data"
    }
   ],
   "source": [
    "Xc = X - np.mean(X,axis=0)\n",
    "ax = ut.plotSetup(-10,10,-10,10,(6,6))\n",
    "ut.centerAxes(ax)\n",
    "plt.axis('equal')\n",
    "plt.scatter(X[:, 0], X[:, 1], s=10, alpha=0.8)\n",
    "_ = plt.scatter(Xc[:, 0], Xc[:, 1], s=10, alpha=0.8, color='r')"
   ]
  },
  {
   "cell_type": "markdown",
   "metadata": {
    "slideshow": {
     "slide_type": "fragment"
    }
   },
   "source": [
    "Now let's construct the best 1-D approximation of the mean-centered data:"
   ]
  },
  {
   "cell_type": "code",
   "execution_count": 5,
   "metadata": {
    "scrolled": true,
    "slideshow": {
     "slide_type": "fragment"
    }
   },
   "outputs": [
    {
     "data": {
      "image/png": "[encoded data removed]",
      "text/plain": [
       "<matplotlib.figure.Figure at 0x11513bef0>"
      ]
     },
     "metadata": {
      "image/png": {
       "height": 452,
       "width": 464
      }
     },
     "output_type": "display_data"
    }
   ],
   "source": [
    "u, s, vt = np.linalg.svd(Xc,full_matrices=False)\n",
    "scopy = s.copy()\n",
    "scopy[1] = 0.\n",
    "reducedX = u @ np.diag(scopy) @ vt\n",
    "ax = ut.plotSetup(-10,10,-10,10,(8,8))\n",
    "ut.centerAxes(ax)\n",
    "plt.axis('equal')\n",
    "plt.scatter(Xc[:,0],Xc[:,1], color='r')\n",
    "plt.scatter(reducedX[:,0], reducedX[:,1])\n",
    "endpoints = np.array([[-10],[10]]) @ vt[[0],:]\n",
    "_ = plt.plot(endpoints[:,0], endpoints[:,1], 'g-')"
   ]
  },
  {
   "cell_type": "markdown",
   "metadata": {},
   "source": [
    "__Top Hat Question__: How can we quickly computer, from the SVD, the coefficient of a the projection particular point $x_i$ onto the line spanned by the first signular vector $v_1$?\n",
    "\n",
    "a) $\\sigma_1$\n",
    "\n",
    "b) $u_{i,1}$\n",
    "\n",
    "c) $v_{i,1}$\n",
    "\n",
    "d) $\\sigma_1 u_{i,1}$\n",
    "\n",
    "e) None of the above\n"
   ]
  },
  {
   "cell_type": "markdown",
   "metadata": {
    "slideshow": {
     "slide_type": "slide"
    }
   },
   "source": [
    "This method is called __Principal Component Analysis.__\n",
    "\n",
    "In summary, PCA consists of:\n",
    "\n",
    "1. Mean center the data, and\n",
    "2. Reduce the dimension of the mean-centered data via SVD."
   ]
  },
  {
   "cell_type": "markdown",
   "metadata": {
    "slideshow": {
     "slide_type": "fragment"
    }
   },
   "source": [
    "This is equivalent to projecting the data onto the subspace that captures the maximum variance in the data."
   ]
  },
  {
   "cell_type": "markdown",
   "metadata": {
    "slideshow": {
     "slide_type": "fragment"
    }
   },
   "source": [
    "It winds up constructing the __best low dimensional approximation of the data.__"
   ]
  },
  {
   "cell_type": "markdown",
   "metadata": {
    "slideshow": {
     "slide_type": "fragment"
    }
   },
   "source": [
    "What are \"principal components\"?"
   ]
  },
  {
   "cell_type": "markdown",
   "metadata": {
    "slideshow": {
     "slide_type": "fragment"
    }
   },
   "source": [
    "These are nothing more than the columns of $U$ (or the rows of $V^T$).  Because they capture the direction of maximum variation, they are called \"principal\" components."
   ]
  },
  {
   "cell_type": "markdown",
   "metadata": {
    "slideshow": {
     "slide_type": "slide"
    }
   },
   "source": [
    "## Uses of PCA/SVD"
   ]
  },
  {
   "cell_type": "markdown",
   "metadata": {
    "slideshow": {
     "slide_type": "fragment"
    }
   },
   "source": [
    "There are many uses of PCA (and SVD).\n",
    "\n",
    "We'll cover three of the main uses:\n",
    "\n",
    "1. Visualization\n",
    "2. Denoising\n",
    "3. Anomaly Detection\n",
    "\n",
    "As already mentioned, SVD is also useful for data compression -- we won't discuss it in detail, but it is the principle behind audio and video compression (MP3s, HDTV, etc)."
   ]
  },
  {
   "cell_type": "markdown",
   "metadata": {
    "slideshow": {
     "slide_type": "slide"
    }
   },
   "source": [
    "## Visualization and Denoising -- Extended Example."
   ]
  },
  {
   "cell_type": "markdown",
   "metadata": {
    "slideshow": {
     "slide_type": "fragment"
    }
   },
   "source": [
    "We will study both visualization and denoising in the context of text processing."
   ]
  },
  {
   "cell_type": "markdown",
   "metadata": {
    "slideshow": {
     "slide_type": "fragment"
    }
   },
   "source": [
    "As we have seen, a common way to work with documents is using the bag-of-words model (perhaps considering n-grams), which results in a term-document matrix.\n",
    "\n",
    "Entries in the matrix are generally TF-IDF scores."
   ]
  },
  {
   "cell_type": "markdown",
   "metadata": {
    "slideshow": {
     "slide_type": "fragment"
    }
   },
   "source": [
    "Often, terms are correlated -- they appear together in combinations that suggest a certain \"concept\".\n",
    "\n",
    "That is, term-document matrices often show low effective rank -- many columns can be approximated as combinations of other columns."
   ]
  },
  {
   "cell_type": "markdown",
   "metadata": {
    "slideshow": {
     "slide_type": "fragment"
    }
   },
   "source": [
    "When PCA is used for dimensionality reduction of documents, it tends to to extract these \"concept\" vectors.\n",
    "\n",
    "The application of PCA to term-document matrices is called __Latent Semantic Analysis (LSA).__"
   ]
  },
  {
   "cell_type": "markdown",
   "metadata": {
    "collapsed": true,
    "slideshow": {
     "slide_type": "fragment"
    }
   },
   "source": [
    "Among other benefits, LSA can improve the performance of clustering of documents.\n",
    "\n",
    "This happens because the important concepts are captured in the most significant principal components."
   ]
  },
  {
   "cell_type": "markdown",
   "metadata": {
    "slideshow": {
     "slide_type": "slide"
    }
   },
   "source": [
    "## Data: 20 Newsgroups"
   ]
  },
  {
   "cell_type": "code",
   "execution_count": 6,
   "metadata": {
    "slideshow": {
     "slide_type": "fragment"
    }
   },
   "outputs": [],
   "source": [
    "from sklearn.datasets import fetch_20newsgroups\n",
    "\n",
    "categories = ['comp.os.ms-windows.misc', 'sci.space','rec.sport.baseball']\n",
    "news_data = fetch_20newsgroups(subset='train', categories=categories)"
   ]
  },
  {
   "cell_type": "code",
   "execution_count": 7,
   "metadata": {
    "slideshow": {
     "slide_type": "fragment"
    }
   },
   "outputs": [
    {
     "name": "stdout",
     "output_type": "stream",
     "text": [
      "['comp.os.ms-windows.misc', 'rec.sport.baseball', 'sci.space']\n",
      "[2 0 0 ... 2 1 2]\n"
     ]
    }
   ],
   "source": [
    "print(news_data.target_names)\n",
    "print(news_data.target)\n"
   ]
  },
  {
   "cell_type": "code",
   "execution_count": 8,
   "metadata": {},
   "outputs": [],
   "source": [
    "import nltk\n",
    "# You have to uncomment and run the following command once to download relevant packages\n",
    "# nltk.download() "
   ]
  },
  {
   "cell_type": "markdown",
   "metadata": {
    "slideshow": {
     "slide_type": "slide"
    }
   },
   "source": [
    "### Basic Clustering"
   ]
  },
  {
   "cell_type": "markdown",
   "metadata": {
    "slideshow": {
     "slide_type": "fragment"
    }
   },
   "source": [
    "To get started, let's compute tf-idf scores.\n",
    "\n",
    "Notice that we will let the tokenizer compute $n$-grams for $n=$1 and 2.  \n",
    "\n",
    "An $n$-gram is a set of $n$ consecutive terms.\n",
    "\n",
    "We'll compute a document-term matrix `dtm`."
   ]
  },
  {
   "cell_type": "code",
   "execution_count": 9,
   "metadata": {
    "slideshow": {
     "slide_type": "fragment"
    }
   },
   "outputs": [],
   "source": [
    "from sklearn.feature_extraction.text import TfidfVectorizer\n",
    "\n",
    "vectorizer = TfidfVectorizer(stop_words='english', min_df=4,max_df=0.8)\n",
    "dtm = vectorizer.fit_transform(news_data.data)"
   ]
  },
  {
   "cell_type": "code",
   "execution_count": 10,
   "metadata": {
    "scrolled": false,
    "slideshow": {
     "slide_type": "fragment"
    }
   },
   "outputs": [
    {
     "name": "stdout",
     "output_type": "stream",
     "text": [
      "<class 'scipy.sparse.csr.csr_matrix'> (1781, 9409)\n",
      "['00', '000', '0005', '0062', '0096b0f0', '00bjgood', '00mbstultz', '01', '0114', '01wb', '02', '02138', '023017', '024222', '03', '033', '0362', '03k', '04', '0400', '05', '051746', '06', '0688', '07', '08', '086', '09', '091051', '093231', '0_', '0a', '0b', '0c', '0d', '0e', '0ek', '0f', '0g', '0h', '0hd', '0i', '0iv', '0j', '0k', '0l', '0m', '0m75u', '0n', '0o', '0p', '0q', '0qax', '0qq', '0r', '0s', '0t', '0tbxn', '0tbxom', '0tq', '0tq6', '0u', '0v', '0va', '0w', '0x', '0y', '0z', '10', '100', '1000', '100m', '101', '101044', '102', '1024x768', '1024x768x256', '103', '104', '105', '106', '107', '108', '109', '11', '110', '1100', '111', '11181', '112', '113', '114', '115', '115313', '117', '118', '119', '11th', '12', '120', '1200', '120399', '121', '122', '123', '124', '125', '126', '127', '128', '1280x1024', '129', '13', '130', '131', '132', '133', '134', '135', '136', '137', '138', '139', '13p', '13q', '13qs', '13s', '14', '140', '1400', '141', '141824', '142', '143', '144', '14496', '145', '145s', '146', '14691229', '147', '148', '14853', '149', '14di', '15', '150', '1500', '151', '152', '153', '154', '155', '1550', '158', '15apr93', '15th', '16', '160', '1607', '161', '162', '164', '165', '16550', '167', '168730', '16m', '16mb', '17', '170', '170mb', '171', '172', '17301', '175', '176', '177', '17986', '18', '180', '18084tm', '182', '185', '186', '187', '188', '189', '19', '190', '192', '1933', '194', '195', '1950', '1957', '1958', '195853', '1960', '1960s', '1961', '1962', '1963', '1964', '1965', '1968', '1969', '197', '1970', '1971', '1972', '1973', '1975', '1976', '1977', '1979', '198', '1980', '1981', '1982', '1983', '1984', '1985', '1986', '1987', '1988', '1989', '199', '1990', '1991', '1992', '1993', '1993apr06', '1993apr12', '1993apr13', '1993apr14', '1993apr15', '1993apr16', '1993apr17', '1993apr18', '1993apr19', '1993apr2', '1993apr20', '1993apr21', '1993apr22', '1993apr23', '1993apr25', '1993apr26', '1993apr3', '1993apr5', '1993apr6', '1993e', '1994', '1995', '1996', '1999', '19th', '1_', '1a', '1b', '1c', '1d', '1d2', '1d3hz', '1d9', '1d9l', '1e', '1eq', '1eqtct', '1eqtm', '1f', '1f9', '1f9f8', '1f9f9f', '1f9l3', '1fp', '1fp4', '1fp4u', '1fpl', '1g', '1h', '1j', '1k', '1l', '1m', '1mb', '1n', '1o', '1oy', '1p', '1q', '1qkkodinn5f5', '1qr', '1qu8ud', '1qx', '1qy', '1r', '1r46o9inn14j', '1r6aqr', '1ri', '1s', '1st', '1t', '1t7', '1u', '1v', '1w', '1x', '1xl', '1xu', '1y', '1z', '1z4', '1z5', '1z6e', '1z6e1t', '1z6ei', '1z6ei0l', '20', '200', '2000', '2001', '2005', '201', '2010', '202', '2048', '204845', '205', '208', '209', '20mb', '20th', '21', '210', '211638', '212202', '213', '2130', '214', '216', '2178', '219', '22', '220', '221', '222', '223', '224', '225', '226', '227', '2291', '22di', '23', '230', '231', '232', '233', '234', '235', '23536', '235430', '236', '237', '238', '24', '240', '2400', '241', '243', '2436', '244', '245', '246', '249', '24939', '24e', '24g', '24th', '24x', '24xx', '25', '250', '252', '253', '254', '255', '256', '257', '258', '259', '25k', '26', '260', '261', '262', '264', '265', '267', '268', '2697', '27', '270', '272', '273', '274', '275', '276', '277', '278', '28', '280', '282', '284', '285', '286', '287', '288', '28th', '29', '290', '292', '293', '294', '295', '296', '297', '29848', '299', '2_', '2a', '2a42dubinski', '2b', '2c', '2d', '2d1', '2de145', '2di', '2dm75u', '2e', '2f', '2g', '2gt', '2h', '2hd', '2i', '2j', '2k', '2l', '2lk', '2m', '2mb', '2n', '2nd', '2o', '2p', '2pl', '2pm', '2pu', '2q', '2r', '2s', '2t', '2tct', '2tcv9', '2tcv9f0', '2tg', '2tm', '2u', '2ud', '2v', '2w', '2x', '2y', '2z', '30', '300', '3000', '3006', '301', '303', '30332', '304', '306', '308', '30th', '31', '310', '312', '313', '314', '315', '316', '318', '32', '320', '321', '324', '325', '327', '328', '32bit', '32m', '33', '330', '3300', '333', '334', '335', '336', '337', '339', '33mhz', '34', '343', '344', '345', '348', '34deg', '34l', '34r', '34s', '34u', '35', '350', '351', '3511', '3539', '354', '355', '3556', '356', '35611', '3578', '359', '35i', '35t', '36', '360', '361', '3610', '363', '364', '365', '366', '367', '368', '3684', '369', '37', '370', '373', '374', '375', '378', '38', '380', '381', '384', '386', '386dx', '386sx', '389', '39', '390', '391', '394', '3a', '3b', '3c', '3d', '3dy', '3e', '3f', '3g', '3h', '3hz', '3i', '3is', '3j', '3k', '3l', '3m', '3n', '3o', '3p', '3q', '3qs', '3r', '3r6', '3rd', '3s', '3t', '3tc', '3u', '3v', '3v9', '3v9f0', '3v9f9d', '3v9f9f9', '3v9f9f9f9f9', '3w', '3w2', '3w2tg', '3w2tm', '3x', '3y', '3z', '40', '400', '4000', '4001', '404', '405', '406', '407', '408', '41', '410', '411', '412', '415', '416', '42', '420', '422', '423', '424', '427', '428', '43', '430', '43011', '433', '435', '4368', '439', '44', '440', '442', '443', '444', '448', '45', '450', '453', '4544', '455', '458', '45u', '46', '460', '462', '464', '4650', '4656', '467', '469', '47', '471', '475', '476', '48', '480', '4800', '481', '482', '483', '486', '486dx', '487', '489', '49', '490', '4916384', '492', '498', '4_', '4a', '4b', '4c', '4d', '4e', '4f', '4g', '4h', '4i', '4j', '4k', '4l', '4m', '4mb', '4mn', '4n', '4o', '4p', '4q', '4r', '4s', '4t', '4tb', '4tbxom', '4th', '4u', '4v', '4w', '4wa', '4x', '4y', '4z', '50', '500', '5000', '500c', '503', '507', '508', '51', '510', '512', '514', '5145', '5148', '515', '517', '518', '51s', '52', '520', '525', '53', '530', '532', '534', '54', '542', '545', '546', '549', '54909', '54e', '55', '550', '552', '556', '56', '560', '5600', '562', '567', '57', '5700', '571', '5744', '575', '577', '578', '58', '580', '583', '586', '588', '59', '590', '594', '595', '596', '5_', '5a', '5at', '5c', '5d', '5e', '5e8', '5e9', '5f', '5g', '5g9', '5g9p', '5g9v', '5h', '5i', '5j', '5k', '5l', '5m', '5mb', '5o', '5p', '5q', '5s', '5t', '5th', '5u', '5vz', '5w', '5x', '5z', '60', '600', '6000', '601', '602', '603', '604', '605', '606', '6097', '60s', '61', '610', '612', '614', '615', '616', '617', '619', '61d', '61d9', '62', '620', '621', '625', '628', '629', '63', '630', '631', '632', '635', '636', '637', '638', '639', '63q', '64', '640x480', '641', '643', '644', '646', '647', '649', '64k', '65', '650', '653', '655', '656', '657', '65k', '66', '661', '664', '666', '667', '66mhz', '67', '6700', '672', '675', '677', '678', '68', '680', '682', '685', '69', '692', '696', '697', '6_', '6a', '6b', '6c', '6d', '6do', '6dz', '6e', '6e1', '6e1t', '6ei', '6ei0l', '6ei4', '6ej', '6f', '6f1', '6g', '6h', '6i', '6j', '6k', '6l', '6m', '6n', '6o', '6p', '6q', '6q04', '6ql', '6r', '6s', '6t', '6th', '6u', '6ul4', '6um', '6un', '6v', '6w', '6x', '6y', '6z', '6zv82b2w165w', '70', '700', '7000', '701', '70262', '7029', '703', '708', '70s', '71', '711', '713', '714', '717', '72', '725', '728', '729', '72pl', '72r', '72z', '73', '734', '735027990', '74', '742', '743621', '744', '745', '7467', '747', '74u', '75', '750', '750d', '751', '752', '75di', '75u', '75u4', '75u9', '75z', '76', '764', '768', '77', '77058', '771', '77u', '78', '79', '790', '7909', '7951', '7975', '7_', '7a', '7ax', '7b', '7c', '7c0', '7d', '7e', '7ex', '7ey', '7ez', '7f', '7g', '7h', '7ha1', '7i', '7k', '7klj', '7kmzwt', '7kn', '7l', '7m', '7o', '7p', '7q', '7r', '7s', '7t', '7th', '7u', '7ut', '7v', '7v_', '7w', '7x', '7y', '7z', '80', '800', '80000', '800x600', '801', '803', '804', '80s', '81', '812', '813', '818', '8187', '82', '83', '84', '8424', '85', '850', '8514', '86', '860', '8655', '86deg', '86r', '87', '88', '89', '8900', '89i', '8_', '8a', '8ah', '8b', '8c', '8d', '8e', '8f', '8g', '8h', '8i', '8j', '8k', '8l', '8lt', '8ltq', '8ltq6', '8m', '8n', '8o', '8om', '8p', '8q', '8r', '8s', '8t', '8th', '8u', '8v', '8w', '8ws', '8x', '8y', '8z', '90', '900', '91', '91109', '914', '919', '92', '92093', '93', '93095', '9343', '94', '94305', '945', '95', '956', '958', '9591', '96', '9600', '965', '97', '973', '97330', '9760', '98', '985', '99', '99m', '9_', '9b', '9c', '9d', '9e', '9f', '9f0', '9f3t', '9f3w2', '9f8', '9f9', '9f9d', '9f9f', '9f9f0', '9f9f9', '9f9f9d', '9f9f9f', '9f9f9f9', '9f9f9f9d', '9f9f9f9f', '9f9f9f9f9f9', '9f9f9l3', '9f9fq', '9g', '9h', '9i', '9j', '9j5', '9k', '9l', '9l0q', '9l0qax', '9l2', '9l3', '9m', '9o', '9p', '9r', '9s', '9t', '9th', '9tj3', '9u', '9v', '9x', '9y', '9z', '_0', '_2', '_4', '_5', '_6', '_7u', '_8', '__', '___', '____', '_____', '________', '_________', '____________________________________________________________', '__________________________________________________________________________', '____________________________________________________________________________', '_______________________________________________________________________________', '__o', '_a', '_c', '_d', '_e', '_f', '_g', '_h', '_is_', '_l', '_m', '_n', '_not_', '_o', '_ovg', '_p', '_perijoves_', '_q', '_qy', '_r', '_s', '_t', '_the', '_u', '_v', '_w', '_without_', '_x', '_z', 'a0', 'a000', 'a04', 'a1', 'a2', 'a3', 'a4', 'a5', 'a6', 'a7', 'a8', 'a85', 'a86', 'a865', 'a86r', 'a87', 'a9', 'a945', 'a_', 'aa', 'aaa', 'aardvark', 'aaron', 'aas', 'ab', 'abandon', 'abbot', 'abbott', 'abbreviation', 'abdkw', 'abilities', 'ability', 'able', 'aboard', 'abs', 'absolute', 'absolutely', 'abstract', 'absurdity', 'abyss', 'ac', 'acad', 'acad3', 'academic', 'academy', 'acc', 'acceleration', 'accelerations', 'accelerator', 'accept', 'acceptable', 'accepted', 'access', 'accessed', 'accessible', 'accident', 'acclimated', 'accommodate', 'accompanied', 'accomplish', 'accomplished', 'accomplishments', 'according', 'account', 'accounting', 'accounts', 'accuracy', 'accurate', 'accurately', 'accused', 'ace', 'achieve', 'achieved', 'achieving', 'acid', 'ack', 'acker', 'acknowledge', 'acm', 'acme', 'acns', 'acpub', 'acquiring', 'acquisition', 'acronym', 'acs', 'act', 'acting', 'action', 'actions', 'activated', 'active', 'actively', 'activist', 'activities', 'activity', 'acts', 'actual', 'actually', 'ad', 'adam', 'adams', 'adapter', 'adaptor', 'add', 'added', 'adding', 'addison', 'addition', 'additional', 'address', 'addressed', 'addresses', 'addressing', 'adds', 'adelaide', 'adequate', 'adjusted', 'adjusting', 'adjustment', 'adjustments', 'admin', 'administration', 'administrative', 'administrator', 'admiral', 'admit', 'admitted', 'adobe', 'adress', 'ads', 'adult', 'advance', 'advanced', 'advancement', 'advances', 'advantage', 'advantages', 'advertisement', 'advertising', 'advice', 'advisory', 'advocacy', 'advocate', 'advocated', 'ae', 'aero', 'aerobraking', 'aeronautics', 'aerospace', 'aew', 'af', 'affect', 'affected', 'afford', 'afg', 'afit', 'afraid', 'africa', 'afternoon', 'ag', 'agate', 'agc', 'age', 'agencies', 'agency', 'agenda', 'agent', 'ages', 'aggravation', 'agian', 'ago', 'agree', 'agreed', 'agreement', 'ah', 'ahead', 'ahf', 'ahh', 'ahl', 'ai', 'aiaa', 'aid', 'aided', 'aimed', 'ain', 'aio', 'air', 'aircraft', 'airlg', 'airliners', 'airport', 'airwaves', 'aix', 'aiyar', 'aj', 'ajr', 'ajz', 'ak', 'ak333', 'al', 'ala', 'alabama', 'alan', 'alas', 'alaska', 'alavi', 'albany', 'albeit', 'albert', 'alberta', 'albnyvms', 'album', 'alcohol', 'alec', 'alee', 'alex', 'alexander', 'algorithm', 'algorithms', 'aliases', 'alicea', 'alien', 'aligned', 'alird', 'alive', 'alleg', 'alleged', 'allegheny', 'allen', 'allow', 'allowed', 'allowing', 'allows', 'almaden', 'alomar', 'alot', 'alpha', 'alphabetical', 'alphacdc', 'als', 'alt', 'alter', 'altered', 'alternate', 'alternative', 'altitude', 'altitudes', 'aluminum', 'amateur', 'amazed', 'amazing', 'ambitious', 'amd', 'amend', 'america', 'american', 'ames', 'amherst', 'ami', 'amipro', 'amounts', 'amsat', 'amsterdam', 'amv', 'analog', 'analogy', 'analyses', 'analysis', 'analyst', 'analyzed', 'ancient', 'andersen', 'anderson', 'andre', 'andres', 'andresen', 'andrew', 'andy', 'angeles', 'angels', 'angle', 'angles', 'angular', 'animal', 'animals', 'annese', 'announce', 'announced', 'announcement', 'announcers', 'annoyed', 'annoying', 'annual', 'anomaly', 'anonymous', 'answer', 'answered', 'answers', 'antarctic', 'antenna', 'anthony', 'anti', 'anybody', 'anymore', 'anytime', 'anyways', 'ao', 'ap', 'apana', 'apart', 'aperture', 'api', 'apollo', 'apologies', 'app', 'apparent', 'apparently', 'appear', 'appearance', 'appearances', 'appeared', 'appearing', 'appears', 'apple', 'applicable', 'application', 'applications', 'applied', 'applies', 'apply', 'appreciate', 'appreciated', 'appreciative', 'approach', 'approaches', 'approaching', 'appropriate', 'approval', 'approx', 'approximately', 'apps', 'apr', 'april', 'apt', 'aq', 'ar', 'arbitrary', 'arbitration', 'arc', 'archie', 'architecture', 'architectures', 'archive', 'archives', 'arden', 'ardua', 'area', 'areas', 'aren', 'argue', 'arguing', 'argument', 'arguments', 'ariane', 'arianespace', 'ariel', 'arise', 'arizona', 'arizvms', 'arlington', 'arm', 'army', 'arnold', 'arranged', 'array', 'arrays', 'arrive', 'arrived', 'arrow', 'art', 'arthur', 'article', 'articles', 'artificial', 'artin', 'arts', 'ascii', 'asd', 'ashok', 'aside', 'ask', 'asked', 'asking', 'asks', 'aspect', 'aspects', 'ass', 'assembled', 'assembly', 'assign', 'assist', 'assistant', 'associate', 'associated', 'association', 'assume', 'assumed', 'assumes', 'assuming', 'assumption', 'assumptions', 'asteroid', 'asteroids', 'astor', 'astra', 'astro', 'astronaut', 'astronautics', 'astronauts', 'astronomer', 'astronomers', 'astronomical', 'astronomy', 'astrophysical', 'astrophysics', 'astros', 'atc', 'ate', 'athena', 'athens', 'athlete', 'athletes', 'athletics', 'ati', 'atl', 'atlanta', 'atlantic', 'atlas', 'atleast', 'atm', 'atmanager', 'atmos', 'atmosphere', 'atmospheric', 'atomic', 'att', 'attached', 'attack', 'attempt', 'attempting', 'attempts', 'attend', 'attention', 'attitude', 'attraction', 'attractive', 'attributed', 'au', 'auburn', 'audience', 'audio', 'aug', 'august', 'aurora', 'auspices', 'austin', 'australia', 'author', 'authorities', 'authority', 'authors', 'auto', 'autoexec', 'automated', 'automatic', 'automatically', 'av', 'avail', 'availability', 'available', 'ave', 'avenue', 'average', 'averaged', 'averages', 'avg', 'aviation', 'avoid', 'aw', 'award', 'awards', 'aware', 'away', 'awesome', 'aweto', 'awful', 'aws', 'ax', 'ax2', 'axa12', 'axis', 'ay', 'az', 'b0', 'b1', 'b2', 'b3', 'b4', 'b4q', 'b5', 'b6', 'b7', 'b8', 'b8e', 'b8f', 'b8g', 'b9', 'b9r', 'b_', 'ba', 'baalke', 'babe', 'baby', 'babylon', 'bach', 'backers', 'background', 'backgrounds', 'backup', 'bacteria', 'bad', 'badly', 'baerga', 'baeyer', 'bag', 'bagwell', 'bailey', 'baker', 'balance', 'bald', 'ball', 'ballistic', 'balloon', 'balloons', 'ballpark', 'ballplayer', 'ballplayers', 'balls', 'ballyard', 'baltimore', 'band', 'bandwidth', 'bang', 'bangles', 'bank', 'banks', 'banned', 'banner', 'bar', 'barberie', 'barman', 'barnes', 'barrel', 'barring', 'barry', 'base', 'baseball', 'based', 'baseline', 'baseman', 'basemen', 'baserunners', 'baserunning', 'bases', 'bashed', 'basic', 'basically', 'basis', 'basketball', 'bass', 'bat', 'batch', 'bats', 'batted', 'batter', 'batters', 'battery', 'batting', 'battle', 'batty', 'baube', 'baud', 'bay', 'baylor', 'bb', 'bbddd', 'bbs', 'bby', 'bbzx', 'bc', 'bchm', 'bd', 'beach', 'beam', 'bear', 'beastmaster', 'beasts', 'beat', 'beaten', 'beating', 'beats', 'beautiful', 'beck', 'bedfellow', 'beer', 'began', 'begin', 'beginning', 'begins', 'begun', 'behalf', 'behavior', 'belated', 'belgium', 'belief', 'believe', 'believed', 'bell', 'belle', 'belmonte', 'belong', 'belongs', 'belt', 'bem', 'ben', 'bench', 'benchmark', 'benefit', 'benefits', 'benjamin', 'bennett', 'berg', 'berkeley', 'berlin', 'berman', 'bernard', 'bernstein', 'berryhill', 'best', 'bet', 'beta', 'better', 'beverage', 'beware', 'bf', 'bg', 'bgsu', 'bh', 'bhi', 'bhj', 'bhjn', 'bhjnux', 'bhjnuy', 'bi', 'biased', 'bichette', 'big', 'bigger', 'biggest', 'biggio', 'bigs', 'billboard', 'billboards', 'billion', 'billions', 'bills', 'billy', 'binary', 'biochem', 'biochemistry', 'biography', 'bios', 'bird', 'birds', 'bishop', 'bison', 'bit', 'bitmap', 'bitnet', 'bits', 'biz', 'bizarre', 'bizw', 'bizwt', 'bj', 'bj200', 'bk', 'bl', 'black', 'blah', 'blame', 'blamed', 'blaming', 'blank', 'blast', 'blauser', 'bleah', 'blew', 'blind', 'blip', 'block', 'blomberg', 'blood', 'blow', 'blowing', 'blown', 'blue', 'blues', 'blurb', 'blvd', 'bm', 'bmdhh286', 'bmp', 'bn', 'bnh', 'bnkjz', 'bnr', 'bnsc', 'bo', 'board', 'boards', 'bob', 'bobbing', 'bobby', 'boca', 'bode', 'bodies', 'body', 'boeing', 'boell', 'boggs', 'boi', 'boise', 'bolt', 'bomb', 'bond', 'bonds', 'bones', 'bongo', 'bonilla', 'bonus', 'book', 'books', 'boom', 'boone', 'boost', 'booster', 'boosters', 'boot', 'booth', 'bootup', 'borden', 'boring', 'borland', 'born', 'borrowed', 'bosco', 'bosox', 'boss', 'boston', 'bother', 'bought', 'boulder', 'bounce', 'bounces', 'bouncing', 'bound', 'bout', 'box', 'boxes', 'boy', 'bp', 'bps', 'bpu', 'bq', 'bql', 'br', 'brad', 'brader', 'bradley', 'brahms', 'brain', 'brains', 'branch', 'brandeis', 'bratt', 'brave', 'braves', 'bread', 'break', 'breaks', 'breakup', 'bream', 'breath', 'breathing', 'brendan', 'bret', 'brett', 'brewer', 'brewers', 'brian', 'brief', 'briefing', 'briefly', 'brigham', 'bright', 'brightness', 'bring', 'bringing', 'brings', 'british', 'broad', 'broadcast', 'brochure', 'broke', 'broken', 'bronx', 'brook', 'brookline', 'brooks', 'brother', 'brothers', 'brought', 'brown', 'browse', 'bruce', 'bruchner', 'brunel', 'bruno', 'brunswick', 'brute', 'bryan', 'bs', 'bs0t', 'bs0tq', 'bs0tq6', 'bs3', 'bsu', 'bsuvc', 'bt', 'btw', 'bu', 'bubblejet', 'buck', 'buckeridge', 'bucks', 'bucs', 'bud', 'buddy', 'budget', 'budgets', 'buffalo', 'bug', 'bugs', 'build', 'building', 'built', 'bulk', 'bull', 'bulletin', 'bullpen', 'bunch', 'burdett', 'bureau', 'burn', 'burnaby', 'burning', 'burst', 'burstein', 'bursters', 'bus', 'bush', 'business', 'businesses', 'busy', 'butler', 'butt', 'button', 'buttons', 'buy', 'buying', 'bv', 'bw', 'bx', 'bxlt', 'bxn', 'bxom', 'bye', 'byte', 'bytes', 'byu', 'bz', 'c0', 'c2', 'c3', 'c4', 'c4r', 'c4u', 'c5', 'c5de05a0', 'c5o1yq', 'c5t05k', 'c6', 'c7', 'c7ff', 'c8', 'c8v', 'c9', 'c_', 'ca', 'cabell', 'cable', 'cache', 'caches', 'cacs', 'cadlab', 'cae', 'cage', 'cal', 'calculate', 'calculated', 'calculation', 'calculations', 'calderon', 'calgary', 'caliber', 'calif', 'california', 'called', 'caller', 'calling', 'calls', 'calpoly', 'caltech', 'cam', 'cambridge', 'camden', 'came', 'camelot', 'camera', 'cameras', 'caminiti', 'camp', 'campaign', 'campanella', 'campbell', 'campus', 'canada', 'cancellation', 'candidate', 'candidates', 'candy', 'canon', 'canseco', 'canyon', 'cap', 'capabilities', 'capability', 'capable', 'capacity', 'cape', 'capital', 'caps', 'capsule', 'captain', 'capture', 'captured', 'car', 'carbon', 'card', 'cardinal', 'cardinals', 'cards', 'care', 'career', 'careers', 'careful', 'carefully', 'cares', 'carew', 'cargo', 'carl', 'carleton', 'carlos', 'carlosn', 'carlton', 'carnegie', 'carolina', 'carried', 'carries', 'carry', 'carrying', 'carter', 'cartridges', 'casares', 'casbah', 'case', 'cases', 'casey', 'cash', 'cassini', 'castillo', 'cat', 'catalog', 'catch', 'catcher', 'catchers', 'catching', 'categories', 'category', 'caterpillar', 'caught', 'cause', 'caused', 'causes', 'causing', 'caution', 'cb', 'cbis', 'cbnewsg', 'cc', 'cc_sysk', 'ccastco', 'ccd', 'ccit', 'cck', 'cco', 'ccs', 'ccsvax', 'cd', 'cda90038', 'cdc', 'cdy', 'ce', 'celestial', 'cem', 'centaur', 'center', 'centers', 'central', 'centre', 'century', 'ceo', 'certain', 'certainly', 'ces', 'cf', 'cfa', 'cg', 'ch', 'chahine', 'chain', 'chairman', 'challenge', 'challenger', 'chamberlain', 'champion', 'champions', 'champs', 'chance', 'chances', 'change', 'changed', 'changes', 'changing', 'channel', 'channels', 'chapel', 'chapter', 'chapters', 'character', 'characteristics', 'characters', 'charge', 'charged', 'charges', 'charles', 'charlie', 'charon', 'chart', 'che', 'cheap', 'cheaper', 'cheapest', 'cheaply', 'cheating', 'check', 'checked', 'checking', 'checks', 'cheers', 'chem', 'chemical', 'chemistry', 'chen', 'chest', 'chi', 'chiao', 'chicago', 'chicogo', 'chief', 'child', 'children', 'chinese', 'chip', 'chlorine', 'cho', 'chocolate', 'choice', 'choices', 'choke', 'choose', 'chop', 'chopped', 'chosen', 'chp', 'chris', 'christopher', 'chu', 'chuck', 'churchill', 'chz', 'chzd9', 'ci', 'ci2j', 'cica', 'cii', 'cim', 'cincinnati', 'circa', 'circuit', 'circular', 'circumference', 'circumstances', 'cirrus', 'cis', 'cisc', 'cit', 'cited', 'cities', 'citizen', 'citizens', 'city', 'civil', 'civilian', 'civilization', 'cj', 'cj1', 'ck', 'ck8', 'cka52397', 'cl', 'claebaur', 'claim', 'claimed', 'claiming', 'claims', 'claremont', 'clarification', 'clarify', 'clark', 'clarke', 'clarku', 'class', 'classes', 'classic', 'classical', 'claudio', 'clay', 'clayton', 'clean', 'cleaning', 'clear', 'cleared', 'clearly', 'clemens', 'clementine', 'cleveland', 'clever', 'click', 'client', 'cliff', 'clinton', 'clipper', 'clippers', 'clive', 'clobbered', 'clock', 'clone', 'close', 'closed', 'closely', 'closer', 'closes', 'closest', 'closeup', 'closing', 'cloud', 'clouds', 'clove', 'club', 'clubhouse', 'clubs', 'clue', 'clueless', 'clutch', 'cm', 'cmk', 'cmu', 'cn', 'coach', 'coaches', 'coast', 'cobb', 'code', 'coded', 'codes', 'coe', 'coffee', 'coffman', 'cogsci', 'cohen', 'col', 'cold', 'cole', 'coleman', 'coliseum', 'collapse', 'collect', 'collected', 'collecting', 'collection', 'college', 'colliding', 'collins', 'collision', 'colonies', 'colony', 'color', 'colorado', 'colors', 'colostate', 'colour', 'columbia', 'columbus', 'column', 'columns', 'com', 'com1', 'com2', 'com3', 'combination', 'combined', 'combo', 'comdex', 'come', 'comeback', 'comes', 'comet', 'comets', 'comfortable', 'coming', 'comiskey', 'comm', 'command', 'commander', 'commands', 'comment', 'commented', 'comments', 'commercial', 'commercially', 'commerical', 'commericial', 'commitment', 'committed', 'committee', 'common', 'commonly', 'commonwealth', 'communicate', 'communicating', 'communication', 'communications', 'community', 'comp', 'compact', 'companies', 'company', 'comparable', 'compare', 'compared', 'compares', 'comparing', 'comparison', 'comparisons', 'compatable', 'compatibility', 'compatible', 'compensate', 'compete', 'competent', 'competing', 'competition', 'competitive', 'compile', 'compiled', 'compiler', 'complain', 'complaining', 'complains', 'complaints', 'complete', 'completed', 'completely', 'completion', 'complex', 'complexity', 'complicated', 'component', 'components', 'composed', 'composites', 'composition', 'compress', 'compressed', 'compression', 'compton', 'compuserve', 'computation', 'compute', 'computed', 'computer', 'computers', 'computing', 'conceivable', 'concentrated', 'concept', 'concepts', 'concerned', 'concerning', 'concerns', 'concluded', 'conclusion', 'concordia', 'condition', 'conditions', 'condor', 'conducted', 'cone', 'conference', 'conferences', 'confernce', 'config', 'configuration', 'configure', 'configuring', 'confirm', 'confirmed', 'confused', 'confuses', 'confusing', 'confusion', 'congress', 'connect', 'connected', 'connection', 'connections', 'connects', 'connor', 'consecutive', 'conservative', 'consider', 'considerable', 'considerably', 'consideration', 'considered', 'considering', 'considers', 'consistent', 'consistently', 'consists', 'consrt', 'constant', 'constantinos', 'constantly', 'constants', 'constellation', 'constitutional', 'constraints', 'construction', 'consultant', 'consulting', 'consumables', 'consume', 'contact', 'contacted', 'contacting', 'contacts', 'contain', 'contained', 'containing', 'contains', 'contend', 'contenders', 'content', 'contention', 'contents', 'contest', 'context', 'contiguous', 'continental', 'continous', 'continue', 'continued', 'continues', 'continuin', 'continuing', 'continuously', 'contract', 'contractors', 'contracts', 'contractual', 'contrary', 'contrast', 'contribute', 'contributed', 'contributing', 'contribution', 'contributions', 'control', 'controlled', 'controller', 'controls', 'conventional', 'convert', 'converted', 'converter', 'converting', 'convex', 'convince', 'convinced', 'cook', 'cool', 'cooperation', 'cooperative', 'coordinate', 'coordinates', 'coordination', 'copies', 'copy', 'copying', 'copyright', 'core', 'corel', 'coreldraw', 'corelmark', 'cornell', 'corner', 'corners', 'corp', 'corporate', 'corporation', 'corps', 'correct', 'corrected', 'correction', 'corrections', 'correctly', 'correlation', 'correspondents', 'corresponding', 'corrupted', 'corruption', 'corvallis', 'cosmic', 'cosmos', 'cost', 'costar', 'costas', 'costing', 'costs', 'couldn', 'council', 'count', 'counted', 'counter', 'countries', 'country', 'county', 'couple', 'coupled', 'course', 'courtesy', 'cov', 'coventry', 'cover', 'coverage', 'covered', 'covering', 'covers', 'cox', 'cp', 'cpa', 'cps', 'cpu', 'cpus', 'cq', 'cr', 'cracking', 'cradle', 'craft', 'crafts', 'craig', 'crap', 'crash', 'crashed', 'crashes', 'crashing', 'crater', 'crazy', 'crchh7a9', 'create', 'created', 'creates', 'creating', 'creation', 'creations', 'creative', 'credit', 'credited', 'crew', 'cri', 'cries', 'crisis', 'critical', 'criticism', 'cross', 'crossing', 'crucial', 'cruise', 'crux', 'cruz', 'crying', 'cryptic', 'crystal', 'cs', 'cs902043', 'csc', 'csc2imd', 'csci', 'csd', 'csd4', 'cse', 'csie', 'csn', 'cso', 'cspara', 'ct', 'cti', 'ctl', 'ctrl', 'cts', 'cu', 'cub', 'cubic', 'cubs', 'cue', 'cultural', 'cummings', 'cup', 'cupertino', 'curiosity', 'curious', 'current', 'currently', 'cursed', 'cursor', 'curtis', 'custom', 'customer', 'customers', 'cut', 'cutoff', 'cuts', 'cutting', 'cv', 'cw', 'cwru', 'cx', 'cy', 'cycle', 'cygnus', 'cylinder', 'cynic', 'cynical', 'cz', 'd0', 'd1', 'd2', 'd2_', 'd3', 'd3hz', 'd3k', 'd4', 'd5', 'd6', 'd6f', 'd6g', 'd7', 'd8', 'd9', 'da', 'dabl2', 'dad', 'daily', 'dak988s', 'dakota', 'dal', 'dale', 'dalhousie', 'dallas', 'damage', 'damaged', 'dame', 'damn', 'damned', 'dan', 'dance', 'dandy', 'dangerous', 'dangers', 'dani', 'daniel', 'danny', 'dannyb', 'dante', 'dark', 'darkness', 'darn', 'darrell', 'darren', 'darryl', 'das', 'dat', 'data', 'database', 'databases', 'dataproducts', 'date', 'dates', 'daughter', 'daulton', 'dave', 'davewood', 'david', 'davis', 'daviss', 'dawson', 'day', 'daylight', 'days', 'daytime', 'dayton', 'db', 'db6', 'dbldisk', 'dbm0000', 'dc', 'dcx', 'dead', 'deadline', 'deal', 'dealing', 'deals', 'dean', 'dear', 'death', 'debate', 'debris', 'dec', 'decade', 'decades', 'deceleration', 'december', 'decent', 'decide', 'decided', 'decides', 'decision', 'decisions', 'deck', 'declared', 'declined', 'declining', 'decnet', 'decvax', 'dedicated', 'deep', 'deeper', 'deer', 'default', 'defenition', 'defense', 'defensive', 'defensively', 'define', 'defined', 'definitely', 'definition', 'defragment', 'defray', 'degree', 'degrees', 'deimos', 'deion', 'deja', 'del', 'delaware', 'delete', 'deleted', 'deleting', 'delino', 'delivered', 'delivery', 'delmarva', 'delta', 'deluca', 'demand', 'demanded', 'demers', 'demo', 'demon', 'demonstrate', 'demonstrated', 'demonstration', 'dennis', 'dennisn', 'dense', 'density', 'denver', 'department', 'depend', 'dependent', 'depending', 'depends', 'deployed', 'depressed', 'dept', 'depth', 'deputy', 'der', 'derby', 'derek', 'derived', 'des', 'descending', 'descends', 'described', 'describes', 'describing', 'description', 'deserts', 'deserve', 'deserves', 'deserving', 'deshields', 'design', 'designate', 'designated', 'designed', 'designing', 'designs', 'desirable', 'desire', 'desired', 'desk', 'deskjet', 'desktop', 'desktops', 'despite', 'destructive', 'detailed', 'details', 'detector', 'detectors', 'determination', 'determine', 'determined', 'detroit', 'detweiler', 'dev', 'develop', 'developed', 'developer', 'developers', 'developing', 'development', 'developments', 'device', 'devices', 'devineni', 'devon', 'devoted', 'dewinter', 'df', 'dfrf', 'dg', 'dh', 'di', 'diagram', 'dial', 'dialog', 'diameter', 'diamond', 'dick', 'did', 'didn', 'die', 'died', 'diego', 'dietz', 'diff', 'differ', 'difference', 'differences', 'different', 'differential', 'differently', 'difficult', 'difficulties', 'difficulty', 'dig', 'digest', 'digex', 'digital', 'dil', 'dillon', 'dime', 'dimensional', 'dimensions', 'dingers', 'dir', 'direct', 'direction', 'directional', 'directions', 'directly', 'director', 'directories', 'directory', 'dirty', 'dis', 'dis_pkt', 'disable', 'disabled', 'disagree', 'disappear', 'disappeared', 'disappears', 'disappointing', 'disappoints', 'disastrous', 'discharges', 'disclaimer', 'disclaimers', 'discount', 'discovered', 'discovery', 'discretionary', 'discrimination', 'discuss', 'discussed', 'discusses', 'discussion', 'discussions', 'dishard', 'disk', 'diskette', 'disks', 'display', 'displayed', 'displaying', 'displays', 'disposal', 'dispute', 'distance', 'distances', 'distant', 'distinguish', 'distortion', 'distressed', 'distribute', 'distributed', 'distribution', 'divided', 'divine', 'division', 'divisions', 'dj', 'djf', 'dk', 'dl', 'dle', 'dll', 'dm', 'dmcaloon', 'dmn', 'dn', 'dnv', 'doc', 'docking', 'document', 'documentation', 'documented', 'documents', 'dod', 'dodger', 'dodgers', 'doe', 'does', 'doesn', 'dog', 'dogs', 'doing', 'dokas', 'dollar', 'dollars', 'dolven', 'domain', 'dome', 'don', 'donald', 'donations', 'dong', 'dont', 'door', 'doppelganger', 'dos', 'dos6', 'dot', 'double', 'doubled', 'doubles', 'doublespace', 'doubt', 'doubted', 'doug', 'douglas', 'downey', 'downing', 'download', 'downloaded', 'downloading', 'downs', 'dozen', 'dp', 'dpi', 'dr', 'draft', 'drag', 'dragon', 'drake', 'draw', 'drawing', 'dream', 'dreams', 'drexel', 'drift', 'drink', 'drive', 'driven', 'driver', 'drivers', 'drives', 'driving', 'drop', 'dropped', 'dropping', 'drops', 'drove', 'drv', 'drw3l', 'dry', 'dryden', 'drying', 'ds', 'dseg', 'dsg', 'dsn', 'dswartz', 'dt', 'dtate', 'dtp', 'du', 'dual', 'dubinski', 'dubious', 'dublin', 'duc', 'dug', 'duh', 'duke', 'dumb', 'dump', 'dunn', 'dunno', 'duration', 'durham', 'dust', 'duty', 'dv', 'dw', 'dwarf', 'dwarner', 'dx', 'dx2', 'dy', 'dying', 'dykstra', 'dylan', 'dynamic', 'dynamics', 'dynamite', 'dz', 'e0', 'e1', 'e145', 'e14di', 'e14dm75u', 'e1t', 'e2', 'e4', 'e5', 'e7', 'e8', 'e9c', 'e9l0qax', 'e_', 'ea', 'eagles', 'earl', 'earlier', 'early', 'earn', 'earned', 'earnest', 'ears', 'earth', 'ease', 'easier', 'easily', 'east', 'eastern', 'eastgate', 'easy', 'eat', 'eb', 'ebosco', 'ec', 'eccentric', 'ece', 'ecf', 'echo', 'echonology', 'eckton', 'ecktons', 'ecn', 'eco', 'econ', 'economic', 'economical', 'economics', 'economy', 'ecs', 'ed', 'eddie', 'eder', 'edge', 'edges', 'edit', 'edited', 'editing', 'edition', 'editor', 'editors', 'edmoore', 'edo', 'edu', 'education', 'educational', 'edward', 'edwards', 'ee', 'eecg', 'eecs', 'ef', 'effect', 'effective', 'effectively', 'effectiveness', 'effects', 'efficiency', 'efficient', 'efficiently', 'effort', 'efforts', 'egalon', 'eh', 'ei', 'ei0l', 'ei0mfq', 'ei4', 'eid', 'eighth', 'eindhoven', 'einstein', 'eisa', 'ej', 'ek', 'el', 'elaborate', 'eldred', 'elected', 'electric', 'electrical', 'electronic', 'electronically', 'electronics', 'element', 'elements', 'eli', 'eliminate', 'elv', 'elvis', 'elwood', 'em', 'email', 'embed', 'embedded', 'emergency', 'emm386', 'emory', 'emphasis', 'employee', 'employees', 'employer', 'emr', 'emu', 'emulator', 'emx', 'en', 'enable', 'encoded', 'encounter', 'encountered', 'encourage', 'encouraged', 'end', 'endeavour', 'ended', 'ending', 'endor', 'ends', 'energetic', 'energia', 'energietechnik', 'energy', 'enfant', 'eng', 'engine', 'engineer', 'engineering', 'engineers', 'engines', 'england', 'english', 'engrg', 'enhanced', 'enhancement', 'enjoy', 'enjoying', 'enlighten', 'enormous', 'ensure', 'enter', 'entered', 'entering', 'enterprise', 'enterprises', 'entire', 'entirely', 'entitled', 'entries', 'entry', 'envelope', 'enviroment', 'environment', 'environmental', 'environments', 'enzo', 'eo', 'eos', 'eosvcr', 'ep', 'ephemeris', 'episode', 'epson', 'eq', 'equal', 'equally', 'equation', 'equations', 'equipment', 'equipped', 'equivalent', 'er', 'era', 'erected', 'eric', 'erickson', 'erics', 'ernie', 'error', 'errors', 'ers', 'es', 'esa', 'esc', 'eso', 'esoteric', 'esp', 'especially', 'espn', 'essence', 'essential', 'essentially', 'est', 'established', 'establishment', 'estimate', 'estimated', 'estimates', 'et', 'et4000', 'etdesg', 'eternal', 'etf', 'ether', 'ethic', 'ethics', 'etowrk', 'etrat', 'eu', 'eugene', 'europe', 'european', 'euv', 'ev', 'evaluate', 'evaluation', 'evaluations', 'evans', 'evening', 'event', 'events', 'eventually', 'everybody', 'everyday', 'everytime', 'evidence', 'evil', 'evolution', 'evsc', 'evz', 'ew', 'ex', 'exact', 'exactly', 'examined', 'example', 'examples', 'exceed', 'excel', 'excell', 'excellent', 'exception', 'exceptional', 'exceptions', 'excerpts', 'exchange', 'excited', 'exciting', 'excluded', 'exclusive', 'excuse', 'exe', 'executables', 'execute', 'executed', 'exist', 'existance', 'existed', 'existence', 'existing', 'exists', 'exit', 'exiting', 'expand', 'expanded', 'expansion', 'expect', 'expectations', 'expected', 'expendable', 'expending', 'expenditures', 'expense', 'expensive', 'experience', 'experienced', 'experiences', 'experiment', 'experimental', 'experimenters', 'experiments', 'experts', 'expiration', 'expires', 'explain', 'explained', 'explaining', 'explanation', 'explode', 'exploit', 'exploration', 'explore', 'explosion', 'explosive', 'export', 'expos', 'exposed', 'exposure', 'express', 'expressed', 'ext', 'extend', 'extended', 'extension', 'extensive', 'extent', 'external', 'extinguished', 'extra', 'extract', 'extreme', 'extremely', 'ey', 'eye', 'eyes', 'ez', 'ez027993', 'f0', 'f1', 'f2', 'f23', 'f3', 'f349', 'f3t', 'f3w2', 'f3w2tg', 'f4', 'f5', 'f6', 'f7', 'f8', 'f9', 'f9d', 'f9f9', 'f9f9f0', 'f9f9f3t', 'f9f9f9d', 'f9f9f9f9', 'f9f9f9f9f0', 'f9f9f9f9f9d', 'f_', 'fa', 'faa', 'fac', 'face', 'faced', 'faces', 'facilities', 'facility', 'facing', 'fact', 'factor', 'factors', 'facts', 'faculty', 'fahrenheit', 'fail', 'failed', 'fails', 'failure', 'failures', 'faint', 'fair', 'fairbanks', 'fairly', 'faith', 'fall', 'falling', 'falls', 'fame', 'famers', 'familiar', 'family', 'famous', 'fan', 'fanatic', 'fancy', 'fans', 'fantasy', 'faq', 'far', 'farley', 'farm', 'farr', 'farside', 'fascinating', 'fashion', 'fast', 'faster', 'fastest', 'fat', 'father', 'fathers', 'fault', 'faults', 'fav', 'favor', 'favorite', 'favorites', 'fax', 'fb', 'fc', 'fd', 'fdo', 'fdz', 'fe', 'fear', 'feared', 'feasability', 'feasibility', 'feasible', 'feat', 'feature', 'features', 'featuring', 'feb', 'february', 'fed', 'federal', 'fedex', 'fee', 'feed', 'feedback', 'feel', 'feeling', 'fees', 'feet', 'fei', 'fel', 'feldman', 'felix', 'fell', 'fellow', 'fellrath', 'felt', 'female', 'fence', 'fenway', 'fermented', 'fermi', 'fermilab', 'fernandez', 'fernando', 'fester', 'fever', 'fewer', 'ff', 'ff1', 'fg', 'fh', 'fi', 'fiasco', 'fiber', 'fiction', 'fido', 'fidonet', 'field', 'fielder', 'fielding', 'fields', 'fierkelab', 'fifth', 'fight', 'fighter', 'figure', 'figured', 'figures', 'figuring', 'fij', 'file', 'filemanager', 'filename', 'files', 'filled', 'filling', 'film', 'films', 'final', 'finally', 'financial', 'finding', 'finds', 'fine', 'fingers', 'finish', 'finished', 'finishing', 'finley', 'finnally', 'fired', 'firing', 'firm', 'firms', 'firsteps', 'fiscal', 'fischer', 'fish', 'fisk', 'fission', 'fit', 'fits', 'fix', 'fixed', 'fixes', 'fj', 'fk', 'fl', 'flame', 'flames', 'flanagan', 'flash', 'flaw', 'flawed', 'flb', 'fledgling', 'fleet', 'flew', 'flexible', 'flight', 'flights', 'flint', 'flip', 'floating', 'floor', 'floppies', 'floppy', 'florida', 'flow', 'flown', 'fls', 'fluid', 'fluids', 'fluke', 'fly', 'flyby', 'flybys', 'flying', 'fm', 'fn', 'fnal', 'fnalf', 'fng', 'fo', 'foci', 'focus', 'fold', 'folks', 'follow', 'followed', 'following', 'follows', 'followup', 'followups', 'font', 'fonts', 'food', 'fool', 'foolish', 'foot', 'football', 'force', 'forced', 'forces', 'forcing', 'foreign', 'foresight', 'forever', 'forget', 'forgot', 'forgotten', 'form', 'formal', 'format', 'formation', 'formats', 'formatting', 'formed', 'forms', 'formula', 'forrest', 'fort', 'forth', 'fortran', 'fortunate', 'fortunately', 'forum', 'forward', 'forwarded', 'foster', 'foul', 'foundation', 'founded', 'fourth', 'fox', 'foxx', 'fp', 'fq', 'fql', 'fr', 'fraction', 'fraering', 'frame', 'frames', 'framework', 'frameworks', 'francisco', 'frank', 'franklin', 'frankly', 'fraser', 'freaks', 'fred', 'fredericks', 'free', 'freebairn', 'freed', 'freedom', 'freely', 'freeman', 'freenet', 'freeware', 'freeze', 'fregosi', 'french', 'frequency', 'frequent', 'frequently', 'fresh', 'fri', 'friday', 'friend', 'friends', 'fringe', 'frog', 'frontier', 'frungy', 'frustrated', 'fryman', 'fs', 'fs7', 'fsu', 'fsx', 'ft', 'ftcollinsco', 'ftp', 'ftpmail', 'ftz', 'fu', 'fuel', 'fueled', 'fuess', 'fully', 'fun', 'function', 'functionality', 'functions', 'fund', 'fundamental', 'funded', 'funding', 'funds', 'funny', 'furthermore', 'fuselage', 'fusion', 'future', 'fuzzy', 'fv', 'fvmk', 'fw', 'fx', 'fy', 'fyl', 'fyn', 'fyw', 'fz', 'fz0', 'g0', 'g1', 'g2', 'g215a', 'g3', 'g4', 'g4p', 'g5', 'g6', 'g7', 'g8', 'g9', 'g9p', 'g9u', 'g9v', 'g_', 'ga', 'gabriel', 'gaetti', 'gagne', 'gain', 'gaining', 'gaj', 'gajarsky', 'galactic', 'galarraga', 'galaxies', 'galaxy', 'galileo', 'gals', 'game', 'games', 'gamma', 'gang', 'gant', 'gap', 'garbage', 'gardner', 'garnet', 'garrison', 'garvey', 'gary', 'gas', 'gate', 'gatech', 'gates', 'gateway', 'gather', 'gathered', 'gathering', 'gave', 'gb', 'gc', 'gd', 'ge', 'gee', 'geez', 'gehrels', 'gehrels3', 'gehrig', 'gem', 'gemini', 'gen', 'gene', 'general', 'generally', 'generate', 'generated', 'generates', 'generation', 'generic', 'generous', 'genetic', 'genius', 'geniuses', 'genral', 'geo', 'geochemical', 'geoffrey', 'geological', 'geology', 'geophysical', 'george', 'georgetown', 'georgia', 'geostationary', 'geosynchronous', 'gerald', 'german', 'germany', 'gerry', 'gestures', 'gets', 'getting', 'gf', 'gfk39017', 'gg', 'gg5u', 'gh', 'ghhwang', 'ghj', 'ghjn', 'ghost', 'ghostscript', 'gi', 'giant', 'giants', 'gibson', 'gif', 'gifs', 'gilkey', 'girl', 'given', 'gives', 'giving', 'givinh', 'giz', 'gizw', 'gizwt', 'gj', 'gk', 'gl', 'glad', 'glavine', 'glenn', 'glitch', 'global', 'globe', 'glory', 'glove', 'glover', 'gm', 'gm2', 'gmt', 'gmu', 'gmuvax2', 'gn', 'gnb', 'gnp', 'goal', 'goals', 'god', 'goddard', 'gods', 'goes', 'going', 'gold', 'golden', 'goldin', 'golf', 'goltz', 'gomez', 'gone', 'gonna', 'gonzales', 'gonzalez', 'good', 'gord', 'gordon', 'gorman', 'gosh', 'got', 'gothamcity', 'gotta', 'gotten', 'gov', 'government', 'govt', 'gp', 'gpf', 'gps', 'gq', 'gq32', 'gr', 'grab', 'grabbed', 'grace', 'grad', 'grade', 'graduate', 'grafitti', 'grand', 'grant', 'granted', 'graph', 'graphic', 'graphical', 'graphics', 'graphite', 'graphs', 'grapple', 'grateful', 'gravitational', 'gravity', 'gray', 'graydon', 'great', 'greater', 'greatest', 'greatly', 'green', 'greenbelt', 'greenberg', 'greetings', 'greg', 'gregg', 'gregory', 'grey', 'grief', 'griffey', 'griffin', 'gross', 'groucho', 'ground', 'grounder', 'grounds', 'group', 'groups', 'grove', 'growing', 'grows', 'growth', 'grp', 'gruber', 'gs', 'gsfc', 'gspira', 'gsx', 'gt', 'gt0523e', 'gt7469a', 'gtonwu', 'gu', 'guarantee', 'guaranteed', 'guess', 'guest', 'gui', 'guidance', 'guide', 'guilty', 'gun', 'guns', 'gup', 'gupta', 'gurus', 'guvax', 'guy', 'guys', 'guzman', 'gv', 'gw', 'gwu', 'gwynn', 'gx', 'gy', 'gyros', 'h0', 'h1', 'h2', 'h3', 'h4', 'h5', 'h6', 'h7', 'h8', 'h8z', 'h9', 'h_', 'ha', 'haapanen', 'habit', 'habitat', 'hadn', 'haines', 'hal', 'half', 'halifax', 'hall', 'ham', 'hamilton', 'hancock', 'hand', 'handbook', 'handed', 'hander', 'handers', 'handing', 'handle', 'handled', 'handling', 'hands', 'handy', 'hang', 'hanging', 'hangs', 'hank', 'hannibal', 'hansen', 'hanson', 'happen', 'happened', 'happening', 'happens', 'happy', 'hard', 'harder', 'hardly', 'hardware', 'hardy', 'harkey', 'harmony', 'harold', 'harper', 'harris', 'harry', 'harvard', 'harvey', 'hasn', 'hassle', 'hat', 'hatcher', 'hate', 'hats', 'haven', 'having', 'hawaii', 'hawking', 'hayes', 'hayesj', 'hazardous', 'hb', 'hc', 'hcf', 'hd', 'head', 'headed', 'header', 'heading', 'headline', 'headquarters', 'heads', 'health', 'healthy', 'heap', 'hear', 'heard', 'hearing', 'hearsay', 'heart', 'heat', 'heaven', 'heavier', 'heavily', 'heavy', 'heck', 'height', 'heinlein', 'hela', 'held', 'helios', 'helium', 'hell', 'hello', 'help', 'helped', 'helpful', 'helping', 'helps', 'helsinki', 'henderson', 'henry', 'hep', 'hepnet', 'herc', 'hercules', 'hermes', 'hernandez', 'hero', 'hesketh', 'hewlett', 'hex', 'hey', 'hf', 'hg', 'hga', 'hh', 'hh8', 'hi', 'hic', 'hidden', 'hideous', 'hierarchy', 'higgins', 'high', 'higher', 'highest', 'highlights', 'highly', 'highway', 'hill', 'hint', 'hints', 'hips', 'hire', 'hired', 'historical', 'histories', 'history', 'hit', 'hite', 'hiten', 'hits', 'hitter', 'hitters', 'hitting', 'hj', 'hk', 'hl', 'hlp', 'hlv', 'hlvs', 'hm', 'hm9', 'hmm', 'hmmm', 'hn', 'ho', 'hobby', 'hoboken', 'hobokenite', 'hockey', 'hof', 'hog', 'hoiles', 'hojo', 'hold', 'holder', 'holding', 'holds', 'hole', 'holes', 'holidays', 'hollins', 'hollis', 'home', 'homer', 'homers', 'homerun', 'homeruns', 'homewood', 'honest', 'honestly', 'honor', 'honors', 'hood', 'hope', 'hopefully', 'hopes', 'hoping', 'hopkins', 'horizon', 'horizontal', 'horizontally', 'hormones', 'horner', 'horrible', 'horse', 'hosed', 'host', 'hosts', 'hot', 'hotel', 'hour', 'hours', 'house', 'houston', 'hov', 'hover', 'howabout', 'howard', 'howard_wong', 'howe', 'hp', 'hp4', 'hpcc01', 'hplabs', 'hq', 'hr', 'hrs', 'hs', 'hsinchu', 'hst', 'hsvaic', 'ht', 'hte', 'hu', 'hua', 'hubble', 'huckabay', 'hug', 'huge', 'hughes', 'huh', 'hulman', 'hum', 'human', 'humanity', 'humans', 'humble', 'humor', 'hundreds', 'hung', 'hunt', 'hunter', 'huntsville', 'hurry', 'hurt', 'husband', 'hut', 'hv', 'hw', 'hx', 'hy', 'hydra', 'hydrogen', 'hype', 'hyped', 'hyperspace', 'hz', 'hzri', 'i0', 'i0l', 'i0mf', 'i0mf9l3', 'i0mfq', 'i0o', 'i1', 'i2', 'i3', 'i4', 'i5', 'i6', 'i7', 'i8', 'i9', 'i_', 'ia', 'iacs3650', 'iai', 'ial', 'ian', 'iastate', 'iau', 'ib', 'ibm', 'ic', 'icbm', 'ice', 'icon', 'icons', 'ics', 'id', 'id9', 'ida', 'ide', 'idea', 'ideal', 'idealistic', 'ideas', 'identical', 'identified', 'identify', 'idiot', 'idiots', 'idk', 'idle', 'ifa', 'iglesias', 'ignorance', 'ignore', 'ignored', 'ih', 'ihlpm', 'ii', 'iii', 'ij', 'ik', 'ike', 'ikesg1', 'il', 'iler', 'ill', 'illegal', 'illinois', 'im', 'image', 'images', 'imagination', 'imagine', 'imaging', 'imaginitive', 'imho', 'immature', 'immediate', 'immediately', 'immensely', 'immortal', 'imo', 'impact', 'implementation', 'implemented', 'implentation', 'implodes', 'importance', 'important', 'impossible', 'impressed', 'impression', 'impressions', 'impressive', 'improve', 'improved', 'improvement', 'improving', 'impulse', 'incaviglia', 'inch', 'inches', 'incident', 'inclination', 'inclined', 'include', 'included', 'includes', 'including', 'income', 'incoming', 'inconstant', 'incorporated', 'incorrect', 'increase', 'increased', 'increases', 'increasing', 'incredible', 'incredibly', 'incremental', 'incribed', 'independent', 'index', 'indiana', 'indians', 'indicate', 'indicated', 'indicates', 'indicating', 'indication', 'individual', 'individuals', 'industrial', 'industries', 'industry', 'indyvax', 'inevitable', 'inexpensive', 'infamous', 'inferior', 'infield', 'infinite', 'infinity', 'inflatable', 'inflated', 'influence', 'influenced', 'info', 'informatica', 'information', 'informations', 'informix', 'infoserv', 'infoworld', 'infrared', 'infrastructure', 'ing', 'ingr', 'ingres', 'inherent', 'ini', 'initial', 'initially', 'initiated', 'initiative', 'inject', 'injured', 'injuries', 'injury', 'ink', 'inland', 'inner', 'inning', 'innings', 'innovation', 'innovative', 'input', 'inqmind', 'inquirer', 'ins', 'insert', 'inside', 'insight', 'insist', 'insisted', 'insisting', 'inst', 'instability', 'install', 'installation', 'installed', 'installing', 'instance', 'instantly', 'instead', 'institute', 'institution', 'instruction', 'instructions', 'instrument', 'instruments', 'insults', 'insurance', 'insure', 'int', 'intact', 'integrated', 'integration', 'integrity', 'intel', 'intellect', 'intellectual', 'intelligence', 'intend', 'intended', 'intense', 'inter', 'interested', 'interesting', 'interests', 'interface', 'interfere', 'interference', 'intergration', 'internal', 'international', 'internet', 'interplanetary', 'interpret', 'interpretation', 'interpreting', 'interrupt', 'interstellar', 'intervals', 'interview', 'interviews', 'intriguing', 'introduction', 'invalid', 'inventor', 'invest', 'investigate', 'investigating', 'investigation', 'investigator', 'investigators', 'investing', 'investment', 'investments', 'investor', 'investors', 'invitation', 'invited', 'invoke', 'involve', 'involved', 'involves', 'involving', 'io', 'iowa', 'ioy', 'ip', 'ipx', 'iq', 'iqr', 'iqvg', 'iqy', 'ir', 'iras', 'ireland', 'iron', 'irq', 'irq5', 'irrelevant', 'isa', 'isas', 'isbn', 'isc', 'isis', 'iskandar', 'island', 'isn', 'iso', 'isp', 'issue', 'issued', 'issues', 'ist', 'isu', 'isunet', 'isv', 'itch', 'item', 'items', 'ithaca', 'iti', 'iu', 'iubacs', 'iupui', 'iv', 'ivy', 'ix', 'iy', 'iz', 'j0', 'j1', 'j1d', 'j2', 'j3', 'j4', 'j5', 'j6', 'j7', 'j8', 'j9', 'j_', 'ja', 'jack', 'jacked', 'jackhammering', 'jackie', 'jackson', 'jacobs', 'jacobson', 'jail', 'james', 'jamie', 'jan', 'jane', 'january', 'japan', 'japanese', 'jason', 'javier', 'jay', 'jays', 'jayson', 'jb', 'jbh55289', 'jc', 'jd', 'jdnicoll', 'je', 'jeff', 'jefferies', 'jeffrey', 'jemison', 'jenks', 'jeopardy', 'jerry', 'jersey', 'jesse', 'jet', 'jets', 'jewelry', 'jewish', 'jf', 'jg', 'jgarland', 'jgreen', 'jh', 'jhu', 'jhuapl', 'jhunix', 'jhuvms', 'ji', 'jiann', 'jim', 'jimmy', 'jj', 'jja2h', 'jjj', 'jk', 'jking', 'jl', 'jm', 'jmcocker', 'jn', 'jo', 'job', 'jobs', 'jockey', 'jockeys', 'jody', 'joe', 'joel', 'john', 'johnny', 'johns', 'johnson', 'join', 'joint', 'joints', 'joke', 'joking', 'jolla', 'jon', 'jonathan', 'jones', 'jordan', 'jose', 'joseph', 'josh', 'journal', 'journalism', 'journey', 'jove', 'jovian', 'joy', 'jp', 'jp2', 'jpaparel', 'jpl', 'jpv', 'jpw', 'jq', 'jr', 'jrl', 'jrogoff', 'js', 'js1', 'jsc', 'jt', 'jtc', 'jtcent', 'jtchern', 'ju', 'juan', 'judge', 'judged', 'judging', 'judy', 'jules', 'july', 'jump', 'jumps', 'jumpy', 'jun', 'june', 'junk', 'jupiter', 'jus', 'just', 'justice', 'justin', 'jv', 'jw', 'jx', 'jy', 'jz', 'k0', 'k1', 'k4', 'k5', 'k6', 'k7', 'k8', 'k80', 'k86', 'k9', 'k_', 'k_mullin', 'ka', 'kansas', 'karl', 'karla', 'karlin', 'kasajian', 'kathy', 'kayman', 'kb', 'kc', 'kd', 'ke', 'ke4zv', 'kean', 'kearney', 'keele', 'keeping', 'keeps', 'keith', 'keithley', 'kelly', 'kelso', 'kelvin', 'ken', 'kennedy', 'kenneth', 'kent', 'kentiler', 'keplerian', 'kept', 'kermit', 'kernel', 'kerr', 'kevin', 'key', 'keyboard', 'keynes', 'keywords', 'kf', 'kg', 'kh', 'khf', 'khz', 'ki', 'kid', 'kidding', 'kids', 'kill', 'killed', 'killing', 'kilmer', 'kilograms', 'kilometers', 'kim', 'kimball', 'kimbark', 'kin', 'kind', 'kinda', 'kindly', 'kinds', 'kiner', 'kinerisms', 'king', 'kingman', 'kingoz', 'kings', 'kingston', 'kipling', 'kippur', 'kir', 'kirby', 'kirk', 'kirsch', 'kit', 'kits', 'kj', 'kjenks', 'kjr', 'kjz', 'kjznb', 'kk', 'kkzp', 'kl', 'klesko', 'klopfens', 'klopfenstein', 'km', 'kmembry', 'kn', 'knee', 'knew', 'knight', 'knoblauch', 'knock', 'knocked', 'knocking', 'know', 'knowing', 'knowledge', 'known', 'knows', 'ko', 'kong', 'kotfr', 'koufax', 'kourou', 'kozierok', 'kp', 'kp3', 'kq', 'kqv', 'kr', 'kretzschmar', 'krill', 'krueger', 'kruk', 'krumins', 'ks', 'ksc', 'ksr', 'kstar', 'ksu', 'kt', 'ku', 'kudos', 'kuiper', 'kuleuven', 'kuo', 'kurt', 'kv', 'kvp', 'kw', 'kx', 'ky', 'kz', 'l0', 'l2', 'l3', 'l4', 'l45u', 'l5', 'l6', 'l7', 'l8', 'l9', 'la', 'lab', 'label', 'laboratories', 'laboratory', 'labs', 'lack', 'lacking', 'lady', 'lafayette', 'lafibm', 'lah', 'laid', 'lake', 'lakers', 'lame', 'lamont', 'lan', 'lance', 'land', 'landed', 'lander', 'landing', 'landings', 'landmann', 'landsat', 'landscape', 'lane', 'langley', 'language', 'lankford', 'lankform', 'lansing', 'lanza', 'larc', 'large', 'largely', 'larger', 'largest', 'larkin', 'larrison', 'larry', 'larussa', 'laser', 'laserjet', 'lasers', 'lasorda', 'lasted', 'lasts', 'lat', 'late', 'lately', 'later', 'latest', 'latitude', 'laudicina', 'laugh', 'launch', 'launched', 'launcher', 'launchers', 'launches', 'launching', 'laurentian', 'lavalliere', 'law', 'lawrence', 'laws', 'lawson', 'layer', 'layne', 'lazy', 'lb', 'lbs', 'lc', 'lc4', 'lcs', 'ld', 'le', 'lead', 'leader', 'leaders', 'leadership', 'leading', 'leadoff', 'leads', 'league', 'leaguers', 'leagues', 'leak', 'lean', 'leap', 'learn', 'learned', 'learning', 'leasing', 'leave', 'leaves', 'leaving', 'led', 'lee', 'leebr', 'leech', 'lefebre', 'lefebvre', 'left', 'lefty', 'legal', 'legally', 'legislation', 'legitimate', 'legs', 'lehigh', 'lei', 'leigh', 'leius', 'leland', 'lemke', 'len', 'length', 'lenny', 'leo', 'lerc', 'lest', 'let', 'lets', 'letter', 'letters', 'letting', 'level', 'levels', 'levy', 'lew', 'lewis', 'lewisville', 'leyland', 'lf', 'lg', 'lga', 'lgo', 'lh', 'lho', 'lhz', 'li', 'liability', 'lib', 'liberalizer', 'liberally', 'liberation', 'libraries', 'library', 'libs', 'license', 'licensed', 'licensing', 'lick', 'liefting', 'liek', 'lies', 'life', 'lifetime', 'lift', 'lifted', 'lifter', 'lifting', 'liftoff', 'light', 'lighten', 'lightning', 'lights', 'liguori', 'lii', 'like', 'liked', 'likely', 'likes', 'lim', 'limit', 'limitations', 'limited', 'limits', 'limv', 'lind', 'linda', 'lindbergh', 'line', 'linear', 'lineup', 'link', 'linked', 'linsenbigler', 'linux', 'liquid', 'liris', 'lisa', 'lisbon', 'list', 'listed', 'listen', 'listening', 'listing', 'lists', 'lite', 'literally', 'literature', 'little', 'liu', 'live', 'lived', 'livermore', 'lives', 'living', 'lj', 'lj1', 'lk', 'lk8', 'lkjz', 'll', 'llnl', 'lloyd', 'lm', 'ln', 'lo', 'load', 'loaded', 'loading', 'loads', 'loan', 'local', 'locate', 'located', 'location', 'locations', 'lock', 'lockheed', 'locking', 'locus', 'log', 'logic', 'logical', 'login', 'logitech', 'logo', 'london', 'long', 'longer', 'longest', 'lonnie', 'look', 'looked', 'looking', 'looks', 'loops', 'loose', 'lopez', 'lord', 'los', 'lose', 'losing', 'loss', 'losses', 'lost', 'lot', 'lots', 'lotus', 'lou', 'loud', 'louis', 'louisiana', 'louisville', 'louray', 'lousy', 'love', 'loved', 'low', 'lowell', 'lowenstein', 'lower', 'lowest', 'lox', 'lp', 'lpt1', 'lq', 'lr', 'lru', 'ls', 'lsl', 'lt', 'ltt', 'lu', 'luck', 'lucky', 'luddington', 'luis', 'luna', 'lunar', 'lunatics', 'lunch', 'lundy', 'lupica', 'lurie', 'luriem', 'lustig', 'lv', 'lw', 'lwp', 'lx', 'ly', 'lyford', 'lying', 'lz', 'lzr1260', 'm0', 'm0d', 'm0dtv5p', 'm1', 'm1t', 'm2', 'm24', 'm24e', 'm27', 'm2j', 'm3', 'm34', 'm34u', 'm3l', 'm4', 'm45', 'm4pa', 'm4u', 'm5', 'm5u', 'm6', 'm7', 'm7ex', 'm7ey', 'm7ez', 'm7klj', 'm7kn', 'm8', 'm86', 'm9', 'm9f8', 'm9f9fq', 'm9l0qax', 'm9l3', 'm9p', 'm9v', 'm_', 'm_klein', 'ma', 'ma4', 'ma7', 'mac', 'macadam', 'macdonald', 'mach', 'machine', 'machines', 'macinteresteds', 'macintosh', 'mack', 'macro', 'macros', 'mad', 'madam', 'maddux', 'madison', 'mae', 'mag', 'magadan', 'magazine', 'magellan', 'magic', 'magnetic', 'magnetometer', 'magnitude', 'magowan', 'mahler', 'mai', 'mail', 'mailbox', 'mailer', 'mailhost', 'mailing', 'main', 'maine', 'mainframe', 'mainly', 'maintain', 'maintained', 'maintaining', 'maintains', 'maj', 'major', 'majority', 'majors', 'make', 'maker', 'makes', 'making', 'mal', 'malamas', 'maldonado', 'male', 'mam', 'mamatha', 'man', 'manage', 'managed', 'management', 'manager', 'managers', 'managing', 'mancus', 'maneuver', 'maneuvering', 'maneuvers', 'manifest', 'mankind', 'manned', 'manner', 'mantle', 'manual', 'manually', 'manuals', 'manufactures', 'manufacturing', 'manwaring', 'map', 'mapped', 'mapper', 'mapping', 'maps', 'mar', 'marc', 'march', 'marcus', 'margin', 'marginal', 'margins', 'marinara', 'mariner', 'mariners', 'mario', 'mark', 'marked', 'market', 'marketing', 'marks', 'marlins', 'marquette', 'mars', 'marshall', 'martian', 'martin', 'martinez', 'marvin', 'marxist', 'mary', 'maryland', 'mas', 'mass', 'massachusetts', 'massive', 'master', 'match', 'material', 'materials', 'math', 'mathcad', 'mathematics', 'maths', 'matloff', 'matt', 'matter', 'matters', 'matthew', 'mattingly', 'mature', 'maturity', 'max', 'maximum', 'maximus', 'maxtor', 'mayans', 'maybe', 'maynard', 'mays', 'mb', 'mb4q', 'mb8e', 'mb8f', 'mb8g', 'mbn', 'mbp', 'mbs0t', 'mbs0tq', 'mbs3', 'mbxlt', 'mbxn', 'mbxom', 'mc', 'mc8', 'mcaloon', 'mccall', 'mccovey', 'mcdonald', 'mcdonnell', 'mcdowell', 'mcelwaine', 'mcgee', 'mcgill', 'mcgraw', 'mcgriff', 'mcgwire', 'mckinley', 'mckissock', 'mcrae', 'mcwilliams', 'md', 'md1', 'md2', 'md2_', 'md8', 'md9', 'mdc', 'mdi', 'mead', 'meaddata', 'mean', 'meaning', 'meaningful', 'meaningless', 'means', 'meant', 'measure', 'measured', 'measurement', 'measurements', 'measures', 'mechanical', 'mechanics', 'mechanism', 'med', 'media', 'medical', 'medicine', 'mediocre', 'mediot', 'medium', 'mee', 'meet', 'meeting', 'meets', 'meg', 'megs', 'mei', 'mel', 'melbourne', 'melido', 'mellon', 'mem', 'member', 'members', 'membry', 'memorial', 'memories', 'memory', 'men', 'mention', 'mentioned', 'mentorg', 'menu', 'menus', 'mercury', 'merely', 'meridian', 'message', 'messages', 'met', 'metal', 'meteor', 'meter', 'meters', 'methinks', 'method', 'methodology', 'methods', 'metric', 'metrics', 'mets', 'mexico', 'mf', 'mf0', 'mf3t', 'mf9d', 'mf9f9', 'mfc', 'mfyl', 'mg', 'mg9', 'mg9v', 'mh', 'mh8', 'mhd', 'mhs', 'mhz', 'mi', 'mi0l', 'mi0mfq', 'mi4', 'miami', 'mice', 'michael', 'michigan', 'mickey', 'micro', 'microgravity', 'microsoft', 'microwave', 'mid', 'middle', 'midi', 'midnight', 'midway', 'midwest', 'mig', 'mighty', 'mike', 'mil', 'mile', 'mileage', 'miles', 'military', 'militello', 'miller', 'million', 'millions', 'millitello', 'milwaukee', 'mimi', 'min', 'mind', 'mindlink', 'minds', 'miner', 'mineral', 'minerals', 'miners', 'mines', 'ming', 'minimal', 'minimize', 'minimum', 'mining', 'minneapolis', 'minnesota', 'minor', 'minority', 'minors', 'minute', 'minutes', 'mips', 'mir', 'mirror', 'mirrors', 'mis', 'misc', 'miss', 'missed', 'missile', 'missiles', 'missing', 'mission', 'missions', 'mississippi', 'missle', 'missouri', 'mistake', 'mistaken', 'misunderstanding', 'mit', 'mitch', 'mitchell', 'mitsubishi', 'mix', 'mixed', 'mixing', 'mixture', 'mizar', 'mize', 'mj', 'mjones', 'mk', 'mksol', 'ml', 'ml6', 'mlb', 'mle', 'mlinsenb', 'mlk', 'mm', 'mmk', 'mn', 'mnemosyne', 'mnk', 'mnuy', 'mo', 'mobile', 'mobility', 'mod', 'mode', 'model', 'models', 'modem', 'moderator', 'modern', 'modes', 'modest', 'modifications', 'modified', 'modify', 'modular', 'module', 'modules', 'moe', 'mohney', 'moines', 'mojo', 'molecular', 'molitor', 'moment', 'moments', 'momentum', 'mon', 'monash', 'monday', 'money', 'monica', 'monitor', 'monitors', 'monsoon', 'monster', 'montana', 'month', 'monthly', 'months', 'montreal', 'monu6', 'moon', 'moonbase', 'moons', 'moops', 'moore', 'mop', 'moral', 'moratorium', 'morgan', 'morning', 'morris', 'moscow', 'mot', 'mother', 'motherboard', 'motion', 'motor', 'motorola', 'motors', 'mound', 'mount', 'mountain', 'mountains', 'mounted', 'mouse', 'mouth', 'moved', 'movement', 'movie', 'moving', 'mp', 'mpce', 'mq', 'mq6', 'mqq', 'mqr', 'mqvg', 'mr', 'mr47', 'mr8f', 'mrfw', 'mrmc8', 'ms', 'msb', 'msdos', 'msfc', 'mss', 'msstate', 'msu', 'msuinfo', 'mt', 'mt7', 'mtg', 'mtm', 'mtt', 'mu', 'muenchen', 'mule', 'mully', 'multi', 'multimedia', 'multiple', 'multitasking', 'multithreading', 'multiuser', 'mun', 'mundstock', 'muniz', 'munizb', 'murdoch', 'murmurs', 'murphy', 'murray', 'muscle', 'museum', 'music', 'mussina', 'mv', 'mveraart', 'mvp', 'mw', 'mwa', 'mwt', 'mwwhj', 'mwwiz', 'mx', 'mx8', 'myers', 'mylar', 'mym', 'mystery', 'mz', 'n0', 'n1', 'n109', 'n2', 'n3', 'n5', 'n6', 'n8', 'n9', 'na', 'nagging', 'nahf', 'nai', 'najz', 'named', 'names', 'nanderso', 'narrow', 'nasa', 'nasda', 'nashville', 'nasm', 'nasp', 'nasty', 'nathan', 'nation', 'national', 'nations', 'native', 'natural', 'nature', 'naval', 'navigation', 'navstar', 'navy', 'nax', 'nb', 'nb8', 'nc', 'ncar', 'ncc', 'ncr', 'ncsu', 'nctu', 'nd', 'ndis', 'ndk', 'ndw', 'ne', 'ne1', 'ne1t', 'neal', 'near', 'nearby', 'nearest', 'nearly', 'neat', 'nebraska', 'nec', 'necessarily', 'necessary', 'neck', 'need', 'needed', 'needle', 'needs', 'neff123', 'negative', 'negatives', 'negligible', 'negotiations', 'nei', 'nei4', 'neil', 'neill', 'nelson', 'neptune', 'net', 'netbeui', 'netcom', 'netherlands', 'netnews', 'netware', 'network', 'networking', 'networks', 'netx', 'neu', 'neutron', 'nevada', 'new', 'newer', 'newest', 'newkirk', 'news', 'newsgroup', 'newsgroups', 'newshost', 'newshub', 'newsletter', 'newspaper', 'newspapers', 'newsreader', 'newton', 'newtout', 'nextwork', 'nf', 'ng', 'ngu', 'nh', 'ni', 'nic', 'nice', 'nicely', 'nicho', 'nicholls', 'nichols', 'nick', 'nickh', 'nicoll', 'nied', 'niederstrasser', 'nieves', 'nifty', 'night', 'niguma', 'nih', 'niland', 'nimaster', 'ninth', 'nixon', 'nj', 'njin', 'nk', 'nkh', 'nkhf', 'nki', 'nkjr', 'nkjz', 'nkz', 'nl', 'nlcs', 'nlm', 'nls', 'nlu', 'nm', 'nn', 'nntp', 'noaa', 'node', 'nodecg', 'nodomain', 'noise', 'nokes', 'nolan', 'nome', 'non', 'nonsense', 'noon', 'nope', 'normal', 'normally', 'norman', 'north', 'northern', 'northwestern', 'norton', 'norway', 'nose', 'nostra', 'nosubdomain', 'note', 'notebook', 'noted', 'notepad', 'notes', 'notice', 'noticeable', 'noticed', 'notre', 'nova', 'novell', 'november', 'novice', 'np', 'npo', 'nq', 'nr', 'nrhj', 'nriz', 'nrizw', 'nrizwt', 'ns', 'ns1', 'nsmca', 'nss', 'nssdca', 'nsw', 'nswc', 'nt', 'ntaib', 'nthu', 'ntis', 'ntreal', 'nu', 'nuclear', 'nucleus', 'nuetron', 'number', 'numbers', 'numerous', 'nuntius', 'nuts', 'nux', 'nuy', 'nv', 'nw', 'nwk', 'nwu', 'nx', 'ny', 'nyx', 'nz', 'o0', 'o0i', 'o1', 'o2', 'o3', 'o4', 'o4u', 'o5i', 'o5ih', 'o6', 'o7', 'o8', 'oa', 'oai', 'oak', 'oakland', 'oasys', 'ob', 'oba', 'obispo', 'object', 'objective', 'objectives', 'objects', 'obnoxious', 'oboe', 'obp', 'observation', 'observations', 'observatory', 'observe', 'observed', 'observer', 'observers', 'observing', 'obsolete', 'obtain', 'obtained', 'obvious', 'obviously', 'oc', 'occasional', 'occasionally', 'occasions', 'occur', 'occured', 'occurred', 'occurs', 'ocean', 'ocf', 'ocs', 'oct', 'october', 'od', 'od9', 'odd', 'odds', 'odi', 'odin', 'oe', 'ofa123', 'offense', 'offensive', 'offensively', 'offer', 'offered', 'offerman', 'offers', 'offhand', 'office', 'offices', 'official', 'officially', 'officials', 'offline', 'offset', 'oft', 'og', 'oh', 'ohio', 'ohsu', 'oi', 'oil', 'oit', 'oj', 'ok', 'okay', 'okg', 'oklahoma', 'okz', 'ol', 'old', 'older', 'oldest', 'ole', 'olerud', 'oliveira', 'oliver', 'olivetti', 'olson', 'olympics', 'olympus', 'om', 'om4', 'omar', 'oml', 'onboard', 'ones', 'ongoing', 'online', 'ontario', 'oo', 'ooo', 'oops', 'op', 'open', 'opened', 'opener', 'opening', 'opens', 'operate', 'operated', 'operating', 'operation', 'operational', 'operations', 'operator', 'operators', 'opinion', 'opinions', 'opponent', 'opportunities', 'opportunity', 'opposed', 'opposing', 'opposite', 'ops', 'optical', 'optimistic', 'optimization', 'option', 'options', 'optiplan', 'oq', 'oqy', 'oracle', 'orange', 'orbit', 'orbital', 'orbiter', 'orbiters', 'orbiting', 'orbits', 'order', 'ordered', 'ordering', 'orders', 'ordinary', 'oregon', 'org', 'organisation', 'organisms', 'organizational', 'organizations', 'organized', 'orientation', 'oriented', 'origin', 'original', 'originally', 'originator', 'orin', 'oriole', 'oriolefan', 'orioles', 'orion', 'orteig', 'orthogonal', 'orville', 'os', 'os2', 'os4l', 'os7', 'oscar', 'oscs', 'osf', 'oswego', 'ot', 'otago', 'otc', 'otehr', 'ott', 'ottawa', 'otto', 'otv', 'ou', 'ouellette', 'ought', 'outcome', 'outer', 'outfield', 'outfielders', 'outing', 'output', 'outs', 'outside', 'outstanding', 'outta', 'ov', 'ovei', 'overall', 'overburdened', 'overcome', 'overhead', 'overly', 'overrated', 'overstress', 'overview', 'overweight', 'overwrite', 'ovg', 'ow', 'owen', 'owned', 'owner', 'owners', 'ox', 'oxygen', 'oy', 'oz', 'ozone', 'ozzie', 'p0', 'p1', 'p2', 'p3', 'p3o', 'p4', 'p4u', 'p5', 'p7', 'p8', 'p9', 'p_', 'pa', 'pa881a', 'pablo', 'pace', 'pacific', 'pack', 'package', 'packages', 'packard', 'packet', 'pad', 'padi', 'padres', 'pads', 'page', 'pages', 'pagliarulo', 'paid', 'pain', 'paint', 'painted', 'paladin', 'palmer', 'pam', 'pan', 'panasonic', 'panayiotakis', 'panel', 'panels', 'panix', 'paparella', 'paper', 'paperback', 'papers', 'par', 'parachute', 'paradise', 'paradox', 'paragraph', 'parallel', 'parameter', 'parameters', 'parent', 'parents', 'paris', 'parity', 'park', 'parker', 'parking', 'parks', 'partial', 'partially', 'participants', 'participate', 'participating', 'participation', 'particle', 'particles', 'particular', 'particularly', 'partly', 'partners', 'parts', 'party', 'pas', 'pasadena', 'pascal', 'pass', 'passed', 'passenger', 'passes', 'passing', 'past', 'pat', 'patch', 'path', 'pathetic', 'patience', 'patrick', 'pattern', 'paul', 'paula', 'pause', 'pavo', 'pax', 'pay', 'paying', 'payload', 'payloads', 'payment', 'payments', 'pb', 'pbd', 'pc', 'pcf', 'pcplus', 'pct', 'pd', 'pdt', 'pdx', 'pe', 'peace', 'peach', 'peak', 'peanut', 'pedersen', 'pegasus', 'pen', 'pena', 'pendleton', 'penn', 'pennant', 'pennsylvania', 'pentium', 'peopel', 'people', 'percent', 'percentage', 'perez', 'perfect', 'perfectly', 'perform', 'performance', 'performed', 'performing', 'performs', 'peri', 'perigee', 'perihelion', 'perihelions', 'perijove', 'period', 'periodically', 'periodicals', 'peripherals', 'permanaent', 'permanent', 'permanently', 'permanet', 'permission', 'permit', 'perot', 'perpetual', 'perry', 'persisted', 'person', 'personal', 'personality', 'personally', 'personnel', 'perth', 'perturbations', 'pet', 'pete', 'peter', 'pf', 'pfaffenwaldring', 'pg', 'pgf', 'pgt', 'ph', 'phantom', 'phase', 'phenomena', 'phi', 'phil', 'philadelphia', 'philip', 'philips', 'phillies', 'phillips', 'phills', 'philly', 'philosophy', 'phils', 'phobos', 'phoenix', 'phone', 'photo', 'photometer', 'photos', 'phrase', 'physical', 'physicist', 'physics', 'pi', 'piazza', 'pick', 'picked', 'picking', 'picks', 'picture', 'pictures', 'piece', 'pieces', 'pif', 'pilot', 'pilots', 'pin', 'pinch', 'pioneer', 'pip', 'pipeline', 'pirate', 'pirates', 'pit', 'pitch', 'pitched', 'pitcher', 'pitchers', 'pitches', 'pitching', 'pitt', 'pittsburgh', 'pixel', 'pj', 'pjtier01', 'pk', 'pl', 'pl4', 'pl5', 'pl6', 'pl8', 'pl9', 'place', 'placed', 'places', 'placing', 'plain', 'plains', 'plan', 'plane', 'planes', 'planet', 'planetary', 'planets', 'planned', 'planning', 'plans', 'plant', 'plantier', 'plants', 'plasma', 'plastic', 'plate', 'platform', 'platforms', 'platoon', 'plausible', 'play', 'played', 'player', 'players', 'playing', 'playoffs', 'plays', 'plaza', 'pleasant', 'pleased', 'plenty', 'pliers', 'plot', 'plug', 'plus', 'pluto', 'plymouth', 'pm', 'pmf', 'pmf9f', 'pmf9f9f9l3', 'pmf9f9fq', 'pmf9l0q', 'pmf9l3', 'pmfq', 'pn', 'pne', 'pne1', 'pne1t', 'pnei', 'pnei4', 'po', 'pocket', 'point', 'pointed', 'pointer', 'pointing', 'points', 'poison', 'polar', 'pole', 'poles', 'policy', 'polish', 'political', 'politics', 'pollution', 'poly', 'polymorph', 'polytechnic', 'pomona', 'ponder', 'pony', 'pool', 'pools', 'poor', 'poorly', 'pop', 'popped', 'pops', 'popular', 'population', 'port', 'portable', 'portal', 'portion', 'ports', 'portugese', 'poseidon', 'posing', 'position', 'positioning', 'positions', 'positive', 'possibility', 'possible', 'possiblity', 'possibly', 'post', 'postcript', 'posted', 'poster', 'posting', 'postings', 'postions', 'posts', 'postscript', 'potential', 'pound', 'pounds', 'powell', 'power', 'powered', 'powerful', 'pp', 'ppd', 'pq', 'pr', 'practical', 'practically', 'practice', 'practices', 'prado', 'prael', 'praise', 'prb', 'pre', 'preceding', 'precise', 'precisely', 'predict', 'predicted', 'predicting', 'prediction', 'predictions', 'prefer', 'preferably', 'prefered', 'preferred', 'preliminary', 'preseason', 'presence', 'present', 'presentation', 'presented', 'president', 'press', 'pressure', 'pressures', 'pressurized', 'prestige', 'presumably', 'presume', 'presumeably', 'pretty', 'prevent', 'prevented', 'preventing', 'previous', 'previously', 'price', 'prices', 'primarily', 'primary', 'prime', 'primitive', 'prince', 'princeton', 'principal', 'principle', 'principles', 'print', 'printed', 'printer', 'printers', 'printing', 'prints', 'prior', 'priority', 'prism', 'private', 'privately', 'prize', 'prizes', 'prl', 'pro', 'probability', 'probably', 'probe', 'probes', 'problem', 'problems', 'procedures', 'proceeded', 'proceedings', 'process', 'processed', 'processes', 'processing', 'processor', 'processors', 'procomm', 'prodigy', 'produce', 'produced', 'producing', 'product', 'production', 'productions', 'products', 'prof', 'professional', 'professor', 'profit', 'profits', 'progman', 'program', 'programmer', 'programmers', 'programming', 'programs', 'progress', 'project', 'projected', 'projection', 'projects', 'promised', 'promises', 'promising', 'promote', 'prompt', 'promptly', 'prone', 'proof', 'propellant', 'propellants', 'proper', 'properly', 'properties', 'proportional', 'proposal', 'proposals', 'propose', 'proposed', 'propulsion', 'prospect', 'prospecting', 'prospects', 'protected', 'protection', 'protective', 'protest', 'protesting', 'proton', 'protons', 'prototype', 'proud', 'prove', 'proved', 'proven', 'provide', 'provided', 'provides', 'providing', 'proving', 'prowess', 'ps', 'psc', 'psu', 'psuvm', 'psychology', 'pt', 'ptm', 'pu', 'pu1', 'pub', 'public', 'publication', 'publications', 'publicity', 'publish', 'published', 'publishers', 'publishes', 'publishing', 'puckett', 'puckey', 'pull', 'pulled', 'pulling', 'pulse', 'punishments', 'purchase', 'purchased', 'purdue', 'pure', 'purely', 'purpose', 'purposes', 'pursued', 'pursuing', 'push', 'pushed', 'pushing', 'puts', 'putting', 'puzzled', 'pv', 'pw', 'pwe', 'pwiseman', 'pws', 'pwu', 'px', 'py', 'pyron', 'q0', 'q1', 'q145', 'q2', 'q3', 'q30t', 'q30tbxn', 'q32', 'q4', 'q5', 'q6', 'q7', 'q8', 'q9', 'q_', 'qa', 'qax', 'qb', 'qc', 'qd', 'qd9', 'qe', 'qg', 'qgq', 'qh', 'qhl', 'qi', 'qj', 'qk', 'ql', 'qm', 'qn', 'qo', 'qp', 'qq', 'qr', 'qr_', 'qrs', 'qs', 'qs6_', 'qs7', 'qt', 'qtct', 'qtcv9', 'qtm', 'qu', 'qualified', 'qualify', 'qualitative', 'quality', 'quantities', 'quantity', 'quantum', 'quarter', 'quarterly', 'qucdn', 'queen', 'queensu', 'queries', 'query', 'quest', 'question', 'questions', 'quick', 'quicken', 'quicker', 'quickly', 'quit', 'quite', 'quote', 'quoted', 'quotes', 'qv', 'qvei', 'qvf', 'qvg', 'qw', 'qx', 'qy', 'qz', 'r0', 'r0d', 'r1', 'r186', 'r1865', 'r2', 'r3', 'r4', 'r5', 'r6', 'r7', 'r8', 'r8e', 'r8f', 'r_', 'ra', 'race', 'races', 'racking', 'radar', 'radiation', 'radical', 'radii', 'radio', 'radios', 'radius', 'rafia', 'raider', 'raiders', 'rail', 'rain', 'raines', 'raise', 'raised', 'raker', 'ralph', 'ram', 'rams', 'ramsey', 'ran', 'rand', 'random', 'randy', 'range', 'rangers', 'ranges', 'ranging', 'rank', 'rap', 'raphael', 'rapid', 'rapidly', 'rare', 'rarely', 'rat', 'rate', 'rated', 'rates', 'rating', 'ratings', 'ratio', 'rationale', 'ratnam', 'rattling', 'rave', 'ravel', 'raw', 'ray', 'rays', 'rb', 'rbd', 'rbi', 'rbis', 'rborden', 'rc', 'rck', 'rcs', 'rd', 'rdetweil', 'reach', 'reached', 'reaches', 'reaching', 'reaction', 'reactor', 'reactors', 'read', 'readable', 'reader', 'readers', 'readily', 'reading', 'readme', 'reads', 'ready', 'real', 'reality', 'realize', 'realized', 'realizing', 'really', 'realy', 'reardon', 'reason', 'reasonable', 'reasonably', 'reasoning', 'reasons', 'reboot', 'rebooted', 'rebooting', 'rec', 'recall', 'receive', 'received', 'receiver', 'receiving', 'recent', 'recently', 'recognize', 'recognized', 'recommend', 'recommended', 'record', 'recorded', 'recorder', 'records', 'recover', 'recovered', 'recovery', 'red', 'redesign', 'reds', 'reduce', 'reduced', 'reducing', 'reduction', 'redwood', 'reed', 'reentry', 'refer', 'reference', 'references', 'referred', 'referring', 'refers', 'reflect', 'reflecting', 'reflective', 'refresh', 'refused', 'regal', 'regard', 'regarded', 'regarding', 'regardless', 'regards', 'regedit', 'reggie', 'region', 'regional', 'regions', 'registered', 'registration', 'regular', 'regularly', 'regulars', 'rehabilitation', 'reiken', 'reimert', 'reinstall', 'rejected', 'related', 'relating', 'relation', 'relations', 'relationship', 'relative', 'relatively', 'relatives', 'relativity', 'relay', 'release', 'released', 'releases', 'releasing', 'relevance', 'relevant', 'reliable', 'relief', 'reliever', 'relievers', 'reloaded', 'relying', 'rem', 'remain', 'remainder', 'remaining', 'remains', 'remeber', 'remember', 'remind', 'reminds', 'remote', 'remotely', 'remove', 'removed', 'removing', 'render', 'rene', 'rent', 'rep', 'repair', 'repeat', 'repeating', 'replace', 'replaced', 'replacement', 'replacing', 'replay', 'replied', 'replies', 'reply', 'repo', 'report', 'reported', 'reporter', 'reporting', 'reports', 'represent', 'representative', 'represents', 'republic', 'reputation', 'request', 'requested', 'requests', 'require', 'required', 'requirement', 'requirements', 'requires', 'rescue', 'research', 'researchers', 'resembles', 'resembling', 'reserve', 'reserved', 'reserves', 'reset', 'residents', 'residual', 'resistance', 'resize', 'resolution', 'resolutions', 'resolve', 'resort', 'resource', 'resources', 'respect', 'respected', 'respective', 'respectively', 'respond', 'responding', 'response', 'responses', 'responsibilities', 'responsibility', 'responsible', 'rest', 'reston', 'restore', 'restored', 'restoring', 'restricted', 'result', 'resulting', 'results', 'resupply', 'retain', 'retired', 'retirement', 'retrieve', 'return', 'returned', 'returning', 'returns', 'reulbach', 'reusable', 'revealed', 'revenue', 'reverse', 'review', 'reviewers', 'reviews', 'revised', 'revision', 'revolting', 'revolution', 'reward', 'rex', 'reynolds', 'rf', 'rg', 'rh', 'rhea', 'rheology', 'rhodes', 'ri', 'rich', 'richard', 'richardson', 'richmond', 'rick', 'rickc', 'rickert', 'rickey', 'rid', 'riddle', 'ride', 'ridiculous', 'rigel', 'right', 'rights', 'righty', 'ring', 'rings', 'rins', 'rintintin', 'rip', 'ripken', 'ripped', 'risc', 'rise', 'rising', 'risk', 'risks', 'risky', 'rivera', 'rivers', 'rj', 'rjn', 'rk', 'rl', 'rl9', 'rle', 'rlg', 'rlh', 'rli', 'rlk', 'rlk8', 'rls', 'rm', 'rma', 'rmohns', 'rn', 'rnichols', 'ro', 'road', 'rob', 'robb', 'robbie', 'robbins', 'robert', 'roberto', 'roberts', 'robin', 'robinson', 'robot', 'robotics', 'robust', 'rochester', 'rock', 'rocket', 'rocketdyne', 'rocketeer', 'rocketry', 'rockets', 'rockies', 'rocks', 'rockwell', 'rocky', 'rod', 'rodan', 'rodriguez', 'roger', 'rogers', 'rogoff', 'role', 'roll', 'rollers', 'rolling', 'rollout', 'rom', 'roman', 'romantic', 'ron', 'roof', 'rookie', 'rookies', 'room', 'root', 'rope', 'rose', 'rosen', 'rosie', 'ross', 'roster', 'rotate', 'rotation', 'roth', 'rotten', 'rough', 'roughly', 'round', 'roush', 'routine', 'routines', 'rover', 'row', 'rows', 'roy', 'royal', 'royals', 'rp', 'rpi', 'rq', 'rr', 'rs', 'rsb', 'rsf', 'rt', 'rtf', 'rtg', 'rubber', 'rudy', 'rule', 'ruled', 'rules', 'ruling', 'rumor', 'rumors', 'rumour', 'run', 'runner', 'runners', 'running', 'runs', 'runyon', 'rush', 'rushed', 'rushing', 'russ', 'russell', 'russia', 'russian', 'russians', 'rutgers', 'ruth', 'rv', 'rvesterm', 'rw', 'rwang', 'rwtms2', 'rx', 'ry', 'ryan', 'ryn', 'ryne', 'ryukoku', 'rz', 's0', 's1', 's2', 's3', 's4', 's5', 's6', 's8', 's8v', 's9', 's_', 'sa', 'sabo', 'sabr', 'sac', 'sad', 'safe', 'safety', 'saic', 'said', 'sail', 'sails', 'saint', 'sake', 'sal', 'salaries', 'salary', 'sale', 'sales', 'salmon', 'sam', 'samba', 'sample', 'samples', 'san', 'sand', 'sandberg', 'sanders', 'sandman', 'sands', 'sandy', 'santa', 'santiago', 'santo', 'saratoga', 'sarcasm', 'sas', 'sat', 'satellite', 'satellites', 'satisfied', 'satisfy', 'saturday', 'saturn', 'saucers', 'saundrsg', 'save', 'saved', 'saves', 'saw', 'sawyer', 'sax', 'say', 'saying', 'says', 'sb', 'sbp002', 'sc', 'scale', 'scaled', 'scales', 'scan', 'scanner', 'scary', 'scd', 'scenery', 'schaefer', 'schaumburg', 'schedule', 'scheduled', 'schedules', 'scheme', 'schiewer', 'schlatter', 'schmidt', 'school', 'schools', 'schwarzenegger', 'sci', 'scicom', 'science', 'sciences', 'scientific', 'scientist', 'scientists', 'scope', 'score', 'scoreboard', 'scored', 'scoreless', 'scores', 'scoring', 'scorn', 'scott', 'scout', 'scratch', 'screen', 'screens', 'screw', 'screwed', 'script', 'scroll', 'scsi', 'scuglia', 'sd', 'sdcn', 'sdi', 'sdio', 'sdk', 'se', 'se1', 'sea', 'seal', 'sean', 'search', 'searching', 'seas', 'season', 'seasons', 'seats', 'seattle', 'seaver', 'sec', 'second', 'secondary', 'seconds', 'secret', 'section', 'sections', 'sector', 'security', 'seeing', 'seeking', 'seen', 'sees', 'sei', 'select', 'selected', 'selection', 'selective', 'self', 'sell', 'selling', 'semi', 'senator', 'senators', 'send', 'sender', 'sending', 'senior', 'sense', 'sensing', 'sensitivity', 'sensor', 'sensors', 'sent', 'sentence', 'sep', 'separate', 'separated', 'separation', 'seperate', 'sepinwal', 'sepinwall', 'sept', 'september', 'sequence', 'serial', 'series', 'seriously', 'serve', 'served', 'server', 'servers', 'serves', 'service', 'services', 'servicing', 'session', 'sessions', 'set', 'seti', 'sets', 'setting', 'settings', 'settled', 'setup', 'setups', 'seven', 'seventh', 'seventies', 'severe', 'severely', 'sexually', 'sez', 'sf', 'sfasu', 'sfsu', 'sfsuvax1', 'sfu', 'sg', 'sgi', 'sh', 'shadow', 'shafer', 'shakala', 'shake', 'shall', 'shame', 'shannon', 'shape', 'shaped', 'shaping', 'share', 'shareware', 'sharing', 'sharp', 'shawn', 'shea', 'sheet', 'sheffield', 'shel', 'sheldev', 'shelf', 'shell', 'shelley', 'sherri', 'sherzer', 'shielded', 'shielding', 'shift', 'shim', 'ship', 'shipping', 'shit', 'shiva', 'sho', 'shoemaker', 'shoot', 'shooting', 'shop', 'shopper', 'shores', 'short', 'shorter', 'shortly', 'shortstop', 'shortstops', 'shot', 'shots', 'shoulder', 'shouldn', 'showalter', 'showed', 'showing', 'shown', 'shows', 'shut', 'shutout', 'shuttle', 'shuttles', 'shz', 'si', 'sick', 'sid', 'sides', 'sierra', 'sig', 'sigh', 'sight', 'sighted', 'sightings', 'sigma', 'sign', 'signal', 'signals', 'signature', 'signatures', 'signed', 'significant', 'significantly', 'signing', 'signs', 'sigurdsson', 'sii', 'silicon', 'silly', 'silver', 'sim', 'similar', 'similarly', 'simmons', 'simon', 'simple', 'simplicity', 'simply', 'simulated', 'simulation', 'simulations', 'simultaneously', 'simultaneuos', 'sincerely', 'singer', 'single', 'sir', 'sit', 'site', 'sites', 'sits', 'sitting', 'situation', 'situations', 'sixth', 'size', 'sized', 'sizes', 'sj', 'sj1', 'sk', 'sk8', 'skates', 'skeptical', 'skidmore', 'skies', 'skiing', 'skills', 'skndiv', 'sky', 'skylab', 'sl', 'slam', 'slaught', 'slc', 'sleep', 'slg', 'slgsun', 'slick', 'slide', 'slider', 'slightly', 'slip', 'slow', 'slower', 'slowly', 'slugger', 'slugging', 'slump', 'sm', 'small', 'smaller', 'smart', 'smartdrive', 'smartdrv', 'smiley', 'smiling', 'smith', 'smithsonian', 'smoke', 'smoltz', 'smooth', 'smoothly', 'smsu', 'sn', 'snichols', 'snow', 'snowing', 'snydefj', 'snyder', 'social', 'society', 'sockets', 'socs', 'soda', 'soft', 'softquad', 'software', 'soil', 'sol', 'solar', 'sold', 'solely', 'solid', 'solo', 'solution', 'solutions', 'solve', 'solved', 'somebody', 'someday', 'somewhat', 'son', 'song', 'soon', 'sooner', 'sorry', 'sort', 'sorts', 'sought', 'sound', 'soundblaster', 'sounded', 'sounding', 'sounds', 'source', 'sources', 'south', 'southern', 'southwestern', 'soviet', 'sox', 'soyuz', 'sp', 'space', 'spacecraft', 'spaceflight', 'spacehab', 'spacelifter', 'spacelink', 'spaceship', 'spacewalk', 'spacewatch', 'spacify', 'span', 'spanish', 'spanky', 'spare', 'sparky', 'speak', 'speaker', 'speakers', 'speaking', 'special', 'specialist', 'specialists', 'specialized', 'specific', 'specifically', 'specifications', 'specified', 'specifies', 'specify', 'specs', 'spectrometer', 'spectrum', 'speculate', 'speculation', 'speech', 'speed', 'speedisk', 'speeds', 'speedstar', 'spell', 'spelling', 'spencer', 'spend', 'spending', 'spent', 'sphere', 'spherical', 'spike', 'spin', 'spinning', 'spinoffs', 'spira', 'spirit', 'spite', 'spitz', 'split', 'sponsor', 'sport', 'sports', 'sportswriting', 'sportwriters', 'spot', 'spread', 'spring', 'springs', 'spss', 'spy', 'sq', 'sq9', 'sqk', 'sql', 'sqm', 'sqmv', 'square', 'sr', 'srb', 'srbs', 'srg', 'srl02', 'srl03', 'srm', 'ss', 'ss24x', 'ss8', 'ssa', 'sscl', 'ssd', 'ssf', 'ssi', 'ssme', 'ssrbs', 'ssrt', 'ssto', 'st', 'st902415', 'stability', 'stable', 'stack', 'stacker', 'stacks', 'stadium', 'staff', 'staffs', 'stage', 'staged', 'stages', 'staion', 'stake', 'stan', 'stand', 'standard', 'standards', 'standings', 'stands', 'stanford', 'stankiewicz', 'stankowitz', 'stanky', 'stanley', 'star', 'starfleet', 'starflight', 'stark', 'stars', 'start', 'started', 'starter', 'starters', 'starting', 'startled', 'starts', 'startup', 'stat', 'state', 'stated', 'statement', 'statements', 'states', 'stating', 'station', 'stations', 'statistical', 'statistics', 'stats', 'status', 'staub', 'stay', 'stayed', 'staying', 'stays', 'std', 'stdvax', 'steal', 'stealing', 'stealth', 'steam', 'stefan', 'stein', 'steinly', 'steinman', 'steinn', 'stellar', 'stengel', 'step', 'steph', 'stephen', 'stephenson', 'stepping', 'steps', 'steve', 'steven', 'stevens', 'stewart', 'stick', 'sticks', 'stiff', 'stock', 'stole', 'stolen', 'stone', 'stop', 'stopped', 'stops', 'storage', 'store', 'stored', 'stores', 'stories', 'storm', 'story', 'str', 'straight', 'strange', 'strategy', 'stratosphere', 'strawberry', 'streak', 'street', 'strength', 'stress', 'stretch', 'stretched', 'strict', 'strictly', 'strike', 'strikeout', 'strikes', 'string', 'strings', 'strip', 'strobe', 'stroked', 'strong', 'stronger', 'strongly', 'structural', 'structure', 'structures', 'struggle', 'struggled', 'sts', 'stsci', 'stuck', 'student', 'students', 'studied', 'studies', 'study', 'studying', 'stuff', 'stupid', 'stupidest', 'stupidity', 'stuttgart', 'style', 'su', 'sub', 'subdirectory', 'subjects', 'submit', 'submitting', 'suborbital', 'subscribe', 'subsequent', 'subsidiary', 'substance', 'substantial', 'substantially', 'substitute', 'subsystem', 'subsystems', 'succeed', 'success', 'successful', 'successfully', 'suck', 'sucked', 'sucks', 'sudden', 'suddenly', 'sue', 'suffer', 'suffered', 'suffering', 'sufficient', 'sufficiently', 'suggest', 'suggested', 'suggesting', 'suggestion', 'suggestions', 'suggests', 'suit', 'suitable', 'suite', 'sum', 'summaries', 'summarize', 'summary', 'summer', 'sun', 'sun121', 'sunb', 'sunday', 'sundays', 'sunlight', 'sunnyvale', 'sunos', 'sunrise', 'sunset', 'suny', 'super', 'superb', 'superior', 'supernova', 'supersedes', 'supersonic', 'superstars', 'supplied', 'supply', 'support', 'supported', 'supporting', 'supports', 'suppose', 'supposed', 'supposedly', 'sure', 'surely', 'surface', 'surfaces', 'surfeit', 'surgery', 'surprise', 'surprised', 'surprises', 'surprising', 'survey', 'survival', 'survive', 'susanna', 'susect', 'suspect', 'suspicious', 'sustained', 'sutcliffe', 'sv', 'svein', 'svga', 'svr3', 'svr4', 'sw', 'sw2', 'swap', 'swapping', 'swartz', 'swartzendruber', 'swear', 'sweden', 'sweep', 'sweet', 'sweetpea', 'swept', 'swetsky', 'swh', 'swing', 'swinging', 'swings', 'switch', 'switched', 'switches', 'switching', 'swyatt', 'sx', 'sy', 'symantec', 'sys', 'sysedit', 'sysmgr', 'systems', 'sz', 't0', 't1', 't2', 't3', 't3qs', 't3s', 't4', 't44', 't5', 't6', 't7', 't8', 't9', 't_', 'ta', 'table', 'tables', 'tahiti', 'taib', 'tail', 'taiwan', 'taken', 'takers', 'takes', 'taking', 'talent', 'talk', 'talked', 'talking', 'talks', 'tall', 'tamu', 'tandem', 'tank', 'tanks', 'tanstaafl', 'tape', 'tapes', 'target', 'tartabull', 'task', 'tasks', 'taste', 'tate', 'tattam', 'taurus', 'tax', 'taxes', 'taxpayers', 'taylor', 'tb', 'tc', 'tcd', 'tcp', 'tct', 'td', 'td4i', 'te', 'teach', 'teacher', 'teachers', 'teal', 'team', 'teams', 'tech', 'technical', 'technically', 'technique', 'techniques', 'technological', 'technologies', 'technology', 'ted', 'tedward', 'teel', 'teh', 'tek2q', 'tel', 'telecom', 'telecommunications', 'telecomwa', 'telemetry', 'telephone', 'telescope', 'telescopes', 'telesoft', 'television', 'televison', 'tell', 'telling', 'tells', 'telnet', 'telos', 'temperature', 'temporarily', 'temporary', 'tend', 'tends', 'tens', 'tense', 'term', 'terminal', 'terms', 'terrestrial', 'terrible', 'terrifying', 'terrorism', 'terry', 'tesla', 'test', 'testbeds', 'tested', 'testing', 'tests', 'tettleton', 'tew', 'texans', 'texas', 'text', 'tf', 'tffreeba', 'tg', 'th', 'thank', 'thanks', 'thanx', 'thats', 'theme', 'theoretical', 'theoretically', 'theories', 'theory', 'theporch', 'thermal', 'thf2', 'thier', 'thing', 'things', 'think', 'thinking', 'thinks', 'thiokol', 'thirty', 'thomas', 'thompson', 'thor', 'thorn', 'thoroughly', 'thoroughness', 'thought', 'thoughts', 'thousand', 'thousands', 'thread', 'threading', 'threads', 'threat', 'threaten', 'threw', 'throw', 'throwing', 'thrown', 'throws', 'thrue', 'thrust', 'thruster', 'thrusters', 'thu', 'thumb', 'thursday', 'thx', 'ti', 'ticket', 'tickets', 'tie', 'tied', 'tierney', 'tiger', 'tigers', 'tight', 'til', 'till', 'tilt', 'tim', 'time', 'timer', 'times', 'timothy', 'tin', 'tinman', 'tiny', 'tio2', 'tip', 'tips', 'tired', 'titan', 'title', 'titled', 'tj', 'tk', 'tl', 'tm', 'tm0006', 'tn', 'tno', 'tobias', 'today', 'todays', 'todd', 'token', 'told', 'tolerable', 'tolerance', 'tom', 'tomassi', 'tomh', 'tomlin', 'tommy', 'tomorrow', 'ton', 'toner', 'tonight', 'tons', 'tony', 'took', 'tool', 'toolkit', 'tools', 'topaz', 'topic', 'topics', 'toronto', 'torre', 'total', 'totally', 'totals', 'touch', 'touched', 'tough', 'tour', 'tours', 'touted', 'tower', 'town', 'tp', 'tq', 'tr', 'track', 'tracking', 'trade', 'traded', 'trading', 'traditional', 'traffic', 'train', 'training', 'trajectories', 'trajectory', 'transfer', 'transform', 'transit', 'transition', 'transmission', 'transmit', 'transmitted', 'transmitter', 'transponder', 'transport', 'transportation', 'transported', 'transporter', 'trash', 'travel', 'traven', 'treat', 'trek', 'trend', 'tribe', 'tribune', 'trident', 'tried', 'tries', 'trinity', 'trintex', 'trip', 'triple', 'triples', 'tripoli', 'trips', 'trivia', 'trivial', 'trouble', 'troubles', 'true', 'truetype', 'truly', 'trumpet', 'trust', 'trw', 'try', 'trying', 'ts', 'tsd', 'tsing', 'tss', 'tt', 'ttacs1', 'ttfonts', 'ttq6', 'ttu', 'tu', 'tuba', 'tube', 'tucson', 'tue', 'tuesday', 'tug', 'tung', 'turbo', 'turn', 'turnaround', 'turned', 'turning', 'turns', 'tv', 'tw', 'twg', 'twice', 'twilight', 'twins', 'twist', 'tx', 'txc', 'txt', 'ty', 'tying', 'type', 'types', 'typical', 'typically', 'typo', 'tz', 'tzx', 'u0', 'u1', 'u2', 'u3', 'u34', 'u34u', 'u3l', 'u4', 'u45', 'u5', 'u6', 'u7', 'u8', 'u9', 'ua', 'uax', 'ub', 'ubc', 'uc', 'ucar', 'ucdavis', 'ucf1vm', 'uchicago', 'uci', 'uco', 'ucs', 'ucsc', 'ucsd', 'ucsu', 'ud', 'udel', 'ue9', 'uf', 'ufo', 'ug', 'uga', 'ugliest', 'ugly', 'uh', 'ui', 'uic', 'uihepa', 'uit', 'uiuc', 'uj', 'ujq', 'uk', 'uky', 'ul', 'ulkyvx', 'ulowell', 'ultimate', 'ultra', 'ultrastore', 'ultraviolet', 'ulysses', 'um', 'umass', 'umbc', 'umd', 'ummm', 'umn', 'ump', 'umpire', 'umpires', 'umps', 'unable', 'unauthenticated', 'unaware', 'unbelievable', 'unc', 'uncertain', 'uncle', 'uncompressed', 'und', 'underdog', 'underneth', 'understand', 'understanding', 'understands', 'understood', 'unexpected', 'unfortunately', 'uni', 'uniform', 'uniforms', 'uninstall', 'union', 'unique', 'unit', 'united', 'units', 'unity', 'univ', 'universe', 'universiteit', 'universities', 'university', 'unix', 'unixg', 'unknown', 'unless', 'unlike', 'unlikely', 'unlimited', 'unlv', 'unm', 'unmanned', 'unreasonable', 'unstable', 'unt', 'unusual', 'uo', 'uoknor', 'upcoming', 'update', 'updated', 'updatedir', 'updates', 'updating', 'upenn', 'upgrade', 'upgraded', 'upgrades', 'upgrading', 'upload', 'uploaded', 'uploads', 'upper', 'upset', 'uq', 'ur', 'uranium', 'uranus', 'urbana', 'ureply', 'usa', 'usaf', 'usage', 'usc', 'usd', 'use', 'used', 'useful', 'useless', 'usenet', 'user', 'useragent', 'users', 'uses', 'using', 'usl', 'usr', 'ussr', 'usual', 'usually', 'usui', 'uswest', 'ut', 'utah', 'utexas', 'util', 'utilities', 'utility', 'utilization', 'utoronto', 'utterly', 'utzoo', 'uu', 'uucp', 'uudecode', 'uuencoded', 'uug', 'uunet', 'uv', 'uvic', 'uw', 'uwaterloo', 'uwe', 'uwm', 'uwo', 'uwyo', 'ux', 'ux4', 'uxa', 'uy', 'uz', 'v0', 'v1', 'v2', 'v3', 'v4', 'v5', 'v6', 'v7', 'v8', 'v9', 'v9f', 'v9f9f', 'v9f9l3', 'v9fq', 'v_', 'va', 'vacation', 'vacuum', 'vague', 'vaguely', 'val', 'valentine', 'valid', 'valley', 'valuable', 'value', 'values', 'van', 'vance', 'vancouver', 'vandalism', 'vandalize', 'vandalizing', 'vandenberg', 'vanished', 'variable', 'variations', 'varies', 'variety', 'various', 'varmit', 'vary', 'vaughn', 'vax', 'vax1', 'vaxc', 'vb', 'vb30', 'vc', 'vcd', 'vcu', 'vd', 've', 'vegetable', 'vehicle', 'vehicles', 'vei', 'velocities', 'velocity', 'venari', 'vendor', 'vendors', 'venting', 'ventura', 'venture', 'ventures', 'venus', 'ver', 'veraart', 'verify', 'verne', 'versa', 'version', 'versions', 'versus', 'vertical', 'vesa', 'vesterman', 'vet', 'veteran', 'veterans', 'vf', 'vf1', 'vg', 'vga', 'vgalogo', 'vh', 'vhf', 'vi', 'viamar', 'vice', 'vicinity', 'victory', 'video', 'videos', 'view', 'viewed', 'viewing', 'views', 'vigil', 'viking', 'villanueva', 'vince', 'vincent', 'viola', 'violated', 'violent', 'violet', 'virginia', 'virtual', 'virtually', 'virus', 'visa', 'visible', 'vision', 'visit', 'visited', 'visiting', 'visual', 'vital', 'vizcaino', 'vizquel', 'vj', 'vk', 'vl', 'vladimir', 'vlb', 'vlbi', 'vm', 'vma', 'vmk', 'vms', 'vn', 'vnet', 'vnews', 'vo', 'voice', 'void', 'vol', 'volume', 'volumes', 'von', 'vote', 'votes', 'voyager', 'voyages', 'vp', 'vpnet', 'vq', 'vr', 'vram', 'vs', 'vt', 'vtz', 'vu', 'vulcan', 'vulnerable', 'vum', 'vv', 'vw', 'vw8', 'vx', 'vy', 'vz', 'w0', 'w1', 'w11', 'w1t', 'w2', 'w3', 'w3q', 'w4', 'w44', 'w45', 'w47', 'w4w', 'w4wg', 'w5', 'w6', 'w7', 'w8', 'w9', 'w9v', 'w_', 'wa', 'wa4', 'wade', 'wagner', 'wait', 'waiting', 'waivers', 'wales', 'walford', 'walk', 'walker', 'walking', 'walks', 'wall', 'wallach', 'wallops', 'wallpaper', 'wallpapers', 'walls', 'walt', 'walter', 'walters', 'wang', 'wanna', 'want', 'wanted', 'wanting', 'wants', 'war', 'ward', 'warfare', 'warner', 'warning', 'warped', 'warren', 'warrent', 'wars', 'washington', 'wasn', 'waste', 'wasted', 'wasting', 'watch', 'watched', 'watching', 'water', 'waterloo', 'waters', 'wats', 'watson', 'watts', 'wave', 'waves', 'waving', 'wax', 'way', 'wayne', 'ways', 'wb', 'wc', 'wd', 'wdwells', 'weak', 'weapons', 'wearing', 'weather', 'weber', 'wed', 'wednesday', 'week', 'weekend', 'weekly', 'weeks', 'weigh', 'weight', 'weird', 'weiss', 'welcome', 'wellington', 'wells', 'went', 'weren', 'wes', 'west', 'western', 'wet', 'wetstein', 'wetteland', 'wf', 'wfan', 'wfw', 'wfw2', 'wfwg', 'wg', 'wh', 'whatsoever', 'whining', 'whitaker', 'white', 'whiten', 'whoosh', 'wi', 'wickman', 'wide', 'widely', 'width', 'wierd', 'wife', 'wig', 'wilbur', 'wild', 'wildstrom', 'william', 'williams', 'willie', 'willing', 'wilson', 'wim', 'wimsey', 'wimvh', 'win', 'win16', 'win3', 'win31', 'win32', 'winadv', 'winbench', 'wind', 'window', 'windowed', 'windows', 'winfax', 'winfield', 'wing', 'wingless', 'wingo', 'wings', 'winmark', 'winmarks', 'winner', 'winners', 'winning', 'winqvt', 'winqvtnet', 'wins', 'winsock', 'winter', 'wintrumpet', 'winword', 'wip', 'wiped', 'wire', 'wisc', 'wisconsin', 'wisdom', 'wise', 'wish', 'wishful', 'wiskunde', 'wit', 'witness', 'wizard', 'wj', 'wk', 'wl', 'wlieftin', 'wm', 'wm4', 'wm4u', 'wmbxlt', 'wmbxn', 'wmw', 'wn', 'wnkretz', 'wo', 'woman', 'women', 'won', 'wonder', 'wondered', 'wonderful', 'wondering', 'wong', 'woo', 'wood', 'woodruff', 'woods', 'woof', 'woofing', 'worcester', 'word', 'worden', 'wordperfect', 'words', 'work', 'workable', 'workaround', 'worked', 'worker', 'workers', 'workgroup', 'workgroups', 'working', 'workplace', 'works', 'workshift', 'workshop', 'workspace', 'workspaces', 'workstation', 'workstations', 'world', 'worldwide', 'worried', 'worry', 'worse', 'worst', 'worth', 'worthless', 'wouldn', 'wound', 'wouter', 'wow', 'wp', 'wpi', 'wq', 'wrap', 'wraps', 'wrench', 'wri', 'wright', 'wrigley', 'wrist', 'write', 'writer', 'writers', 'writes', 'writing', 'written', 'wrj', 'wrksft16', 'wrong', 'wrote', 'ws', 'wspace', 'wspdpsf', 'wt', 'wu', 'wuarchive', 'wustl', 'wv', 'ww', 'ww2', 'ww7', 'wwhj', 'wwhjn', 'wwhjnux', 'wwhjnuy', 'wwiz', 'wwizw', 'wx', 'wy', 'wyatt', 'wz', 'x0', 'x1', 'x11', 'x2', 'x3', 'x4', 'x5', 'x6', 'x7', 'x8', 'x8z', 'x9', 'x9i', 'x_', 'xa', 'xb', 'xc', 'xd', 'xe', 'xenon', 'xg', 'xh', 'xi', 'xj', 'xk', 'xl', 'xm', 'xn', 'xp', 'xq', 'xr', 'xrcjd', 'xs', 'xssr', 'xt', 'xu', 'xv', 'xw', 'xx', 'xxdate', 'xxmessage', 'xy', 'y0', 'y1', 'y2', 'y24', 'y3', 'y4', 'y5', 'y5v', 'y6', 'y7', 'y8', 'y9', 'y9s', 'y_', 'ya', 'yale', 'yamauchi', 'yankee', 'yankees', 'yanks', 'yards', 'yb', 'yc', 'yd', 'yeah', 'year', 'yearly', 'years', 'yee', 'yell', 'yellow', 'yep', 'yer', 'yes', 'yesterday', 'yf', 'yf9', 'yf9f3t', 'yf9f9d', 'yf9f9f9', 'yg', 'yh', 'yi', 'yield', 'yj', 'yl', 'ym', 'yn', 'yo', 'yogi', 'yom', 'york', 'yorku', 'young', 'younger', 'youngsters', 'yount', 'yp', 'yq', 'yr', 'ys', 'yt', 'yu', 'yuggoth', 'yup', 'yv', 'yw', 'yx', 'yy', 'yz', 'z0', 'z1', 'z2', 'z3', 'z4', 'z5', 'z6', 'z6e', 'z6e1', 'z6e1t', 'z6ei', 'z6ei4', 'z7', 'z72', 'z8', 'z9', 'z_', 'za', 'zai', 'zane', 'zb', 'zbh', 'zc', 'zd', 'zd9', 'ze', 'zealand', 'zeile', 'zero', 'zeta', 'zeus', 'zf', 'zg', 'zgb0', 'zh', 'zi', 'zikzak', 'zip', 'zj', 'zl', 'zm', 'zn', 'znb', 'zng', 'znh', 'znk', 'znkjz', 'znl', 'zo', 'zone', 'zoo', 'zoology', 'zp', 'zq', 'zr', 'zrck', 'zri', 'zrlk', 'zs', 'zt', 'zu', 'zv', 'zw', 'zx', 'zy', 'zz']\n"
     ]
    }
   ],
   "source": [
    "print(type(dtm), dtm.shape)\n",
    "terms = vectorizer.get_feature_names()\n",
    "print(terms)"
   ]
  },
  {
   "cell_type": "markdown",
   "metadata": {
    "slideshow": {
     "slide_type": "fragment"
    }
   },
   "source": [
    "As a comparison case, let's first cluster the documents using the raw tf-idf scores.\n",
    "\n",
    "(This is without any use of PCA, and so includes lots of noisy or meaningless terms.)"
   ]
  },
  {
   "cell_type": "code",
   "execution_count": 11,
   "metadata": {
    "slideshow": {
     "slide_type": "fragment"
    }
   },
   "outputs": [],
   "source": [
    "from sklearn.cluster import KMeans\n",
    "k = 3\n",
    "kmeans = KMeans(n_clusters=k, init='k-means++', max_iter=100, n_init=10,random_state=0)\n",
    "kmeans.fit_predict(dtm)\n",
    "centroids = kmeans.cluster_centers_\n",
    "labels = kmeans.labels_\n",
    "error = kmeans.inertia_"
   ]
  },
  {
   "cell_type": "markdown",
   "metadata": {
    "slideshow": {
     "slide_type": "fragment"
    }
   },
   "source": [
    "Let's evaluate the clusters.  We'll assume that the newgroup the article came from is the 'ground truth.'"
   ]
  },
  {
   "cell_type": "code",
   "execution_count": 12,
   "metadata": {
    "slideshow": {
     "slide_type": "fragment"
    }
   },
   "outputs": [
    {
     "name": "stdout",
     "output_type": "stream",
     "text": [
      "Rand Index is 0.8162962282193574\n",
      "Silhouette Score is 0.009438086458856248\n"
     ]
    }
   ],
   "source": [
    "import sklearn.metrics as metrics\n",
    "ri = metrics.adjusted_rand_score(labels,news_data.target)\n",
    "ss = metrics.silhouette_score(dtm,kmeans.labels_,metric='euclidean')\n",
    "print('Rand Index is {}'.format(ri))\n",
    "print('Silhouette Score is {}'.format(ss))"
   ]
  },
  {
   "cell_type": "markdown",
   "metadata": {
    "slideshow": {
     "slide_type": "slide"
    }
   },
   "source": [
    "### Improvement: Stemming"
   ]
  },
  {
   "cell_type": "markdown",
   "metadata": {
    "slideshow": {
     "slide_type": "fragment"
    }
   },
   "source": [
    "One source of noise that we can eliminate (before we use LSA) comes from word endings.\n",
    "\n",
    "For example: a Google search on 'run' will return web pages on 'running.'\n",
    "\n",
    "This is useful, because the difference between 'run' and 'running' in practice is not enough to matter."
   ]
  },
  {
   "cell_type": "markdown",
   "metadata": {
    "slideshow": {
     "slide_type": "fragment"
    }
   },
   "source": [
    "The usual solution taken is to simply 'chop off' the part of the word that indicates a variation from the base word.\n",
    "\n",
    "(For those of you who studied Latin or Greek, this will sound familiar -- we are removing the 'inflection.')\n",
    "\n",
    "The process is called 'stemming.'"
   ]
  },
  {
   "cell_type": "markdown",
   "metadata": {
    "slideshow": {
     "slide_type": "fragment"
    }
   },
   "source": [
    "A very good stemmer is the \"Snowball\" stemmer.\n",
    "\n",
    "You can read more at http://www.nltk.org and http://www.nltk.org/howto/stem.html.\n",
    "\n",
    "Installation Note: From a cell you need to call `nltk.download()` and select the appropriate packages from the interface that appears. In particular you need to download: `stopwords` from _corpora_ and `punkt` and `snowball_data` from _models._"
   ]
  },
  {
   "cell_type": "markdown",
   "metadata": {
    "slideshow": {
     "slide_type": "fragment"
    }
   },
   "source": [
    "Let's stem the data using the Snowball stemmer:"
   ]
  },
  {
   "cell_type": "code",
   "execution_count": null,
   "metadata": {},
   "outputs": [],
   "source": [
    "from nltk.stem.snowball import SnowballStemmer\n",
    "from nltk.tokenize import word_tokenize, sent_tokenize\n"
   ]
  },
  {
   "cell_type": "code",
   "execution_count": null,
   "metadata": {
    "slideshow": {
     "slide_type": "fragment"
    }
   },
   "outputs": [],
   "source": [
    "# This cell takes a while!\n",
    "\n",
    "stemmed_data = [\" \".join(SnowballStemmer(\"english\", ignore_stopwords=True).stem(word)  \n",
    "         for sent in sent_tokenize(message)\n",
    "        for word in word_tokenize(sent))\n",
    "        for message in news_data.data]\n",
    "\n",
    "# stemmed_data = news_data.data"
   ]
  },
  {
   "cell_type": "code",
   "execution_count": null,
   "metadata": {
    "slideshow": {
     "slide_type": "fragment"
    }
   },
   "outputs": [],
   "source": [
    "dtm = vectorizer.fit_transform(stemmed_data)\n",
    "terms = vectorizer.get_feature_names()\n",
    "print(terms)"
   ]
  },
  {
   "cell_type": "markdown",
   "metadata": {
    "slideshow": {
     "slide_type": "fragment"
    }
   },
   "source": [
    "And now let's see how well we can cluster on the stemmed data."
   ]
  },
  {
   "cell_type": "code",
   "execution_count": null,
   "metadata": {
    "slideshow": {
     "slide_type": "fragment"
    }
   },
   "outputs": [],
   "source": [
    "from sklearn.cluster import KMeans\n",
    "k = 3\n",
    "kmeans = KMeans(n_clusters=k, init='k-means++', max_iter=100, n_init=10,random_state=0)\n",
    "kmeans.fit_predict(dtm)\n",
    "centroids = kmeans.cluster_centers_\n",
    "labels = kmeans.labels_\n",
    "error = kmeans.inertia_"
   ]
  },
  {
   "cell_type": "code",
   "execution_count": null,
   "metadata": {
    "slideshow": {
     "slide_type": "fragment"
    }
   },
   "outputs": [],
   "source": [
    "import sklearn.metrics as metrics\n",
    "ri = metrics.adjusted_rand_score(labels,news_data.target)\n",
    "ss = metrics.silhouette_score(dtm,kmeans.labels_,metric='euclidean')\n",
    "print('Rand Index is {}'.format(ri))\n",
    "print('Silhouette Score is {}'.format(ss))"
   ]
  },
  {
   "cell_type": "markdown",
   "metadata": {
    "slideshow": {
     "slide_type": "fragment"
    }
   },
   "source": [
    "So the Rand Index went from 0.816 to 0.846 as a result of stemming."
   ]
  },
  {
   "cell_type": "markdown",
   "metadata": {
    "slideshow": {
     "slide_type": "slide"
    }
   },
   "source": [
    "## Demonstrating PCA"
   ]
  },
  {
   "cell_type": "markdown",
   "metadata": {
    "slideshow": {
     "slide_type": "fragment"
    }
   },
   "source": [
    "OK.  Now, let's apply PCA.\n",
    "\n",
    "Our data matrix is in sparse form.\n",
    "\n"
   ]
  },
  {
   "cell_type": "markdown",
   "metadata": {
    "slideshow": {
     "slide_type": "fragment"
    }
   },
   "source": [
    "First, we mean center the data.\n",
    "Note that `vectors` is a sparse matrix, but once it is mean centered it is not sparse any longer."
   ]
  },
  {
   "cell_type": "code",
   "execution_count": null,
   "metadata": {
    "slideshow": {
     "slide_type": "fragment"
    }
   },
   "outputs": [],
   "source": [
    "dtm_dense = dtm.todense()\n",
    "centered_dtm = dtm_dense - np.mean(dtm_dense, axis=0)\n",
    "np.sum(centered_dtm,axis=0)[:,:10]"
   ]
  },
  {
   "cell_type": "code",
   "execution_count": null,
   "metadata": {
    "slideshow": {
     "slide_type": "fragment"
    }
   },
   "outputs": [],
   "source": [
    "u, s, vt = np.linalg.svd(centered_dtm)"
   ]
  },
  {
   "cell_type": "markdown",
   "metadata": {
    "slideshow": {
     "slide_type": "fragment"
    }
   },
   "source": [
    "Note that if you have sparse data, you may want to use `scipy.sparse.linalg.svds()` and for large data it may be advantageous to use `sklearn.decomposition.TruncatedSVD()`."
   ]
  },
  {
   "cell_type": "markdown",
   "metadata": {},
   "source": [
    "$$ \\mbox{objects}\\left\\{\\begin{array}{c}\\;\\\\\\;\\\\\\;\\\\\\;\\\\\\;\\end{array}\\right.\\;\\;\\overbrace{\\left[\\begin{array}{cccc}\\begin{array}{c}\\vdots\\\\\\vdots\\\\{\\bf a_1}\\\\\\vdots\\\\\\vdots\\end{array}&\\begin{array}{c}\\vdots\\\\\\vdots\\\\{\\bf a_2}\\\\\\vdots\\\\\\vdots\\end{array}&\\dots&\\begin{array}{c}\\vdots\\\\\\vdots\\\\{\\bf a_n}\\\\\\vdots\\\\\\vdots\\end{array}\\\\\\end{array}\\right]}^{\\mbox{features}} =\n",
    "\\overbrace{\\left[\\begin{array}{cc}\\vdots&\\vdots\\\\\\vdots&\\vdots\\\\\\sigma_1\\vu_1&\\sigma_k\\vu_k\\\\\\vdots&\\vdots\\\\\\vdots&\\vdots\\end{array}\\right]}^{\\large k}\n",
    "\\times\n",
    "\\left[\\begin{array}{ccccc}\\dots&\\dots&\\vv_1&\\dots&\\dots\\\\\\dots&\\dots&\\vv_k&\\dots&\\dots\\end{array}\\right]$$\n",
    "\n",
    "\n",
    "$$ A = U\\Sigma V^T$$"
   ]
  },
  {
   "cell_type": "markdown",
   "metadata": {
    "slideshow": {
     "slide_type": "fragment"
    }
   },
   "source": [
    "The principal components (rows of $V^T$) encode the extracted concepts.\n",
    "\n",
    "Each LSA __concept__ is a linear combination of words."
   ]
  },
  {
   "cell_type": "code",
   "execution_count": null,
   "metadata": {
    "slideshow": {
     "slide_type": "fragment"
    }
   },
   "outputs": [],
   "source": [
    "pd.DataFrame(vt,columns=vectorizer.get_feature_names())"
   ]
  },
  {
   "cell_type": "markdown",
   "metadata": {
    "slideshow": {
     "slide_type": "fragment"
    }
   },
   "source": [
    "The rows of $U$ correpond to documents, which are linear combinations of __concepts__."
   ]
  },
  {
   "cell_type": "markdown",
   "metadata": {
    "slideshow": {
     "slide_type": "slide"
    }
   },
   "source": [
    "## Denoising"
   ]
  },
  {
   "cell_type": "markdown",
   "metadata": {
    "slideshow": {
     "slide_type": "fragment"
    }
   },
   "source": [
    "In order to improve our clustering accuracy, we will __exclude__ the less significant concepts from the documents' feature vectors.\n",
    "\n",
    "That is, we will choose the leftmost $k$ columns of $U$ and the topmost $k$ rows of $V^T$.  \n",
    "\n",
    "The reduced set of columns of $U$ are our new document encodings, and it is those that we will cluster."
   ]
  },
  {
   "cell_type": "code",
   "execution_count": null,
   "metadata": {
    "slideshow": {
     "slide_type": "fragment"
    }
   },
   "outputs": [],
   "source": [
    "plt.xlim([0,50])\n",
    "plt.plot(range(1,len(s)+1),s)"
   ]
  },
  {
   "cell_type": "markdown",
   "metadata": {
    "slideshow": {
     "slide_type": "fragment"
    }
   },
   "source": [
    "It looks like 2 is a reasonable number of principal components."
   ]
  },
  {
   "cell_type": "code",
   "execution_count": null,
   "metadata": {
    "slideshow": {
     "slide_type": "fragment"
    }
   },
   "outputs": [],
   "source": [
    "ri = []\n",
    "ss = []\n",
    "max = len(u)\n",
    "for k in range(1,50):\n",
    "    vectorsk = u[:,:k] @ np.diag(s[:k])\n",
    "    kmeans = KMeans(n_clusters=3, init='k-means++', max_iter=100, n_init=10, random_state=0)\n",
    "    kmeans.fit_predict(vectorsk)\n",
    "    labelsk = kmeans.labels_\n",
    "    ri.append(metrics.adjusted_rand_score(labelsk,news_data.target))\n",
    "    ss.append(metrics.silhouette_score(vectorsk,kmeans.labels_,metric='euclidean'))"
   ]
  },
  {
   "cell_type": "code",
   "execution_count": null,
   "metadata": {
    "slideshow": {
     "slide_type": "fragment"
    }
   },
   "outputs": [],
   "source": [
    "plt.plot(range(1,50),ri)\n",
    "plt.ylabel('Rand Score',size=20)\n",
    "plt.xlabel('No of Prin Comps',size=20)"
   ]
  },
  {
   "cell_type": "code",
   "execution_count": null,
   "metadata": {
    "slideshow": {
     "slide_type": "fragment"
    }
   },
   "outputs": [],
   "source": [
    "news_data.target_names"
   ]
  },
  {
   "cell_type": "code",
   "execution_count": null,
   "metadata": {
    "slideshow": {
     "slide_type": "fragment"
    }
   },
   "outputs": [],
   "source": [
    "plt.plot(range(1,50),ss)\n",
    "plt.ylabel('Silhouette Score',size=20)\n",
    "plt.xlabel('No of Prin Comps',size=20)"
   ]
  },
  {
   "cell_type": "markdown",
   "metadata": {
    "slideshow": {
     "slide_type": "fragment"
    }
   },
   "source": [
    "Note that we can get good accuracy with just __two__ principal components."
   ]
  },
  {
   "cell_type": "markdown",
   "metadata": {
    "slideshow": {
     "slide_type": "slide"
    }
   },
   "source": [
    "## Visualization"
   ]
  },
  {
   "cell_type": "markdown",
   "metadata": {
    "slideshow": {
     "slide_type": "fragment"
    }
   },
   "source": [
    "That's a good thing, because it means that we can __visualize__ the data well with the help of PCA."
   ]
  },
  {
   "cell_type": "markdown",
   "metadata": {
    "slideshow": {
     "slide_type": "fragment"
    }
   },
   "source": [
    "Recall that the challenge of visualization is that the data live in a high dimensional space.  \n",
    "\n",
    "We can only look at 2 (or maybe 3) dimensions at a time, so it's not clear __which__ dimensions to look at."
   ]
  },
  {
   "cell_type": "markdown",
   "metadata": {
    "slideshow": {
     "slide_type": "fragment"
    }
   },
   "source": [
    "The idea behind using PCA for visualization is that since low-numbered principal components capture most of the __variance__ in the data, these are the \"directions\" from which it is most useful to inspect the data."
   ]
  },
  {
   "cell_type": "markdown",
   "metadata": {
    "slideshow": {
     "slide_type": "fragment"
    }
   },
   "source": [
    "We saw that the first two principal components were particularly large -- let's start by using them for visualization."
   ]
  },
  {
   "cell_type": "code",
   "execution_count": null,
   "metadata": {
    "slideshow": {
     "slide_type": "fragment"
    }
   },
   "outputs": [],
   "source": [
    "import seaborn as sns\n",
    "Xk = u @ np.diag(s) # This is the all-important projection step. \n",
    "                    # Here @ denotes matrix multiplication\n",
    "                    # u  @ diag(s) is the projection of the data points onto the space spanned by first two rows of vt\n",
    "                    # (where we represent the projected points in the coordinate system given by those rows)\n",
    "with sns.axes_style(\"white\"):\n",
    "    fig, ax = plt.subplots(1,1,figsize=(7,7))\n",
    "    cmap = sns.hls_palette(n_colors=3, h=0.35, l=0.4, s=0.9)\n",
    "    for i, label in enumerate(set(news_data.target)):\n",
    "        point_indices = np.where(news_data.target == label)[0]\n",
    "        point_indices = point_indices.tolist()\n",
    "        plt.scatter(Xk[point_indices,0].tolist(), Xk[point_indices,1].tolist() \n",
    "                    # The conversion to list forces Xk to be a 1D structure.\n",
    "                    , s=20, alpha=0.5, c=cmap[i], marker='D'\n",
    "                    ,label=news_data.target_names[i])\n",
    "        plt.legend(prop={'size':14}, loc=2)\n",
    "    sns.despine()\n",
    "_ = plt.title('Ground Truth', size=20)"
   ]
  },
  {
   "cell_type": "markdown",
   "metadata": {
    "slideshow": {
     "slide_type": "fragment"
    }
   },
   "source": [
    "Points in this plot have been labelled with their \"true\" (aka \"ground truth\") cluster labels.\n",
    "\n",
    "Notice how clearly the clusters separate and how coherently they present themselves.   This is obvious an excellent visualization that is provided by PCA."
   ]
  },
  {
   "cell_type": "markdown",
   "metadata": {
    "slideshow": {
     "slide_type": "fragment"
    }
   },
   "source": [
    "Since this visualization is so clear, we can use it to examine the results of our various clustering methods and get some insight into how they differ."
   ]
  },
  {
   "cell_type": "code",
   "execution_count": null,
   "metadata": {
    "slideshow": {
     "slide_type": "fragment"
    }
   },
   "outputs": [],
   "source": [
    "k = 3\n",
    "kmeans = KMeans(n_clusters=k, init='k-means++', max_iter=100, n_init=10,random_state=0)\n",
    "kmeans.fit_predict(dtm)\n",
    "centroids = kmeans.cluster_centers_\n",
    "labels = kmeans.labels_\n",
    "error = kmeans.inertia_\n",
    "\n",
    "with sns.axes_style(\"white\"):\n",
    "    fig, ax = plt.subplots(1,1,figsize=(7,7))\n",
    "    cmap = sns.hls_palette(n_colors=3, h=0.35, l=0.4, s=0.9)\n",
    "    for i in range(k):\n",
    "        point_indices = np.where(labels == i)[0]\n",
    "        point_indices = point_indices.tolist()\n",
    "        plt.scatter(Xk[point_indices,0].tolist(), Xk[point_indices,1].tolist(), \n",
    "                    s=20, alpha=0.5, c=cmap[i], marker='D',\n",
    "                    label=news_data.target_names[i])\n",
    "    plt.legend(prop={'size':14}, loc=2)\n",
    "    sns.despine()\n",
    "plt.title('Clusters On Full Dataset, Dimension = {}\\nRand Score = {:0.3f}'.format(dtm.shape[1],\n",
    "                                                                             metrics.adjusted_rand_score(labels,news_data.target)),\n",
    "          size=20)\n"
   ]
  },
  {
   "cell_type": "code",
   "execution_count": null,
   "metadata": {
    "slideshow": {
     "slide_type": "fragment"
    }
   },
   "outputs": [],
   "source": [
    "k = 3\n",
    "kmeans = KMeans(n_clusters=k, init='k-means++', max_iter=100, n_init=10,random_state=0)\n",
    "kmeans.fit_predict(Xk[:,:2])\n",
    "centroids = kmeans.cluster_centers_\n",
    "Xklabels = kmeans.labels_\n",
    "error = kmeans.inertia_\n",
    "\n",
    "with sns.axes_style(\"white\"):\n",
    "    fig, ax = plt.subplots(1,1,figsize=(7,7))\n",
    "    cmap = sns.hls_palette(n_colors=3, h=0.35, l=0.4, s=0.9)\n",
    "    for i, label in enumerate(set(news_data.target)):\n",
    "        point_indices = np.where(Xklabels == label)[0]\n",
    "        point_indices = point_indices.tolist()\n",
    "        plt.scatter(Xk[point_indices,0].tolist(), Xk[point_indices,1].tolist(), s=20, alpha=0.5, c=cmap[i], marker='D')\n",
    "    sns.despine()\n",
    "plt.title('Clusters On PCA-reduced Dataset, Dimension = 2\\nRand Score = {:0.3f}'.format(\n",
    "                                                                                 metrics.adjusted_rand_score(Xklabels,news_data.target)),\n",
    "          size=20)"
   ]
  },
  {
   "cell_type": "code",
   "execution_count": null,
   "metadata": {
    "slideshow": {
     "slide_type": "fragment"
    }
   },
   "outputs": [],
   "source": [
    "plt.figure(figsize=(8,4))\n",
    "plt.subplot(121)\n",
    "cmap = sns.hls_palette(n_colors=3, h=0.35, l=0.4, s=0.9)\n",
    "for i in range(k):\n",
    "        point_indices = np.where(labels == i)[0]\n",
    "        point_indices = point_indices.tolist()\n",
    "        plt.scatter(Xk[point_indices,0].tolist(), Xk[point_indices,1].tolist(), s=20, alpha=0.5, c=cmap[i], marker='D')\n",
    "sns.despine()\n",
    "plt.title('Dimension = {}\\nRand Score = {:0.3f}'.format(dtm.shape[1],\n",
    "                                                                             metrics.adjusted_rand_score(labels,news_data.target)),\n",
    "          size=14)\n",
    "plt.subplot(122)\n",
    "cmap = sns.hls_palette(n_colors=3, h=0.35, l=0.4, s=0.9)\n",
    "for i in range(k):\n",
    "        point_indices = np.where(Xklabels == i)[0]\n",
    "        point_indices = point_indices.tolist()\n",
    "        plt.scatter(Xk[point_indices,0].tolist(), Xk[point_indices,1].tolist(), \n",
    "                    s=20, alpha=0.5, c=cmap[i], marker='D')\n",
    "sns.despine()\n",
    "plt.title('Dimension = 2\\nRand Score = {:0.3f}'.format(\n",
    "                                                                                 metrics.adjusted_rand_score(Xklabels,news_data.target)),\n",
    "          size=14)\n"
   ]
  },
  {
   "cell_type": "markdown",
   "metadata": {
    "slideshow": {
     "slide_type": "skip"
    }
   },
   "source": [
    "What happens if we misjudge the number of clusters?  Let's form 6 clusters."
   ]
  },
  {
   "cell_type": "code",
   "execution_count": null,
   "metadata": {
    "slideshow": {
     "slide_type": "skip"
    }
   },
   "outputs": [],
   "source": [
    "k = 6\n",
    "kmeans = KMeans(n_clusters=k, init='k-means++', max_iter=100, n_init=10,random_state=0)\n",
    "kmeans.fit_predict(Xk[:,:6])\n",
    "centroids = kmeans.cluster_centers_\n",
    "labels = kmeans.labels_\n",
    "error = kmeans.inertia_\n",
    "\n",
    "with sns.axes_style(\"white\"):\n",
    "    fig, ax = plt.subplots(1,1,figsize=(10,10))\n",
    "    cmap = sns.hls_palette(n_colors=k, h=0.35, l=0.4, s=0.9)\n",
    "    for i in range(k):\n",
    "        point_indices = np.where(labels == i)[0]\n",
    "        point_indices = point_indices.tolist()\n",
    "        plt.scatter(Xk[point_indices,0].tolist(), Xk[point_indices,1].tolist(), s=20, alpha=0.5, c=cmap[i], marker='D')\n",
    "    sns.despine()\n",
    "    \n",
    "print(metrics.adjusted_rand_score(labels,news_data.target))"
   ]
  },
  {
   "cell_type": "code",
   "execution_count": null,
   "metadata": {
    "slideshow": {
     "slide_type": "skip"
    }
   },
   "outputs": [],
   "source": [
    "k = 6\n",
    "kmeans = KMeans(n_clusters=k, init='k-means++', max_iter=100, n_init=10,random_state=0)\n",
    "kmeans.fit_predict(dtm)\n",
    "centroids = kmeans.cluster_centers_\n",
    "labels = kmeans.labels_\n",
    "error = kmeans.inertia_\n",
    "\n",
    "with sns.axes_style(\"white\"):\n",
    "    fig, ax = plt.subplots(1,1,figsize=(10,10))\n",
    "    cmap = sns.hls_palette(n_colors=k, h=0.35, l=0.4, s=0.9)\n",
    "    for i in range(k):\n",
    "        point_indices = np.where(labels == i)[0]\n",
    "        point_indices = point_indices.tolist()\n",
    "        plt.scatter(Xk[point_indices,0].tolist(), Xk[point_indices,1].tolist(), s=20, alpha=0.5, c=cmap[i], marker='D')\n",
    "    sns.despine()\n",
    "plt.title('Clusters On Full Dataset, Dimension = {}'.format(dtm.shape[1]),size=20)\n",
    "    \n",
    "print(metrics.adjusted_rand_score(labels,news_data.target))"
   ]
  },
  {
   "cell_type": "markdown",
   "metadata": {
    "slideshow": {
     "slide_type": "fragment"
    }
   },
   "source": [
    "What about the other principal components?   Are they useful for visualization?\n",
    "\n",
    "A common approach is to look at all pairs of (low-numbered) principal components."
   ]
  },
  {
   "cell_type": "code",
   "execution_count": null,
   "metadata": {
    "scrolled": true,
    "slideshow": {
     "slide_type": "fragment"
    }
   },
   "outputs": [],
   "source": [
    "import seaborn as sns\n",
    "k = 5\n",
    "Xk = u[:,:k] @ np.diag(s[:k])\n",
    "X_df = pd.DataFrame(Xk)\n",
    "g = sns.PairGrid(X_df)\n",
    "g.map(plt.scatter)"
   ]
  },
  {
   "cell_type": "markdown",
   "metadata": {},
   "source": [
    "In the next set of plots, points are colored according to the ground truth."
   ]
  },
  {
   "cell_type": "code",
   "execution_count": null,
   "metadata": {
    "slideshow": {
     "slide_type": "fragment"
    }
   },
   "outputs": [],
   "source": [
    "k = 5\n",
    "Xk = u[:,:k] @ np.diag(s[:k])\n",
    "X_df = pd.DataFrame(Xk)\n",
    "g = sns.PairGrid(X_df)\n",
    "def pltColor(x,y,label,color):\n",
    "    cmap = sns.hls_palette(n_colors=3, h=0.35, l=0.4, s=0.9)\n",
    "    for i in range(3):\n",
    "        point_indices = np.where(news_data.target == i)[0]\n",
    "        point_indices = point_indices.tolist()\n",
    "        plt.scatter(x[point_indices], y[point_indices], c=cmap[i])\n",
    "    sns.despine()\n",
    "g.map(pltColor)"
   ]
  },
  {
   "cell_type": "markdown",
   "metadata": {
    "slideshow": {
     "slide_type": "slide"
    }
   },
   "source": [
    "## Looking at the Topics"
   ]
  },
  {
   "cell_type": "code",
   "execution_count": null,
   "metadata": {
    "slideshow": {
     "slide_type": "fragment"
    }
   },
   "outputs": [],
   "source": [
    "for i in range(6):\n",
    "    top = np.argsort(vt[i])\n",
    "    topterms = [terms[top[0,f]] for f in range(12)]\n",
    "    print (i, topterms)"
   ]
  },
  {
   "cell_type": "code",
   "execution_count": null,
   "metadata": {},
   "outputs": [],
   "source": []
  }
 ],
 "metadata": {
  "anaconda-cloud": {},
  "celltoolbar": "Slideshow",
  "kernelspec": {
   "display_name": "Python 3",
   "language": "python",
   "name": "python3"
  },
  "language_info": {
   "codemirror_mode": {
    "name": "ipython",
    "version": 3
   },
   "file_extension": ".py",
   "mimetype": "text/x-python",
   "name": "python",
   "nbconvert_exporter": "python",
   "pygments_lexer": "ipython3",
   "version": "3.6.4"
  }
 },
 "nbformat": 4,
 "nbformat_minor": 1
}
