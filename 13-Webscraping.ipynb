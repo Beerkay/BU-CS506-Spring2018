{
 "cells": [
  {
   "cell_type": "markdown",
   "metadata": {},
   "source": [
    "# Web scraping for BU CS 506 \n",
    "\n",
    "Lecture materials by Harshal Chaudhuri, March 20, 2018. "
   ]
  },
  {
   "cell_type": "markdown",
   "metadata": {},
   "source": [
    "## Apple Jobs website scraping\n",
    "\n",
    "Apple Jobs website uses AJAX queries to load the data. You can verify this by disabling Javascript, and refreshing the website to see that it does not have the relevant data. In the following cells, we create a simple scraper that makes similar AJAX calls to the server."
   ]
  },
  {
   "cell_type": "code",
   "execution_count": 1,
   "metadata": {},
   "outputs": [],
   "source": [
    "import json\n",
    "import requests\n",
    "from bs4 import BeautifulSoup\n",
    "\n",
    "from IPython.display import Image"
   ]
  },
  {
   "cell_type": "markdown",
   "metadata": {},
   "source": [
    "## Check the XHR tab in the Developer Options"
   ]
  },
  {
   "cell_type": "code",
   "execution_count": 2,
   "metadata": {
    "scrolled": false
   },
   "outputs": [
    {
     "ename": "FileNotFoundError",
     "evalue": "[Errno 2] No such file or directory: 'images/apple1.png'",
     "output_type": "error",
     "traceback": [
      "\u001b[0;31m---------------------------------------------------------------------------\u001b[0m",
      "\u001b[0;31mFileNotFoundError\u001b[0m                         Traceback (most recent call last)",
      "\u001b[0;32m<ipython-input-2-8f7ae1e2c81e>\u001b[0m in \u001b[0;36m<module>\u001b[0;34m()\u001b[0m\n\u001b[0;32m----> 1\u001b[0;31m \u001b[0mImage\u001b[0m\u001b[0;34m(\u001b[0m\u001b[0mfilename\u001b[0m\u001b[0;34m=\u001b[0m\u001b[0;34m'images/apple1.png'\u001b[0m\u001b[0;34m)\u001b[0m\u001b[0;34m\u001b[0m\u001b[0m\n\u001b[0m",
      "\u001b[0;32m~/anaconda3/lib/python3.6/site-packages/IPython/core/display.py\u001b[0m in \u001b[0;36m__init__\u001b[0;34m(self, data, url, filename, format, embed, width, height, retina, unconfined, metadata)\u001b[0m\n\u001b[1;32m   1132\u001b[0m         \u001b[0mself\u001b[0m\u001b[0;34m.\u001b[0m\u001b[0munconfined\u001b[0m \u001b[0;34m=\u001b[0m \u001b[0munconfined\u001b[0m\u001b[0;34m\u001b[0m\u001b[0m\n\u001b[1;32m   1133\u001b[0m         super(Image, self).__init__(data=data, url=url, filename=filename, \n\u001b[0;32m-> 1134\u001b[0;31m                 metadata=metadata)\n\u001b[0m\u001b[1;32m   1135\u001b[0m \u001b[0;34m\u001b[0m\u001b[0m\n\u001b[1;32m   1136\u001b[0m         \u001b[0;32mif\u001b[0m \u001b[0mself\u001b[0m\u001b[0;34m.\u001b[0m\u001b[0mwidth\u001b[0m \u001b[0;32mis\u001b[0m \u001b[0;32mNone\u001b[0m \u001b[0;32mand\u001b[0m \u001b[0mself\u001b[0m\u001b[0;34m.\u001b[0m\u001b[0mmetadata\u001b[0m\u001b[0;34m.\u001b[0m\u001b[0mget\u001b[0m\u001b[0;34m(\u001b[0m\u001b[0;34m'width'\u001b[0m\u001b[0;34m,\u001b[0m \u001b[0;34m{\u001b[0m\u001b[0;34m}\u001b[0m\u001b[0;34m)\u001b[0m\u001b[0;34m:\u001b[0m\u001b[0;34m\u001b[0m\u001b[0m\n",
      "\u001b[0;32m~/anaconda3/lib/python3.6/site-packages/IPython/core/display.py\u001b[0m in \u001b[0;36m__init__\u001b[0;34m(self, data, url, filename, metadata)\u001b[0m\n\u001b[1;32m    606\u001b[0m             \u001b[0mself\u001b[0m\u001b[0;34m.\u001b[0m\u001b[0mmetadata\u001b[0m \u001b[0;34m=\u001b[0m \u001b[0;34m{\u001b[0m\u001b[0;34m}\u001b[0m\u001b[0;34m\u001b[0m\u001b[0m\n\u001b[1;32m    607\u001b[0m \u001b[0;34m\u001b[0m\u001b[0m\n\u001b[0;32m--> 608\u001b[0;31m         \u001b[0mself\u001b[0m\u001b[0;34m.\u001b[0m\u001b[0mreload\u001b[0m\u001b[0;34m(\u001b[0m\u001b[0;34m)\u001b[0m\u001b[0;34m\u001b[0m\u001b[0m\n\u001b[0m\u001b[1;32m    609\u001b[0m         \u001b[0mself\u001b[0m\u001b[0;34m.\u001b[0m\u001b[0m_check_data\u001b[0m\u001b[0;34m(\u001b[0m\u001b[0;34m)\u001b[0m\u001b[0;34m\u001b[0m\u001b[0m\n\u001b[1;32m    610\u001b[0m \u001b[0;34m\u001b[0m\u001b[0m\n",
      "\u001b[0;32m~/anaconda3/lib/python3.6/site-packages/IPython/core/display.py\u001b[0m in \u001b[0;36mreload\u001b[0;34m(self)\u001b[0m\n\u001b[1;32m   1163\u001b[0m         \u001b[0;34m\"\"\"Reload the raw data from file or URL.\"\"\"\u001b[0m\u001b[0;34m\u001b[0m\u001b[0m\n\u001b[1;32m   1164\u001b[0m         \u001b[0;32mif\u001b[0m \u001b[0mself\u001b[0m\u001b[0;34m.\u001b[0m\u001b[0membed\u001b[0m\u001b[0;34m:\u001b[0m\u001b[0;34m\u001b[0m\u001b[0m\n\u001b[0;32m-> 1165\u001b[0;31m             \u001b[0msuper\u001b[0m\u001b[0;34m(\u001b[0m\u001b[0mImage\u001b[0m\u001b[0;34m,\u001b[0m\u001b[0mself\u001b[0m\u001b[0;34m)\u001b[0m\u001b[0;34m.\u001b[0m\u001b[0mreload\u001b[0m\u001b[0;34m(\u001b[0m\u001b[0;34m)\u001b[0m\u001b[0;34m\u001b[0m\u001b[0m\n\u001b[0m\u001b[1;32m   1166\u001b[0m             \u001b[0;32mif\u001b[0m \u001b[0mself\u001b[0m\u001b[0;34m.\u001b[0m\u001b[0mretina\u001b[0m\u001b[0;34m:\u001b[0m\u001b[0;34m\u001b[0m\u001b[0m\n\u001b[1;32m   1167\u001b[0m                 \u001b[0mself\u001b[0m\u001b[0;34m.\u001b[0m\u001b[0m_retina_shape\u001b[0m\u001b[0;34m(\u001b[0m\u001b[0;34m)\u001b[0m\u001b[0;34m\u001b[0m\u001b[0m\n",
      "\u001b[0;32m~/anaconda3/lib/python3.6/site-packages/IPython/core/display.py\u001b[0m in \u001b[0;36mreload\u001b[0;34m(self)\u001b[0m\n\u001b[1;32m    631\u001b[0m         \u001b[0;34m\"\"\"Reload the raw data from file or URL.\"\"\"\u001b[0m\u001b[0;34m\u001b[0m\u001b[0m\n\u001b[1;32m    632\u001b[0m         \u001b[0;32mif\u001b[0m \u001b[0mself\u001b[0m\u001b[0;34m.\u001b[0m\u001b[0mfilename\u001b[0m \u001b[0;32mis\u001b[0m \u001b[0;32mnot\u001b[0m \u001b[0;32mNone\u001b[0m\u001b[0;34m:\u001b[0m\u001b[0;34m\u001b[0m\u001b[0m\n\u001b[0;32m--> 633\u001b[0;31m             \u001b[0;32mwith\u001b[0m \u001b[0mopen\u001b[0m\u001b[0;34m(\u001b[0m\u001b[0mself\u001b[0m\u001b[0;34m.\u001b[0m\u001b[0mfilename\u001b[0m\u001b[0;34m,\u001b[0m \u001b[0mself\u001b[0m\u001b[0;34m.\u001b[0m\u001b[0m_read_flags\u001b[0m\u001b[0;34m)\u001b[0m \u001b[0;32mas\u001b[0m \u001b[0mf\u001b[0m\u001b[0;34m:\u001b[0m\u001b[0;34m\u001b[0m\u001b[0m\n\u001b[0m\u001b[1;32m    634\u001b[0m                 \u001b[0mself\u001b[0m\u001b[0;34m.\u001b[0m\u001b[0mdata\u001b[0m \u001b[0;34m=\u001b[0m \u001b[0mf\u001b[0m\u001b[0;34m.\u001b[0m\u001b[0mread\u001b[0m\u001b[0;34m(\u001b[0m\u001b[0;34m)\u001b[0m\u001b[0;34m\u001b[0m\u001b[0m\n\u001b[1;32m    635\u001b[0m         \u001b[0;32melif\u001b[0m \u001b[0mself\u001b[0m\u001b[0;34m.\u001b[0m\u001b[0murl\u001b[0m \u001b[0;32mis\u001b[0m \u001b[0;32mnot\u001b[0m \u001b[0;32mNone\u001b[0m\u001b[0;34m:\u001b[0m\u001b[0;34m\u001b[0m\u001b[0m\n",
      "\u001b[0;31mFileNotFoundError\u001b[0m: [Errno 2] No such file or directory: 'images/apple1.png'"
     ]
    }
   ],
   "source": [
    "Image(filename='images/apple1.png')"
   ]
  },
  {
   "cell_type": "markdown",
   "metadata": {},
   "source": [
    "## Steps in scraping using XHR \n",
    "\n",
    "1. Build XHR request with required parameters.\n",
    "2. Make the request.\n",
    "3. Parse the response."
   ]
  },
  {
   "cell_type": "code",
   "execution_count": 3,
   "metadata": {},
   "outputs": [],
   "source": [
    "# Search Parameters\n",
    "search_request = {\n",
    "        'searchString': '',\n",
    "        'jobType': 0,\n",
    "        'sortBy': 'req_open_dt',\n",
    "        'sortOrder': '1',\n",
    "        'language': None,\n",
    "        'autocomplete': None,\n",
    "        'delta': 0,\n",
    "        'numberOfResults': 0,\n",
    "        'pageNumber': None,\n",
    "        'internalExternalIndicator': 0,\n",
    "        'lastRunDate': 0,\n",
    "        'countryLang': None,\n",
    "        'filters': {\n",
    "              'locations':{\n",
    "                   'location':[{\n",
    "                            'type': 0,\n",
    "                            'code': 'USA',\n",
    "                            'countryCode': None,\n",
    "                            'stateCode': None,\n",
    "                            'cityCode': None,\n",
    "                            'cityName': None\n",
    "                            }]\n",
    "                        },\n",
    "                    'languageSkills': None,\n",
    "                    'jobFunctions': None,\n",
    "                    'retailJobSpecs': None,\n",
    "                    'businessLine': None,\n",
    "                    'hiringManagerId': None},\n",
    "                'requisitionIds': None\n",
    "        }"
   ]
  },
  {
   "cell_type": "code",
   "execution_count": 4,
   "metadata": {},
   "outputs": [],
   "source": [
    "# Scraping method\n",
    "def scrape_jobs(max_pages=2):\n",
    "    jobs = []\n",
    "    pageno = 0\n",
    "    search_request['pageNumber'] = pageno\n",
    "\n",
    "    while pageno < max_pages:\n",
    "        payload = {\n",
    "                    'searchRequestJson': json.dumps(search_request),\n",
    "                    'clientOffset': '-300'\n",
    "                    }\n",
    "        r = requests.post(\n",
    "                url = 'https://jobs.apple.com/us/search/search-result',\n",
    "                data = payload,\n",
    "                headers = {\n",
    "                    'X-Requested-With': 'XMLHttpRequest'\n",
    "                    }\n",
    "                )\n",
    "\n",
    "        # BeautifulSoup parser\n",
    "        s = BeautifulSoup(r.text, 'lxml')\n",
    "        if not s.requisition:\n",
    "            break\n",
    "\n",
    "        for r in s.findAll('requisition'):\n",
    "            job = {}\n",
    "            job['jobid'] = r.jobid.text\n",
    "            job['title'] = r.postingtitle and \\\n",
    "                    r.postingtitle.text or r.retailpostingtitle.text\n",
    "            job['location'] = r.location.text\n",
    "            jobs.append(job)\n",
    "\n",
    "        pageno += 1\n",
    "        search_request['pageNumber'] = pageno\n",
    "\n",
    "    return jobs\n",
    "\n",
    "def scrape_apple_jobs():\n",
    "    jobs = scrape_jobs()\n",
    "    for job in jobs:\n",
    "        print (job)"
   ]
  },
  {
   "cell_type": "code",
   "execution_count": 5,
   "metadata": {},
   "outputs": [
    {
     "name": "stdout",
     "output_type": "stream",
     "text": [
      "{'jobid': 'USABS', 'title': 'US-Business Expert', 'location': 'Various'}\n",
      "{'jobid': 'USACR', 'title': 'US-Creative', 'location': 'Various'}\n",
      "{'jobid': 'USAEX', 'title': 'US-Expert', 'location': 'Various'}\n",
      "{'jobid': 'USAGN', 'title': 'US-Genius', 'location': 'Various'}\n",
      "{'jobid': 'USAIS', 'title': 'US-Operations Expert', 'location': 'Various'}\n",
      "{'jobid': 'USALP', 'title': 'US-Apple Store Leader Program', 'location': 'Various'}\n",
      "{'jobid': 'USAML', 'title': 'US-Market Leader', 'location': 'Various'}\n",
      "{'jobid': 'USAMN', 'title': 'US-Manager', 'location': 'Various'}\n",
      "{'jobid': 'USASE', 'title': 'US-Solution Engineer', 'location': 'Various'}\n",
      "{'jobid': 'USASL', 'title': 'US-Store Leader', 'location': 'Various'}\n",
      "{'jobid': 'USASP', 'title': 'US-Specialist', 'location': 'Various'}\n",
      "{'jobid': 'USSS', 'title': 'US-Technical Specialist', 'location': 'Various'}\n",
      "{'jobid': 'USSM', 'title': 'US-Senior Manager', 'location': 'Various'}\n",
      "{'jobid': '113179535', 'title': 'Senior Data Engineer, Apple Media Products', 'location': 'Santa Clara Valley'}\n",
      "{'jobid': '113583531', 'title': 'Software Engineer', 'location': 'Santa Clara Valley'}\n",
      "{'jobid': '113539659', 'title': 'Strategic Business Development Manager- Health', 'location': 'Santa Clara Valley'}\n",
      "{'jobid': '113353575', 'title': 'Baseband Hardware Engineer (Wireless Design division)', 'location': 'Santa Clara Valley'}\n",
      "{'jobid': '113298635', 'title': 'Project Manager - EES', 'location': 'Santa Clara Valley'}\n",
      "{'jobid': '113593449', 'title': 'Lead Apple Solution Consultant Portland OR', 'location': 'Portland'}\n",
      "{'jobid': '113594594', 'title': 'Engineer, macOS Installation', 'location': 'Santa Clara Valley'}\n",
      "{'jobid': '56026103', 'title': 'Designer, Motion Graphics', 'location': 'Santa Clara Valley'}\n",
      "{'jobid': '113606300', 'title': 'AppleCare College Program - Alabama State University', 'location': 'Montgomery, AL'}\n",
      "{'jobid': '113606299', 'title': 'AppleCare College Program - Arizona State University', 'location': 'Tempe'}\n",
      "{'jobid': '113606298', 'title': 'AppleCare College Program - California State University, Sacramento', 'location': 'Sacramento'}\n",
      "{'jobid': '113606297', 'title': 'AppleCare College Program - Central Michigan University', 'location': 'Detroit'}\n",
      "{'jobid': '113606296', 'title': 'AppleCare College Program - Colorado State University', 'location': 'Fort Collins'}\n",
      "{'jobid': '113606295', 'title': 'AppleCare College Program - Georgia State University', 'location': 'Atlanta'}\n",
      "{'jobid': '113606294', 'title': 'AppleCare College Program - Indiana University-Bloomington', 'location': 'Bloomington, IN'}\n",
      "{'jobid': '113606293', 'title': 'AppleCare College Program - Michigan State University', 'location': 'East Lansing'}\n",
      "{'jobid': '113606292', 'title': 'AppleCare College Program - Oregon State University', 'location': 'Corvallis'}\n",
      "{'jobid': '113606291', 'title': 'AppleCare College Program - Pennsylvania State University', 'location': 'State College'}\n",
      "{'jobid': '113606290', 'title': 'AppleCare College Program - San Diego State University', 'location': 'San Diego'}\n",
      "{'jobid': '113614027', 'title': 'Electronic Noise & Vibration Engineer', 'location': 'Santa Clara Valley'}\n",
      "{'jobid': '113606289', 'title': 'AppleCare College Program - University of Alabama', 'location': 'Tuscaloosa'}\n",
      "{'jobid': '113606288', 'title': 'AppleCare College Program - University of Arizona', 'location': 'Tucson'}\n",
      "{'jobid': '113606287', 'title': 'AppleCare College Program - University of California Merced', 'location': 'Merced'}\n",
      "{'jobid': '113606285', 'title': 'AppleCare College Program - University of Illinois, Urbana-Champaign', 'location': 'Champaign'}\n",
      "{'jobid': '113023220', 'title': 'Threat Intelligence Engineer - Apple Information Security', 'location': 'Austin'}\n",
      "{'jobid': '113606284', 'title': 'AppleCare College Program - University of Oregon', 'location': 'Eugene'}\n",
      "{'jobid': '113606283', 'title': 'AppleCare College Program - University of Wisconsin, Milwaukee', 'location': 'Milwaukee'}\n"
     ]
    }
   ],
   "source": [
    "scrape_apple_jobs()"
   ]
  },
  {
   "cell_type": "markdown",
   "metadata": {},
   "source": [
    "# YouTube video list scraping using browser automation"
   ]
  },
  {
   "cell_type": "markdown",
   "metadata": {},
   "source": [
    "1. Download and unzip Chromedriver: https://sites.google.com/a/chromium.org/chromedriver/home\n",
    "2. Add the path to Chromedriver as an argument when the webdriver is instantiated"
   ]
  },
  {
   "cell_type": "code",
   "execution_count": 6,
   "metadata": {},
   "outputs": [],
   "source": [
    "from selenium import webdriver\n",
    "from time import sleep\n"
   ]
  },
  {
   "cell_type": "code",
   "execution_count": 8,
   "metadata": {},
   "outputs": [],
   "source": [
    "# The path should lead to your copy of chromedriver\n",
    "driver = webdriver.Chrome('/Users/asmith/repositories/github/BU-CS506-Spring2018/chromedriver')\n",
    " \n",
    "\n",
    "# YouTube search URL\n",
    "url = \"https://www.youtube.com/results?q=formula+1\"\n",
    "\n",
    "# Open the page in Selenium driver instance\n",
    "driver.get(url)"
   ]
  },
  {
   "cell_type": "markdown",
   "metadata": {},
   "source": [
    "## Use XPath to select the relevant elements in the webpage"
   ]
  },
  {
   "cell_type": "code",
   "execution_count": 9,
   "metadata": {},
   "outputs": [
    {
     "ename": "FileNotFoundError",
     "evalue": "[Errno 2] No such file or directory: 'images/youtube2.png'",
     "output_type": "error",
     "traceback": [
      "\u001b[0;31m---------------------------------------------------------------------------\u001b[0m",
      "\u001b[0;31mFileNotFoundError\u001b[0m                         Traceback (most recent call last)",
      "\u001b[0;32m<ipython-input-9-22a60751dc39>\u001b[0m in \u001b[0;36m<module>\u001b[0;34m()\u001b[0m\n\u001b[0;32m----> 1\u001b[0;31m \u001b[0mImage\u001b[0m\u001b[0;34m(\u001b[0m\u001b[0mfilename\u001b[0m\u001b[0;34m=\u001b[0m\u001b[0;34m\"images/youtube2.png\"\u001b[0m\u001b[0;34m)\u001b[0m\u001b[0;34m\u001b[0m\u001b[0m\n\u001b[0m",
      "\u001b[0;32m~/anaconda3/lib/python3.6/site-packages/IPython/core/display.py\u001b[0m in \u001b[0;36m__init__\u001b[0;34m(self, data, url, filename, format, embed, width, height, retina, unconfined, metadata)\u001b[0m\n\u001b[1;32m   1132\u001b[0m         \u001b[0mself\u001b[0m\u001b[0;34m.\u001b[0m\u001b[0munconfined\u001b[0m \u001b[0;34m=\u001b[0m \u001b[0munconfined\u001b[0m\u001b[0;34m\u001b[0m\u001b[0m\n\u001b[1;32m   1133\u001b[0m         super(Image, self).__init__(data=data, url=url, filename=filename, \n\u001b[0;32m-> 1134\u001b[0;31m                 metadata=metadata)\n\u001b[0m\u001b[1;32m   1135\u001b[0m \u001b[0;34m\u001b[0m\u001b[0m\n\u001b[1;32m   1136\u001b[0m         \u001b[0;32mif\u001b[0m \u001b[0mself\u001b[0m\u001b[0;34m.\u001b[0m\u001b[0mwidth\u001b[0m \u001b[0;32mis\u001b[0m \u001b[0;32mNone\u001b[0m \u001b[0;32mand\u001b[0m \u001b[0mself\u001b[0m\u001b[0;34m.\u001b[0m\u001b[0mmetadata\u001b[0m\u001b[0;34m.\u001b[0m\u001b[0mget\u001b[0m\u001b[0;34m(\u001b[0m\u001b[0;34m'width'\u001b[0m\u001b[0;34m,\u001b[0m \u001b[0;34m{\u001b[0m\u001b[0;34m}\u001b[0m\u001b[0;34m)\u001b[0m\u001b[0;34m:\u001b[0m\u001b[0;34m\u001b[0m\u001b[0m\n",
      "\u001b[0;32m~/anaconda3/lib/python3.6/site-packages/IPython/core/display.py\u001b[0m in \u001b[0;36m__init__\u001b[0;34m(self, data, url, filename, metadata)\u001b[0m\n\u001b[1;32m    606\u001b[0m             \u001b[0mself\u001b[0m\u001b[0;34m.\u001b[0m\u001b[0mmetadata\u001b[0m \u001b[0;34m=\u001b[0m \u001b[0;34m{\u001b[0m\u001b[0;34m}\u001b[0m\u001b[0;34m\u001b[0m\u001b[0m\n\u001b[1;32m    607\u001b[0m \u001b[0;34m\u001b[0m\u001b[0m\n\u001b[0;32m--> 608\u001b[0;31m         \u001b[0mself\u001b[0m\u001b[0;34m.\u001b[0m\u001b[0mreload\u001b[0m\u001b[0;34m(\u001b[0m\u001b[0;34m)\u001b[0m\u001b[0;34m\u001b[0m\u001b[0m\n\u001b[0m\u001b[1;32m    609\u001b[0m         \u001b[0mself\u001b[0m\u001b[0;34m.\u001b[0m\u001b[0m_check_data\u001b[0m\u001b[0;34m(\u001b[0m\u001b[0;34m)\u001b[0m\u001b[0;34m\u001b[0m\u001b[0m\n\u001b[1;32m    610\u001b[0m \u001b[0;34m\u001b[0m\u001b[0m\n",
      "\u001b[0;32m~/anaconda3/lib/python3.6/site-packages/IPython/core/display.py\u001b[0m in \u001b[0;36mreload\u001b[0;34m(self)\u001b[0m\n\u001b[1;32m   1163\u001b[0m         \u001b[0;34m\"\"\"Reload the raw data from file or URL.\"\"\"\u001b[0m\u001b[0;34m\u001b[0m\u001b[0m\n\u001b[1;32m   1164\u001b[0m         \u001b[0;32mif\u001b[0m \u001b[0mself\u001b[0m\u001b[0;34m.\u001b[0m\u001b[0membed\u001b[0m\u001b[0;34m:\u001b[0m\u001b[0;34m\u001b[0m\u001b[0m\n\u001b[0;32m-> 1165\u001b[0;31m             \u001b[0msuper\u001b[0m\u001b[0;34m(\u001b[0m\u001b[0mImage\u001b[0m\u001b[0;34m,\u001b[0m\u001b[0mself\u001b[0m\u001b[0;34m)\u001b[0m\u001b[0;34m.\u001b[0m\u001b[0mreload\u001b[0m\u001b[0;34m(\u001b[0m\u001b[0;34m)\u001b[0m\u001b[0;34m\u001b[0m\u001b[0m\n\u001b[0m\u001b[1;32m   1166\u001b[0m             \u001b[0;32mif\u001b[0m \u001b[0mself\u001b[0m\u001b[0;34m.\u001b[0m\u001b[0mretina\u001b[0m\u001b[0;34m:\u001b[0m\u001b[0;34m\u001b[0m\u001b[0m\n\u001b[1;32m   1167\u001b[0m                 \u001b[0mself\u001b[0m\u001b[0;34m.\u001b[0m\u001b[0m_retina_shape\u001b[0m\u001b[0;34m(\u001b[0m\u001b[0;34m)\u001b[0m\u001b[0;34m\u001b[0m\u001b[0m\n",
      "\u001b[0;32m~/anaconda3/lib/python3.6/site-packages/IPython/core/display.py\u001b[0m in \u001b[0;36mreload\u001b[0;34m(self)\u001b[0m\n\u001b[1;32m    631\u001b[0m         \u001b[0;34m\"\"\"Reload the raw data from file or URL.\"\"\"\u001b[0m\u001b[0;34m\u001b[0m\u001b[0m\n\u001b[1;32m    632\u001b[0m         \u001b[0;32mif\u001b[0m \u001b[0mself\u001b[0m\u001b[0;34m.\u001b[0m\u001b[0mfilename\u001b[0m \u001b[0;32mis\u001b[0m \u001b[0;32mnot\u001b[0m \u001b[0;32mNone\u001b[0m\u001b[0;34m:\u001b[0m\u001b[0;34m\u001b[0m\u001b[0m\n\u001b[0;32m--> 633\u001b[0;31m             \u001b[0;32mwith\u001b[0m \u001b[0mopen\u001b[0m\u001b[0;34m(\u001b[0m\u001b[0mself\u001b[0m\u001b[0;34m.\u001b[0m\u001b[0mfilename\u001b[0m\u001b[0;34m,\u001b[0m \u001b[0mself\u001b[0m\u001b[0;34m.\u001b[0m\u001b[0m_read_flags\u001b[0m\u001b[0;34m)\u001b[0m \u001b[0;32mas\u001b[0m \u001b[0mf\u001b[0m\u001b[0;34m:\u001b[0m\u001b[0;34m\u001b[0m\u001b[0m\n\u001b[0m\u001b[1;32m    634\u001b[0m                 \u001b[0mself\u001b[0m\u001b[0;34m.\u001b[0m\u001b[0mdata\u001b[0m \u001b[0;34m=\u001b[0m \u001b[0mf\u001b[0m\u001b[0;34m.\u001b[0m\u001b[0mread\u001b[0m\u001b[0;34m(\u001b[0m\u001b[0;34m)\u001b[0m\u001b[0;34m\u001b[0m\u001b[0m\n\u001b[1;32m    635\u001b[0m         \u001b[0;32melif\u001b[0m \u001b[0mself\u001b[0m\u001b[0;34m.\u001b[0m\u001b[0murl\u001b[0m \u001b[0;32mis\u001b[0m \u001b[0;32mnot\u001b[0m \u001b[0;32mNone\u001b[0m\u001b[0;34m:\u001b[0m\u001b[0;34m\u001b[0m\u001b[0m\n",
      "\u001b[0;31mFileNotFoundError\u001b[0m: [Errno 2] No such file or directory: 'images/youtube2.png'"
     ]
    }
   ],
   "source": [
    "Image(filename=\"images/youtube2.png\")"
   ]
  },
  {
   "cell_type": "code",
   "execution_count": 12,
   "metadata": {},
   "outputs": [],
   "source": [
    "def get_youtube_videos(driver):\n",
    "    # Use XPath to get all HTML elements corresponding to videos\n",
    "    videos = driver.find_elements_by_xpath(\"\"\"//*[@id=\"video-title\"]\"\"\")\n",
    "    \n",
    "    # Get video attributes\n",
    "    for video in videos:\n",
    "        title = video.get_attribute('title')\n",
    "        href = video.get_attribute('href')\n",
    "        \n",
    "        print (title)\n",
    "        print (href)\n",
    "        print (\"-----\")"
   ]
  },
  {
   "cell_type": "code",
   "execution_count": 13,
   "metadata": {},
   "outputs": [
    {
     "name": "stdout",
     "output_type": "stream",
     "text": [
      "Five Of The Best Onboards Down Under | Australian Grand Prix\n",
      "https://www.youtube.com/watch?v=0ZlNEGhS13I\n",
      "-----\n",
      "The Shortest Race In History | 1991 Australian Grand Prix\n",
      "https://www.youtube.com/watch?v=4Ps29eT1_rs\n",
      "-----\n",
      "Hamilton, Bottas & Wolff: Mercedes on their 2018 title defence\n",
      "https://www.youtube.com/watch?v=8wkBFMw63vI\n",
      "-----\n",
      "F1 Season Launch 2018: Engineered Insanity\n",
      "https://www.youtube.com/watch?v=vtqq_KbfUx0\n",
      "-----\n",
      "Formula 1 Australian Grand Prix\n",
      "https://www.youtube.com/watch?v=52pZxkIzq9Y\n",
      "-----\n",
      "2017 \"F1\" Formula 1 vs Formula E Drag Race! Forza 7\n",
      "https://www.youtube.com/watch?v=pbbXzZ7sTSU\n",
      "-----\n",
      "F1 2018 Season: Who is in the best shape?\n",
      "https://www.youtube.com/watch?v=ben3Yg9M72w\n",
      "-----\n",
      "Lego Formula 1\n",
      "https://www.youtube.com/watch?v=EuKignBh4OU\n",
      "-----\n",
      "Ferrari Formula 1 Corse Clienti - EPIC Line up! V8/V10/V12\n",
      "https://www.youtube.com/watch?v=wtKD8zcGLsU\n",
      "-----\n",
      "MY FORMULA ONE TRAINING REGIME\n",
      "https://www.youtube.com/watch?v=g-KYASQKdSU\n",
      "-----\n",
      "2014 FORMULA 1 RUSSIAN GRAND PRIX - Race Highlights\n",
      "https://www.youtube.com/watch?v=SDH4rBksMyQ\n",
      "-----\n",
      "2014 FORMULA 1 GULF AIR BAHRAIN GRAND PRIX\n",
      "https://www.youtube.com/watch?v=ahqKLbczdoM\n",
      "-----\n",
      "The Most Advanced Formula 1 Simulator In The World - XCAR\n",
      "https://www.youtube.com/watch?v=suXyQKnhs8Q\n",
      "-----\n",
      "2017 Bahrain Grand Prix: Race Highlights\n",
      "https://www.youtube.com/watch?v=6yXvIbKXehw\n",
      "-----\n",
      "2017 F1 Esports Grand Final: The Deciding Race\n",
      "https://www.youtube.com/watch?v=I--xYlIQF0k\n",
      "-----\n",
      "BEST OF FERRARI FORMULA 1 - V8, V10 and V12!\n",
      "https://www.youtube.com/watch?v=jvG2uWyIFrU\n",
      "-----\n",
      "F1: The Top Five Starts Of 2017\n",
      "https://www.youtube.com/watch?v=VjbGdMXG5ZI\n",
      "-----\n",
      "F1: Top 10 Team Radio Clips of 2017\n",
      "https://www.youtube.com/watch?v=_-D1gIo1aXE\n",
      "-----\n",
      "Vettel Wins 2017 Australian Grand Prix | Race Highlights\n",
      "https://www.youtube.com/watch?v=R3cfJCOSq8Q\n",
      "-----\n",
      "F1 Circuit Guide | Abu Dhabi Grand Prix 2016\n",
      "https://www.youtube.com/watch?v=mYZxFsQBSZI\n",
      "-----\n",
      "10 Of The Best Battles Of 2017 | F1 Season So Far\n",
      "https://www.youtube.com/watch?v=yWnUt94c0hA\n",
      "-----\n"
     ]
    }
   ],
   "source": [
    "get_youtube_videos(driver)"
   ]
  },
  {
   "cell_type": "markdown",
   "metadata": {
    "collapsed": true
   },
   "source": [
    "## You can interact with the webpage from your code"
   ]
  },
  {
   "cell_type": "markdown",
   "metadata": {},
   "source": [
    "The above list contains only 8 videos, how do you scroll down the page and use dynamic loading?"
   ]
  },
  {
   "cell_type": "code",
   "execution_count": 14,
   "metadata": {},
   "outputs": [],
   "source": [
    "from selenium.webdriver.common.action_chains import ActionChains\n",
    "from selenium.webdriver.common.keys import Keys\n",
    "\n",
    "actions = ActionChains(driver)"
   ]
  },
  {
   "cell_type": "markdown",
   "metadata": {},
   "source": [
    "Use PAGE DOWN key to scroll down so that more videos load\n",
    "### Note: Browser takes some time to load the webpage, so you need to account for that.\n",
    "\n",
    "Use sleep( ) function to allow for the webpage to load"
   ]
  },
  {
   "cell_type": "code",
   "execution_count": 15,
   "metadata": {},
   "outputs": [],
   "source": [
    "for _ in range(5):\n",
    "    actions.send_keys(Keys.PAGE_DOWN).perform()\n",
    "    sleep(5)"
   ]
  },
  {
   "cell_type": "code",
   "execution_count": 16,
   "metadata": {},
   "outputs": [
    {
     "name": "stdout",
     "output_type": "stream",
     "text": [
      "Five Of The Best Onboards Down Under | Australian Grand Prix\n",
      "https://www.youtube.com/watch?v=0ZlNEGhS13I\n",
      "-----\n",
      "The Shortest Race In History | 1991 Australian Grand Prix\n",
      "https://www.youtube.com/watch?v=4Ps29eT1_rs\n",
      "-----\n",
      "Hamilton, Bottas & Wolff: Mercedes on their 2018 title defence\n",
      "https://www.youtube.com/watch?v=8wkBFMw63vI\n",
      "-----\n",
      "F1 Season Launch 2018: Engineered Insanity\n",
      "https://www.youtube.com/watch?v=vtqq_KbfUx0\n",
      "-----\n",
      "Formula 1 Australian Grand Prix\n",
      "https://www.youtube.com/watch?v=52pZxkIzq9Y\n",
      "-----\n",
      "2017 \"F1\" Formula 1 vs Formula E Drag Race! Forza 7\n",
      "https://www.youtube.com/watch?v=pbbXzZ7sTSU\n",
      "-----\n",
      "F1 2018 Season: Who is in the best shape?\n",
      "https://www.youtube.com/watch?v=ben3Yg9M72w\n",
      "-----\n",
      "Lego Formula 1\n",
      "https://www.youtube.com/watch?v=EuKignBh4OU\n",
      "-----\n",
      "Ferrari Formula 1 Corse Clienti - EPIC Line up! V8/V10/V12\n",
      "https://www.youtube.com/watch?v=wtKD8zcGLsU\n",
      "-----\n",
      "MY FORMULA ONE TRAINING REGIME\n",
      "https://www.youtube.com/watch?v=g-KYASQKdSU\n",
      "-----\n",
      "2014 FORMULA 1 RUSSIAN GRAND PRIX - Race Highlights\n",
      "https://www.youtube.com/watch?v=SDH4rBksMyQ\n",
      "-----\n",
      "2014 FORMULA 1 GULF AIR BAHRAIN GRAND PRIX\n",
      "https://www.youtube.com/watch?v=ahqKLbczdoM\n",
      "-----\n",
      "The Most Advanced Formula 1 Simulator In The World - XCAR\n",
      "https://www.youtube.com/watch?v=suXyQKnhs8Q\n",
      "-----\n",
      "2017 Bahrain Grand Prix: Race Highlights\n",
      "https://www.youtube.com/watch?v=6yXvIbKXehw\n",
      "-----\n",
      "2017 F1 Esports Grand Final: The Deciding Race\n",
      "https://www.youtube.com/watch?v=I--xYlIQF0k\n",
      "-----\n",
      "BEST OF FERRARI FORMULA 1 - V8, V10 and V12!\n",
      "https://www.youtube.com/watch?v=jvG2uWyIFrU\n",
      "-----\n",
      "F1: The Top Five Starts Of 2017\n",
      "https://www.youtube.com/watch?v=VjbGdMXG5ZI\n",
      "-----\n",
      "F1: Top 10 Team Radio Clips of 2017\n",
      "https://www.youtube.com/watch?v=_-D1gIo1aXE\n",
      "-----\n",
      "Vettel Wins 2017 Australian Grand Prix | Race Highlights\n",
      "https://www.youtube.com/watch?v=R3cfJCOSq8Q\n",
      "-----\n",
      "F1 Circuit Guide | Abu Dhabi Grand Prix 2016\n",
      "https://www.youtube.com/watch?v=mYZxFsQBSZI\n",
      "-----\n",
      "10 Of The Best Battles Of 2017 | F1 Season So Far\n",
      "https://www.youtube.com/watch?v=yWnUt94c0hA\n",
      "-----\n",
      "Five Of The Best Onboards Down Under | Australian Grand Prix\n",
      "https://www.youtube.com/watch?v=0ZlNEGhS13I\n",
      "-----\n",
      "The Shortest Race In History | 1991 Australian Grand Prix\n",
      "https://www.youtube.com/watch?v=4Ps29eT1_rs\n",
      "-----\n",
      "2017 US Grand Prix: Race Highlights\n",
      "https://www.youtube.com/watch?v=aljfbhxtdyc\n",
      "-----\n",
      "2017 Abu Dhabi Grand Prix:  Race Highlights\n",
      "https://www.youtube.com/watch?v=BXREg5yPf9A\n",
      "-----\n",
      "2017 Monaco Grand Prix: Race Highlights\n",
      "https://www.youtube.com/watch?v=MzQ8CzXRO8A\n",
      "-----\n",
      "2017 Malaysian Grand Prix: Race Highlights\n",
      "https://www.youtube.com/watch?v=02ekLWzzU5s\n",
      "-----\n",
      "F1 Testing 2018 Highlights: Day 6\n",
      "https://www.youtube.com/watch?v=_W44QEop1iA\n",
      "-----\n",
      "The Most Unusual Crashes in F1 History\n",
      "https://www.youtube.com/watch?v=HurubWM67MM\n",
      "-----\n",
      "2017 Belgian Grand Prix | Race Highlights\n",
      "https://www.youtube.com/watch?v=rhmGaCjpoBY\n",
      "-----\n",
      "2017 Italian Grand Prix | Race Highlights\n",
      "https://www.youtube.com/watch?v=1LOPzsVsaA0\n",
      "-----\n",
      "BEST Formula 1 Sounds - V6, V8, V10 and V12\n",
      "https://www.youtube.com/watch?v=qvWxhhi0_yk\n",
      "-----\n",
      "What Do All the Formula 1 Flags Mean?\n",
      "https://www.youtube.com/watch?v=qaQxlikD0MA\n",
      "-----\n",
      "Formula 1 Race Car in the Snow for Fun\n",
      "https://www.youtube.com/watch?v=GciVOgHyywU\n",
      "-----\n",
      "Vettel, Verstappen, Raikkonen Crash In Dramatic Start | 2017 Singapore Grand Prix\n",
      "https://www.youtube.com/watch?v=Pi-qitmfvlI\n",
      "-----\n"
     ]
    }
   ],
   "source": [
    "get_youtube_videos(driver)"
   ]
  },
  {
   "cell_type": "markdown",
   "metadata": {},
   "source": [
    "## Selenium Documentation\n",
    "\n",
    "Documentation containing information about all the functionality of Selenium is available at https://selenium-python.readthedocs.io/"
   ]
  },
  {
   "cell_type": "markdown",
   "metadata": {},
   "source": [
    "# Ethics and Netiquette in Web Scraping\n",
    " \n",
    "The norms around appropriate behavior when collecting information from websites are still emerging, but a general principle is to follow a website's terms of use and, in particular, to follow the restrictions in the _robots.txt_ file present on almost every website. For example, http://airbnb.com/robots.txt explicitly lists subdomains that are disallowed for automatic retrieval, and others (like the sitemap, as of March 20, 2018) that are fine. \n",
    " \n",
    "For some interesting discussions on the academic and journalistic ethics of scraping, see: \n",
    " \n",
    "https://www.mailman.columbia.edu/research/population-health-methods/web-scraping\n",
    "\n",
    "\n",
    "https://gijn.org/2015/08/12/on-the-ethics-of-web-scraping-and-data-journalism/\n",
    "\n",
    "https://sites.stanford.edu/jumpstart-itunconf2015/ethics-legality-and-security-concerns-web-scrapingdata-collection-research \n",
    "\n",
    "(This last site consists just of notes from a discussion at a workshop, but it is fairly intelligible.)\n"
   ]
  },
  {
   "cell_type": "code",
   "execution_count": null,
   "metadata": {},
   "outputs": [],
   "source": []
  }
 ],
 "metadata": {
  "kernelspec": {
   "display_name": "Python 3",
   "language": "python",
   "name": "python3"
  },
  "language_info": {
   "codemirror_mode": {
    "name": "ipython",
    "version": 3
   },
   "file_extension": ".py",
   "mimetype": "text/x-python",
   "name": "python",
   "nbconvert_exporter": "python",
   "pygments_lexer": "ipython3",
   "version": "3.6.4"
  }
 },
 "nbformat": 4,
 "nbformat_minor": 2
}
